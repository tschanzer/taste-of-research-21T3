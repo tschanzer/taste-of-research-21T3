{
 "cells": [
  {
   "cell_type": "markdown",
   "metadata": {},
   "source": [
    "# Making an \"Environment\" class<a class=\"tocSkip\"></a>\n",
    "\n",
    "Thomas Schanzer z5310829  \n",
    "School of Physics, UNSW  \n",
    "September 2021\n",
    "\n",
    "In this notebook, we create an $\\verb |Environment|$ class to group all the functions associated with a particular atmospheric sounding. This will make it easier to handle several different soundings at once."
   ]
  },
  {
   "cell_type": "markdown",
   "metadata": {
    "toc": true
   },
   "source": [
    "<h1>Table of Contents<span class=\"tocSkip\"></span></h1>\n",
    "<div class=\"toc\"><ul class=\"toc-item\"><li><span><a href=\"#The-new-class\" data-toc-modified-id=\"The-new-class-1\"><span class=\"toc-item-num\">1&nbsp;&nbsp;</span>The new class</a></span></li><li><span><a href=\"#Testing\" data-toc-modified-id=\"Testing-2\"><span class=\"toc-item-num\">2&nbsp;&nbsp;</span>Testing</a></span></li></ul></div>"
   ]
  },
  {
   "cell_type": "code",
   "execution_count": 1,
   "metadata": {},
   "outputs": [],
   "source": [
    "import numpy as np\n",
    "import pandas as pd\n",
    "\n",
    "import metpy.calc as mpcalc\n",
    "import metpy.constants as const\n",
    "from metpy.units import units\n",
    "from metpy.units import concatenate\n",
    "\n",
    "from scipy.interpolate import interp1d\n",
    "from scipy.integrate import solve_ivp\n",
    "\n",
    "import sys"
   ]
  },
  {
   "cell_type": "markdown",
   "metadata": {},
   "source": [
    "## The new class"
   ]
  },
  {
   "cell_type": "code",
   "execution_count": 59,
   "metadata": {},
   "outputs": [],
   "source": [
    "class Environment():\n",
    "    def __init__(self, pressure, temperature, dewpoint):\n",
    "        self.pressure_raw = pressure.to(units.mbar)\n",
    "        self.temperature_raw = temperature.to(units.celsius)\n",
    "        self.dewpoint_raw = dewpoint.to(units.celsius)\n",
    "        \n",
    "        self.temperature_interp = interp1d(\n",
    "            self.pressure_raw.m, self.temperature_raw.m, kind='linear')\n",
    "        self.dewpoint_interp = interp1d(\n",
    "            self.pressure_raw.m, self.dewpoint_raw.m, kind='linear')\n",
    "        \n",
    "    def temperature_from_pressure(self, pressure):\n",
    "        \"\"\"\n",
    "        Finds the environmental temperature at a given pressure.\n",
    "        \"\"\"\n",
    "\n",
    "        temperature = self.temperature_interp(pressure.to(units.mbar).m)\n",
    "        return temperature*units.celsius\n",
    "\n",
    "    def dewpoint_from_pressure(self, pressure):\n",
    "        \"\"\"\n",
    "        Finds the environmental dew point at a given pressure.\n",
    "        \"\"\"\n",
    "\n",
    "        dewpoint = self.dewpoint_interp(pressure.to(units.mbar).m)\n",
    "        return dewpoint*units.celsius"
   ]
  },
  {
   "cell_type": "markdown",
   "metadata": {},
   "source": [
    "## Testing"
   ]
  },
  {
   "cell_type": "code",
   "execution_count": 60,
   "metadata": {},
   "outputs": [],
   "source": [
    "file = '../soundings/SYDNEY AIRPORT (94767) 12 Nov 2019 00Z.txt'\n",
    "sounding = pd.read_csv(\n",
    "    file, names=['pressure', 'temperature', 'dewpoint'],\n",
    "    usecols=[0, 2, 3], header=0)\n",
    "sounding = sounding.to_numpy()\n",
    "pressure = sounding[:,0]*units.mbar\n",
    "temperature = sounding[:,1]*units.celsius\n",
    "dewpoint = sounding[:,2]*units.celsius\n",
    "\n",
    "sydney = Environment(pressure, temperature, dewpoint)"
   ]
  },
  {
   "cell_type": "code",
   "execution_count": 64,
   "metadata": {},
   "outputs": [
    {
     "data": {
      "text/html": [
       "-13.02 degree_Celsius"
      ],
      "text/latex": [
       "$-13.02\\ \\mathrm{degree\\_Celsius}$"
      ],
      "text/plain": [
       "-13.02 <Unit('degree_Celsius')>"
      ]
     },
     "execution_count": 64,
     "metadata": {},
     "output_type": "execute_result"
    }
   ],
   "source": [
    "sydney.temperature_from_pressure(500.8*units.mbar)"
   ]
  },
  {
   "cell_type": "code",
   "execution_count": 65,
   "metadata": {},
   "outputs": [
    {
     "data": {
      "text/html": [
       "-23.02 degree_Celsius"
      ],
      "text/latex": [
       "$-23.02\\ \\mathrm{degree\\_Celsius}$"
      ],
      "text/plain": [
       "-23.02 <Unit('degree_Celsius')>"
      ]
     },
     "execution_count": 65,
     "metadata": {},
     "output_type": "execute_result"
    }
   ],
   "source": [
    "sydney.dewpoint_from_pressure(500.8*units.mbar)"
   ]
  },
  {
   "cell_type": "code",
   "execution_count": null,
   "metadata": {},
   "outputs": [],
   "source": []
  }
 ],
 "metadata": {
  "kernelspec": {
   "display_name": "Python 3",
   "language": "python",
   "name": "python3"
  },
  "language_info": {
   "codemirror_mode": {
    "name": "ipython",
    "version": 3
   },
   "file_extension": ".py",
   "mimetype": "text/x-python",
   "name": "python",
   "nbconvert_exporter": "python",
   "pygments_lexer": "ipython3",
   "version": "3.8.5"
  },
  "toc": {
   "base_numbering": 1,
   "nav_menu": {},
   "number_sections": true,
   "sideBar": true,
   "skip_h1_title": false,
   "title_cell": "Table of Contents",
   "title_sidebar": "Contents",
   "toc_cell": true,
   "toc_position": {},
   "toc_section_display": true,
   "toc_window_display": false
  }
 },
 "nbformat": 4,
 "nbformat_minor": 4
}
