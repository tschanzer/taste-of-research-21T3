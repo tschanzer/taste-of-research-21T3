{
 "cells": [
  {
   "cell_type": "markdown",
   "metadata": {},
   "source": [
    "# Modifying the motion function <a class='tocSkip'></a>\n",
    "\n",
    "Thomas Schanzer z5310829  \n",
    "School of Physics, UNSW  \n",
    "September 2021\n",
    "\n",
    "In this notebook, we modify the function currently used to calculate parcel motion, adding the ability to detect when the parcel reaches its neutral buoyancy level and its minimum height or the ground. This will later allow us to, for example, calculate the kinetic energy of a downdraft as it reaches the surface."
   ]
  },
  {
   "cell_type": "markdown",
   "metadata": {
    "toc": true
   },
   "source": [
    "<h1>Table of Contents<span class=\"tocSkip\"></span></h1>\n",
    "<div class=\"toc\"><ul class=\"toc-item\"><li><span><a href=\"#Does-the-parcel-reach-the-surface?-If-so,-when?\" data-toc-modified-id=\"Does-the-parcel-reach-the-surface?-If-so,-when?-1\"><span class=\"toc-item-num\">1&nbsp;&nbsp;</span>Does the parcel reach the surface? If so, when?</a></span></li></ul></div>"
   ]
  },
  {
   "cell_type": "code",
   "execution_count": 1,
   "metadata": {},
   "outputs": [],
   "source": [
    "import numpy as np\n",
    "import pandas as pd\n",
    "import matplotlib.pyplot as plt\n",
    "\n",
    "import metpy.calc as mpcalc\n",
    "import metpy.constants as const\n",
    "from metpy.units import units\n",
    "from metpy.units import concatenate\n",
    "from metpy.plots import SkewT\n",
    "\n",
    "from scipy.interpolate import interp1d\n",
    "from scipy.integrate import solve_ivp\n",
    "\n",
    "from os import mkdir\n",
    "from os.path import exists\n",
    "import sys\n",
    "\n",
    "from functools import partial\n",
    "\n",
    "from environment import Environment"
   ]
  },
  {
   "cell_type": "markdown",
   "metadata": {},
   "source": [
    "## Does the parcel reach the surface? If so, when?\n",
    "\n",
    "We are interested in the properties of downdrafts when they reach the surface. We want to know whether, and at what time, the following events occur:\n",
    "- Buoyancy is zero: parcel has reached neutral buoyancy level\n",
    "    - What are the height and velocity at this time?\n",
    "- Velocity is zero: parcel has reached minimum height without reaching ground; stop integration\n",
    "    - What is the height at this time?\n",
    "- Height is zero: parcel has hit ground; stop integration\n",
    "    - What is the velocity at this time?"
   ]
  },
  {
   "cell_type": "code",
   "execution_count": 2,
   "metadata": {},
   "outputs": [],
   "source": [
    "file = '../soundings/SYDNEY AIRPORT (94767) 12 Nov 2019 00Z.txt'\n",
    "sounding = pd.read_csv(\n",
    "    file, names=['pressure', 'temperature', 'dewpoint'],\n",
    "    usecols=[0, 2, 3], header=0)\n",
    "sounding = sounding.to_numpy()\n",
    "pressure = sounding[:,0]*units.mbar\n",
    "temperature = sounding[:,1]*units.celsius\n",
    "dewpoint = sounding[:,2]*units.celsius\n",
    "\n",
    "sydney = Environment(pressure, temperature, dewpoint)"
   ]
  },
  {
   "cell_type": "code",
   "execution_count": 136,
   "metadata": {},
   "outputs": [],
   "source": [
    "class MotionResult():\n",
    "    \"\"\"\n",
    "    Class for results of parcel motion calculations.\n",
    "    \n",
    "    Attributes:\n",
    "        height: An array of heights, with each row corresponding to a\n",
    "            different initial condition.\n",
    "        velocity: An array of velocitites, with each row corresponding\n",
    "            to a different initial condition.\n",
    "        neutral_buoyancy_time: Times at which parcels reached their\n",
    "            neutral buoyancy levels.\n",
    "        hit_ground_time: Times at which parcels hit the ground.\n",
    "        min_height_time: Times at which parcels reached their minimum\n",
    "            heights (without hitting the ground)\n",
    "        neutral_buoyancy_height: The heights of the neutral buoyancy\n",
    "            levels.\n",
    "        neutral_buoyancy_velocity: The velocities at the neutral\n",
    "            buoyancy levels.\n",
    "        hit_ground_velocity: The velocities with which the parcels hit\n",
    "            the ground.\n",
    "        min_height: The minimum heights of the parcels (that did not hit\n",
    "            the ground).\n",
    "    \"\"\"\n",
    "    \n",
    "    def __init__(\n",
    "            self, height, velocity, neutral_buoyancy_time, hit_ground_time,\n",
    "            min_height_time, neutral_buoyancy_height,\n",
    "            neutral_buoyancy_velocity, hit_ground_velocity, min_height):\n",
    "        \"\"\"\n",
    "        Instantiates a MotionResult.\n",
    "        \"\"\"\n",
    "        \n",
    "        self.height = height\n",
    "        self.velocity = velocity\n",
    "        self.neutral_buoyancy_time = neutral_buoyancy_time\n",
    "        self.hit_ground_time = hit_ground_time\n",
    "        self.min_height_time = min_height_time\n",
    "        self.neutral_buoyancy_height = neutral_buoyancy_height\n",
    "        self.neutral_buoyancy_velocity = neutral_buoyancy_velocity\n",
    "        self.hit_ground_velocity = hit_ground_velocity\n",
    "        self.min_height = min_height"
   ]
  },
  {
   "cell_type": "code",
   "execution_count": 140,
   "metadata": {},
   "outputs": [],
   "source": [
    "def modified_motion(time, initial_height, dq):\n",
    "    \"\"\"\n",
    "    Calculates parcel motion for different specific humidity changes.\n",
    "\n",
    "    Args:\n",
    "        time: Array of time points.\n",
    "        dq_range: Array of initial changes in specific humidity due\n",
    "            to evaporation.\n",
    "        initial_height: Initial height of the parcels.\n",
    "\n",
    "    Returns:\n",
    "        A MotionResult object.\n",
    "    \"\"\"\n",
    "    \n",
    "    # independent variables\n",
    "    initial_height = np.atleast_1d(initial_height).to(units.meter).m\n",
    "    dq = np.atleast_1d(dq)\n",
    "    if len(initial_height) != len(dq):\n",
    "        raise ValueError(\n",
    "            'Initial height and specific humidity change arrays must '\n",
    "            'have the same length.')\n",
    "    initial_state = [[z0, 0] for z0 in initial_height]\n",
    "    time = time.to(units.second).m\n",
    "\n",
    "    def motion_ode(\n",
    "            time, state, initial_height, dq):\n",
    "        \"\"\"\n",
    "        Defines the equation of motion for a parcel.\n",
    "        \"\"\"\n",
    "        \n",
    "        buoyancy = sydney.parcel_buoyancy(\n",
    "            state[0]*units.meter, initial_height*units.meter, dq)\n",
    "        return [state[1], buoyancy.magnitude]\n",
    "    \n",
    "    # event function for solve_ivp, zero when parcel reaches min height\n",
    "    min_height = lambda time, state, *args: state[1]\n",
    "    min_height.direction = 1  # find zero that goes from negative to positive\n",
    "    min_height.terminal = True  # stop integration at minimum height\n",
    "    \n",
    "    # event function for solve_ivp, zero when parcel hits ground\n",
    "    hit_ground = lambda time, state, *args: state[0]\n",
    "    hit_ground.terminal = True  # stop integration at ground\n",
    "\n",
    "    # prepare empty arrays for data\n",
    "    height = np.zeros((len(dq), len(time)))\n",
    "    height[:] = np.nan\n",
    "    velocity = np.zeros((len(dq), len(time)))\n",
    "    velocity[:] = np.nan\n",
    "    \n",
    "    neutral_buoyancy_time = np.zeros(len(dq))\n",
    "    hit_ground_time = np.zeros(len(dq))\n",
    "    min_height_time = np.zeros(len(dq))\n",
    "    \n",
    "    neutral_buoyancy_height = np.zeros(len(dq))\n",
    "    neutral_buoyancy_velocity = np.zeros(len(dq))\n",
    "    hit_ground_velocity = np.zeros(len(dq))\n",
    "    min_height_height = np.zeros(len(dq))\n",
    "    \n",
    "    for i in range(len(dq)):\n",
    "        sys.stdout.write(\n",
    "            '\\rCalculating profile {0} of {1}.'\n",
    "            '   '.format(i+1, len(dq)))\n",
    "        \n",
    "        # event function for solve_ivp, zero when parcel is neutrally\n",
    "        # buoyant\n",
    "        neutral_buoyancy = lambda time, state, *args: motion_ode(\n",
    "            time, state, initial_height[i], dq[i])[1]\n",
    "        \n",
    "        sol = solve_ivp(\n",
    "            motion_ode,\n",
    "            [np.min(time), np.max(time)],\n",
    "            initial_state[i],\n",
    "            t_eval=time,\n",
    "            args=(initial_height[i], dq[i]),\n",
    "            events=[neutral_buoyancy, hit_ground, min_height])\n",
    "        \n",
    "        height[i,:len(sol.y[0,:])] = sol.y[0,:]\n",
    "        velocity[i,:len(sol.y[1,:])] = sol.y[1,:]\n",
    "        \n",
    "        # record times of events\n",
    "        # sol.t_events[i].size == 0 means the event did not occur\n",
    "        neutral_buoyancy_time[i] = (  # record only the first instance\n",
    "            sol.t_events[0][0] if sol.t_events[0].size > 0 else np.nan)\n",
    "        hit_ground_time[i] = (\n",
    "            sol.t_events[1][0] if sol.t_events[1].size > 0 else np.nan)\n",
    "        min_height_time[i] = (\n",
    "            sol.t_events[2][0] if sol.t_events[2].size > 0 else np.nan)\n",
    "        \n",
    "        # record states at event times\n",
    "        neutral_buoyancy_height[i] = (  # record only the first instance\n",
    "            sol.y_events[0][0,0] if sol.y_events[0].size > 0 else np.nan)\n",
    "        neutral_buoyancy_velocity[i] = (  # record only the first instance\n",
    "            sol.y_events[0][0,1] if sol.y_events[0].size > 0 else np.nan)\n",
    "        hit_ground_velocity[i] = (\n",
    "            sol.y_events[1][0,1] if sol.y_events[1].size > 0 else np.nan)\n",
    "        min_height_height[i] = (\n",
    "            sol.y_events[2][0,0] if sol.y_events[2].size > 0 else np.nan)\n",
    "        \n",
    "    result = MotionResult(\n",
    "        np.squeeze(height)*units.meter,\n",
    "        np.squeeze(velocity)*units.meter/units.second,\n",
    "        np.squeeze(neutral_buoyancy_time)*units.second,\n",
    "        np.squeeze(hit_ground_time)*units.second,\n",
    "        np.squeeze(min_height_time)*units.second,\n",
    "        np.squeeze(neutral_buoyancy_height)*units.meter,\n",
    "        np.squeeze(neutral_buoyancy_velocity)*units.meter/units.second,\n",
    "        np.squeeze(hit_ground_velocity)*units.meter/units.second,\n",
    "        np.squeeze(min_height_height)*units.meter)\n",
    "\n",
    "    return result"
   ]
  },
  {
   "cell_type": "code",
   "execution_count": 139,
   "metadata": {},
   "outputs": [
    {
     "name": "stdout",
     "output_type": "stream",
     "text": [
      "Calculating profile 10 of 10.   "
     ]
    }
   ],
   "source": [
    "time = np.arange(0, 500, 10)*units.second\n",
    "dq = np.arange(0, 4.51e-3, 0.5e-3)\n",
    "initial_height = np.ones(len(dq))*2000*units.meter\n",
    "\n",
    "result = modified_motion(time, initial_height, dq)"
   ]
  },
  {
   "cell_type": "code",
   "execution_count": 133,
   "metadata": {},
   "outputs": [
    {
     "data": {
      "text/html": [
       "<table><tbody><tr><th>Magnitude</th><td style='text-align:left;'><pre>[0.0 140.85571820012038 153.38815008148413 nan nan nan nan nan nan nan]</pre></td></tr><tr><th>Units</th><td style='text-align:left;'>second</td></tr></tbody></table>"
      ],
      "text/latex": [
       "$\\begin{pmatrix}0.0 & 140.85571820012038 & 153.38815008148413 & nan & nan & nan & nan & nan & nan & nan\\end{pmatrix}\\ \\mathrm{second}$"
      ],
      "text/plain": [
       "array([  0.        , 140.8557182 , 153.38815008,          nan,\n",
       "                nan,          nan,          nan,          nan,\n",
       "                nan,          nan]) <Unit('second')>"
      ]
     },
     "execution_count": 133,
     "metadata": {},
     "output_type": "execute_result"
    }
   ],
   "source": [
    "result.neutral_buoyancy_time"
   ]
  },
  {
   "cell_type": "code",
   "execution_count": 134,
   "metadata": {},
   "outputs": [
    {
     "data": {
      "text/html": [
       "<table><tbody><tr><th>Magnitude</th><td style='text-align:left;'><pre>[2000.0 1682.973055995609 1271.2990309441689 nan nan nan nan nan nan nan]</pre></td></tr><tr><th>Units</th><td style='text-align:left;'>meter</td></tr></tbody></table>"
      ],
      "text/latex": [
       "$\\begin{pmatrix}2000.0 & 1682.973055995609 & 1271.2990309441689 & nan & nan & nan & nan & nan & nan & nan\\end{pmatrix}\\ \\mathrm{meter}$"
      ],
      "text/plain": [
       "array([2000.        , 1682.973056  , 1271.29903094,           nan,\n",
       "                 nan,           nan,           nan,           nan,\n",
       "                 nan,           nan]) <Unit('meter')>"
      ]
     },
     "execution_count": 134,
     "metadata": {},
     "output_type": "execute_result"
    }
   ],
   "source": [
    "result.neutral_buoyancy_height"
   ]
  },
  {
   "cell_type": "code",
   "execution_count": null,
   "metadata": {},
   "outputs": [],
   "source": []
  }
 ],
 "metadata": {
  "kernelspec": {
   "display_name": "Python 3",
   "language": "python",
   "name": "python3"
  },
  "language_info": {
   "codemirror_mode": {
    "name": "ipython",
    "version": 3
   },
   "file_extension": ".py",
   "mimetype": "text/x-python",
   "name": "python",
   "nbconvert_exporter": "python",
   "pygments_lexer": "ipython3",
   "version": "3.8.5"
  },
  "toc": {
   "base_numbering": 1,
   "nav_menu": {},
   "number_sections": true,
   "sideBar": true,
   "skip_h1_title": false,
   "title_cell": "Table of Contents",
   "title_sidebar": "Contents",
   "toc_cell": true,
   "toc_position": {},
   "toc_section_display": true,
   "toc_window_display": false
  }
 },
 "nbformat": 4,
 "nbformat_minor": 4
}
