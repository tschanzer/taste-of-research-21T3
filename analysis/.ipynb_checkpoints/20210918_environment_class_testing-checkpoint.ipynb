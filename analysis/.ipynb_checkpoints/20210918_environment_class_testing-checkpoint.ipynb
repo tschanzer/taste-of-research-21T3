{
 "cells": [
  {
   "cell_type": "markdown",
   "metadata": {},
   "source": [
    "# Making an \"Environment\" class<a class=\"tocSkip\"></a>\n",
    "\n",
    "Thomas Schanzer z5310829  \n",
    "School of Physics, UNSW  \n",
    "September 2021\n",
    "\n",
    "In this notebook, we create an $\\verb |Environment|$ class to group all the functions associated with a particular atmospheric sounding. This will make it easier to handle several different soundings at once."
   ]
  },
  {
   "cell_type": "markdown",
   "metadata": {
    "toc": true
   },
   "source": [
    "<h1>Table of Contents<span class=\"tocSkip\"></span></h1>\n",
    "<div class=\"toc\"><ul class=\"toc-item\"><li><span><a href=\"#The-new-class\" data-toc-modified-id=\"The-new-class-1\"><span class=\"toc-item-num\">1&nbsp;&nbsp;</span>The new class</a></span></li><li><span><a href=\"#Testing\" data-toc-modified-id=\"Testing-2\"><span class=\"toc-item-num\">2&nbsp;&nbsp;</span>Testing</a></span><ul class=\"toc-item\"><li><span><a href=\"#sydney.temperature(6*units.km)\" data-toc-modified-id=\"sydney.temperature(6*units.km)-2.1\"><span class=\"toc-item-num\">2.1&nbsp;&nbsp;</span>sydney.temperature(6*units.km)</a></span></li></ul></li></ul></div>"
   ]
  },
  {
   "cell_type": "code",
   "execution_count": 91,
   "metadata": {},
   "outputs": [],
   "source": [
    "import numpy as np\n",
    "import pandas as pd\n",
    "\n",
    "import metpy.calc as mpcalc\n",
    "import metpy.constants as const\n",
    "from metpy.units import units\n",
    "from metpy.units import concatenate\n",
    "\n",
    "from scipy.interpolate import interp1d\n",
    "from scipy.integrate import solve_ivp\n",
    "from scipy.optimize import root_scalar\n",
    "\n",
    "import sys"
   ]
  },
  {
   "cell_type": "markdown",
   "metadata": {},
   "source": [
    "## The new class"
   ]
  },
  {
   "cell_type": "code",
   "execution_count": 330,
   "metadata": {},
   "outputs": [],
   "source": [
    "class Environment():\n",
    "    def __init__(self, pressure, temperature, dewpoint):\n",
    "        self.pressure_raw = pressure.to(units.mbar)\n",
    "        self.temperature_raw = temperature.to(units.celsius)\n",
    "        self.dewpoint_raw = dewpoint.to(units.celsius)\n",
    "        \n",
    "        self.temperature_interp = interp1d(\n",
    "            self.pressure_raw.m, self.temperature_raw.m, kind='linear')\n",
    "        self.dewpoint_interp = interp1d(\n",
    "            self.pressure_raw.m, self.dewpoint_raw.m, kind='linear')\n",
    "        \n",
    "        def environment_dzdp(pressure, height):\n",
    "            \"\"\"\n",
    "            Calculates the rate of height change w.r.t. pressure, dz/dp.\n",
    "\n",
    "            Args:\n",
    "                pressure: The pressure at the point of interest, in Pa.\n",
    "                height: The height of the point of interest, in m.\n",
    "\n",
    "            Returns:\n",
    "                The derivative dz/dp in m/Pa.\n",
    "            \"\"\"\n",
    "\n",
    "            pressure = pressure*units.pascal\n",
    "            temperature = self.temperature_from_pressure(pressure)\n",
    "            dewpoint = self.dewpoint_from_pressure(pressure)\n",
    "\n",
    "            specific_humidity = mpcalc.specific_humidity_from_dewpoint(\n",
    "                pressure, dewpoint)\n",
    "            mixing_ratio = mpcalc.mixing_ratio_from_specific_humidity(\n",
    "                specific_humidity)\n",
    "            density = mpcalc.density(pressure, temperature, mixing_ratio)\n",
    "            dzdp = - 1 / (density.to(units.kg/units.meter**3).m * const.g)\n",
    "\n",
    "            return dzdp\n",
    "\n",
    "        # integrate the hydrostatic equation\n",
    "        p_min = np.min(self.pressure_raw).m * 1e2\n",
    "        p_max = np.max(self.pressure_raw).m * 1e2\n",
    "        sol = solve_ivp(\n",
    "            environment_dzdp, (p_max, p_min), [0], \n",
    "            t_eval=np.arange(p_max, p_min - 1e-3, -10e2))\n",
    "        self.pressure_interp_from_height = interp1d(np.squeeze(sol.y), sol.t)\n",
    "        self.height_interp_from_pressure = interp1d(sol.t, np.squeeze(sol.y))\n",
    "\n",
    "        \n",
    "    def temperature_from_pressure(self, pressure):\n",
    "        \"\"\"\n",
    "        Finds the environmental temperature at a given pressure.\n",
    "        \"\"\"\n",
    "\n",
    "        temperature = self.temperature_interp(pressure.to(units.mbar).m)\n",
    "        return temperature*units.celsius\n",
    "\n",
    "    def dewpoint_from_pressure(self, pressure):\n",
    "        \"\"\"\n",
    "        Finds the environmental dew point at a given pressure.\n",
    "        \"\"\"\n",
    "\n",
    "        dewpoint = self.dewpoint_interp(pressure.to(units.mbar).m)\n",
    "        return dewpoint*units.celsius\n",
    "    \n",
    "    def pressure(self, height):\n",
    "        \"\"\"\n",
    "        Finds the environmental pressure at a given height.\n",
    "        \"\"\"\n",
    "\n",
    "        pressure = self.pressure_interp_from_height(height.to(units.meter).m)\n",
    "        return (pressure*units.pascal).to(units.mbar)\n",
    "    \n",
    "    def height(self, pressure):\n",
    "        \"\"\"\n",
    "        Finds the height at a given environmental pressure.\n",
    "        \"\"\"\n",
    "\n",
    "        height = self.height_interp_from_pressure(pressure.to(units.pascal).m)\n",
    "        return height*units.meter\n",
    "\n",
    "    def temperature(self, height):\n",
    "        \"\"\"\n",
    "        Finds the environmental temperature at a given height.\n",
    "        \"\"\"\n",
    "\n",
    "        pressure = self.pressure(height)\n",
    "        temperature = self.temperature_from_pressure(pressure)\n",
    "        return temperature\n",
    "\n",
    "    def dewpoint(self, height):\n",
    "        \"\"\"\n",
    "        Finds the environmental dew point at a given height.\n",
    "        \"\"\"\n",
    "\n",
    "        pressure = self.pressure(height)\n",
    "        dewpoint = self.dewpoint_from_pressure(pressure)\n",
    "        return dewpoint\n",
    "\n",
    "    def specific_humidity(self, height):\n",
    "        \"\"\"\n",
    "        Finds the environmental specific humidity at a given height.\n",
    "        \"\"\"\n",
    "\n",
    "        pressure = self.pressure(height)\n",
    "        dewpoint = self.dewpoint_from_pressure(pressure)\n",
    "        specific_humidity = mpcalc.specific_humidity_from_dewpoint(\n",
    "            pressure, dewpoint)\n",
    "        return specific_humidity\n",
    "    \n",
    "    def temperature_change(self, dq):\n",
    "        \"\"\"\n",
    "        Calculates the temperature change due to evaporation of water.\n",
    "        \"\"\"\n",
    "\n",
    "        dT = (- const.water_heat_vaporization \n",
    "              * dq / const.dry_air_spec_heat_press)\n",
    "        return dT.to(units.delta_degC)\n",
    "    \n",
    "    def dq_root(self, dq, height):\n",
    "        \"\"\"\n",
    "        Calculates the saturated vs. actual specific humidity difference.\n",
    "\n",
    "        Args:\n",
    "            dq: Specific humidity change resulting from evaporation.\n",
    "            height: Initial height of the parcel.\n",
    "\n",
    "        Returns:\n",
    "            The difference between saturated and actual specific\n",
    "                humidity at the temperature that results from the\n",
    "                evaporation.\n",
    "        \"\"\"\n",
    "\n",
    "        pressure = self.pressure(height)\n",
    "        initial_temperature = self.temperature(height)\n",
    "        initial_specific_humidity = self.specific_humidity(height)\n",
    "\n",
    "        final_temperature = initial_temperature + self.temperature_change(dq)\n",
    "        saturation_mixing_ratio = mpcalc.saturation_mixing_ratio(\n",
    "            pressure, final_temperature)\n",
    "        saturation_specific_humidity = \\\n",
    "            mpcalc.specific_humidity_from_mixing_ratio(saturation_mixing_ratio)\n",
    "        return saturation_specific_humidity - initial_specific_humidity - dq\n",
    "\n",
    "    def maximum_specific_humidity_change(self, height):\n",
    "        \"\"\"\n",
    "        Calculates the maximum specific humidity increase for the parcel.\n",
    "\n",
    "        Finds the root of dq_root at the specified height.\n",
    "        \"\"\"\n",
    "\n",
    "        height = np.atleast_1d(height)\n",
    "        sol = [\n",
    "            root_scalar(self.dq_root, args=(z,), bracket=[0, 20e-3]).root\n",
    "            for z in height]\n",
    "        return np.squeeze(concatenate(sol)) * 1\n",
    "    \n",
    "    def density(self, height):\n",
    "        \"\"\"\n",
    "        Finds the environmental density at a given height.\n",
    "        \"\"\"\n",
    "\n",
    "        pressure = self.pressure(height)\n",
    "        dewpoint = self.dewpoint(height)\n",
    "        temperature = self.temperature(height)\n",
    "\n",
    "        specific_humidity = mpcalc.specific_humidity_from_dewpoint(\n",
    "            pressure, dewpoint)\n",
    "        mixing_ratio = mpcalc.mixing_ratio_from_specific_humidity(\n",
    "            specific_humidity)\n",
    "        density = mpcalc.density(pressure, temperature, mixing_ratio)\n",
    "\n",
    "        return density\n",
    "\n",
    "    def parcel_density(self, height, initial_height, specific_humidity_change):\n",
    "        \"\"\"\n",
    "        Calculates the density of a parcel after precipitation.\n",
    "\n",
    "        Args:\n",
    "            height: The height of the parcel.\n",
    "            initial_height: The initial height of the parcel (i.e., its\n",
    "                height when the precipitation occurred).\n",
    "            specific_humidity_change: The change in specific humidity\n",
    "                that resulted from the precipitation.\n",
    "\n",
    "        Returns:\n",
    "            The density of the parcel.\n",
    "        \"\"\"\n",
    "\n",
    "        initial_pressure = self.pressure(initial_height)\n",
    "        pressure = self.pressure(height)\n",
    "        initial_temperature = (self.temperature(initial_height)\n",
    "                               + self.temperature_change(\n",
    "                                   specific_humidity_change))\n",
    "        specific_humidity = (self.specific_humidity(initial_height)\n",
    "                             + specific_humidity_change)\n",
    "        mixing_ratio = mpcalc.mixing_ratio_from_specific_humidity(\n",
    "            specific_humidity)\n",
    "        temperature = mpcalc.dry_lapse(\n",
    "            pressure, initial_temperature, reference_pressure=initial_pressure)\n",
    "        density = mpcalc.density(pressure, temperature, mixing_ratio)\n",
    "\n",
    "        return density\n",
    "\n",
    "    def parcel_buoyancy(\n",
    "            self, height, initial_height, specific_humidity_change):\n",
    "        \"\"\"\n",
    "        Calculates the buoyancy of a parcel after precipitation.\n",
    "\n",
    "        Args:\n",
    "            height: The height of the parcel.\n",
    "            initial_height: The initial height of the parcel (i.e., its\n",
    "                height when the precipitation occurred).\n",
    "            specific_humidity_change: The change in specific humidity\n",
    "                that resulted from the precipitation.\n",
    "\n",
    "        Returns:\n",
    "            The buoyant force per unit mass on the parcel.\n",
    "        \"\"\"\n",
    "\n",
    "        environment_density = self.density(height)\n",
    "        density = self.parcel_density(\n",
    "            height, initial_height, specific_humidity_change)\n",
    "        buoyancy = (environment_density - density) / density * const.g\n",
    "        return buoyancy\n",
    "    \n",
    "    def parcel_buoyancy_root_function(\n",
    "            self, height, initial_height, specific_humidity_change):\n",
    "        \"\"\"\n",
    "        Calculates the buoyancy of a parcel after precipitation.\n",
    "\n",
    "        Args:\n",
    "            height: The height of the parcel in metres, as a dimensionless\n",
    "                number.\n",
    "            initial_height: The initial height of the parcel (i.e., its\n",
    "                height when the precipitation occurred).\n",
    "            specific_humidity_change: The change in specific humidity\n",
    "                that resulted from the precipitation.\n",
    "\n",
    "        Returns:\n",
    "            The buoyant force per unit mass on the parcel.\n",
    "        \"\"\"\n",
    "\n",
    "        buoyancy = self.parcel_buoyancy(\n",
    "            height*units.meter, initial_height, specific_humidity_change).m\n",
    "        return buoyancy\n",
    "\n",
    "    def neutral_buoyancy_level(self, initial_height, specific_humidity_change):\n",
    "        \"\"\"\n",
    "        Calculates the neutral buoyancy height of a parcel.\n",
    "\n",
    "        Args:\n",
    "            initial_height: The initial height of the parcel.\n",
    "            specific_humidity_change: The change in specific humidity due to\n",
    "                evaporation.\n",
    "\n",
    "        Returns:\n",
    "            The height at which the buoyancy of the parcel is zero.\n",
    "        \"\"\"\n",
    "\n",
    "        initial_height = np.atleast_1d(initial_height)\n",
    "        specific_humidity_change = np.atleast_1d(specific_humidity_change)\n",
    "        sol = np.zeros((len(initial_height), len(specific_humidity_change)))\n",
    "        max_height = self.height(np.min(self.pressure_raw) + 10*units.mbar).m\n",
    "\n",
    "        for i, z0 in enumerate(initial_height):\n",
    "            for ii, dq in enumerate(specific_humidity_change):\n",
    "                if dq <= self.maximum_specific_humidity_change(z0):\n",
    "                    try:\n",
    "                        sol[i,ii] = root_scalar(\n",
    "                            self.parcel_buoyancy_root_function,\n",
    "                            args=(z0, dq),\n",
    "                            x0=z0.to(units.meter).m, x1=0\n",
    "#                             bracket=[0, z0.to(units.meter).m]\n",
    "                        ).root\n",
    "                    except ValueError:\n",
    "                        sol[i,ii] = 0\n",
    "                else:\n",
    "                    sol[i,ii] = np.nan\n",
    "\n",
    "        return np.squeeze(sol)/1e3*units.km\n",
    "    \n",
    "    def motion_from_dq(self, time, dq_range, initial_height):\n",
    "        def motion_ode(\n",
    "                time, state, initial_height, specific_humidity_change):\n",
    "            buoyancy = self.parcel_buoyancy(\n",
    "                state[0]*units.meter, initial_height, specific_humidity_change)\n",
    "            return [state[1], buoyancy.magnitude]\n",
    "        \n",
    "        dq_range = np.atleast_1d(dq_range)\n",
    "        initial_state = [initial_height.to(units.meter).m, 0]\n",
    "        height = np.zeros((len(dq_range), len(time)))\n",
    "        velocity = np.zeros((len(dq_range), len(time)))\n",
    "        time = time.to(units.second).m\n",
    "\n",
    "        for i in range(len(dq_range)):\n",
    "            sol = solve_ivp(\n",
    "                motion_ode, [np.min(time), np.max(time)], initial_state,\n",
    "                t_eval=time, args=(initial_height, dq_range[i]))\n",
    "            height[i,:] = sol.y[0,:]\n",
    "            velocity[i,:] = sol.y[1,:]\n",
    "            sys.stdout.write(\n",
    "                '\\rCalculating profile {0} of {1}.'\n",
    "                '   '.format(i+1, len(dq_range)))\n",
    "            \n",
    "        return (np.squeeze(height)*units.meter,\n",
    "                np.squeeze(velocity)*units.meter/units.second)\n",
    "    \n",
    "    def motion_from_height(self, time, initial_height_range, dq):\n",
    "        def motion_ode(\n",
    "                time, state, initial_height, specific_humidity_change):\n",
    "            buoyancy = self.parcel_buoyancy(\n",
    "                state[0]*units.meter, initial_height,\n",
    "                specific_humidity_change)\n",
    "            return [state[1], buoyancy.magnitude]\n",
    "        \n",
    "        initial_height_range = np.atleast_1d(\n",
    "            initial_height_range).to(units.meter)\n",
    "        initial_state = np.array([[z0,m, 0] for z0 in initial_height_range])\n",
    "\n",
    "        height = np.zeros((len(initial_height_range), len(time)))\n",
    "        velocity = np.zeros((len(initial_height_range), len(time)))\n",
    "        time = time.to(units.second).m\n",
    "\n",
    "        for i in range(len(initial_height_range)):\n",
    "            sol = solve_ivp(\n",
    "                motion_ode, [np.min(time), np.max(time)],\n",
    "                initial_state[i,:], t_eval=time,\n",
    "                args=(initial_height_range[i], dq))\n",
    "            height[i,:] = sol.y[0,:]\n",
    "            velocity[i,:] = sol.y[1,:]\n",
    "            sys.stdout.write(\n",
    "                '\\rCalculating profile {0} of {1}.'\n",
    "                '   '.format(i+1, initial_state.shape[0]))\n",
    "            \n",
    "        return (np.squeeze(height)*units.meter,\n",
    "                np.squeeze(velocity)*units.meter/units.second)"
   ]
  },
  {
   "cell_type": "markdown",
   "metadata": {},
   "source": [
    "## Testing"
   ]
  },
  {
   "cell_type": "code",
   "execution_count": 69,
   "metadata": {},
   "outputs": [],
   "source": [
    "file = '../soundings/SYDNEY AIRPORT (94767) 12 Nov 2019 00Z.txt'\n",
    "sounding = pd.read_csv(\n",
    "    file, names=['pressure', 'temperature', 'dewpoint'],\n",
    "    usecols=[0, 2, 3], header=0)\n",
    "sounding = sounding.to_numpy()\n",
    "pressure = sounding[:,0]*units.mbar\n",
    "temperature = sounding[:,1]*units.celsius\n",
    "dewpoint = sounding[:,2]*units.celsius"
   ]
  },
  {
   "cell_type": "code",
   "execution_count": 289,
   "metadata": {},
   "outputs": [],
   "source": [
    "sydney = Environment(pressure, temperature, dewpoint)"
   ]
  },
  {
   "cell_type": "code",
   "execution_count": 71,
   "metadata": {},
   "outputs": [
    {
     "data": {
      "text/html": [
       "-13.02 degree_Celsius"
      ],
      "text/latex": [
       "$-13.02\\ \\mathrm{degree\\_Celsius}$"
      ],
      "text/plain": [
       "-13.02 <Unit('degree_Celsius')>"
      ]
     },
     "execution_count": 71,
     "metadata": {},
     "output_type": "execute_result"
    }
   ],
   "source": [
    "sydney.temperature_from_pressure(500.8*units.mbar)"
   ]
  },
  {
   "cell_type": "code",
   "execution_count": 72,
   "metadata": {},
   "outputs": [
    {
     "data": {
      "text/html": [
       "-23.02 degree_Celsius"
      ],
      "text/latex": [
       "$-23.02\\ \\mathrm{degree\\_Celsius}$"
      ],
      "text/plain": [
       "-23.02 <Unit('degree_Celsius')>"
      ]
     },
     "execution_count": 72,
     "metadata": {},
     "output_type": "execute_result"
    }
   ],
   "source": [
    "sydney.dewpoint_from_pressure(500.8*units.mbar)"
   ]
  },
  {
   "cell_type": "code",
   "execution_count": 74,
   "metadata": {},
   "outputs": [
    {
     "data": {
      "text/html": [
       "482.14886087405984 millibar"
      ],
      "text/latex": [
       "$482.14886087405984\\ \\mathrm{millibar}$"
      ],
      "text/plain": [
       "482.14886087405984 <Unit('millibar')>"
      ]
     },
     "execution_count": 74,
     "metadata": {},
     "output_type": "execute_result"
    }
   ],
   "source": [
    "sydney.pressure(6*units.km)"
   ]
  },
  {
   "cell_type": "code",
   "execution_count": 170,
   "metadata": {},
   "outputs": [
    {
     "data": {
      "text/html": [
       "24843.746003602242 meter"
      ],
      "text/latex": [
       "$24843.746003602242\\ \\mathrm{meter}$"
      ],
      "text/plain": [
       "24843.746003602242 <Unit('meter')>"
      ]
     },
     "execution_count": 170,
     "metadata": {},
     "output_type": "execute_result"
    }
   ],
   "source": [
    "sydney.height(np.min(pressure) + 10*units.mbar)"
   ]
  },
  {
   "cell_type": "code",
   "execution_count": 163,
   "metadata": {},
   "outputs": [
    {
     "data": {
      "text/html": [
       "-15.766917170622385 degree_Celsius"
      ],
      "text/latex": [
       "$-15.766917170622385\\ \\mathrm{degree\\_Celsius}$"
      ],
      "text/plain": [
       "-15.766917170622385 <Unit('degree_Celsius')>"
      ]
     },
     "execution_count": 163,
     "metadata": {},
     "output_type": "execute_result"
    }
   ],
   "source": [
    "sydney.temperature(6*units.km)"
   ]
  },
  {
   "cell_type": "code",
   "execution_count": 164,
   "metadata": {},
   "outputs": [
    {
     "data": {
      "text/html": [
       "-24.13235503378931 degree_Celsius"
      ],
      "text/latex": [
       "$-24.13235503378931\\ \\mathrm{degree\\_Celsius}$"
      ],
      "text/plain": [
       "-24.13235503378931 <Unit('degree_Celsius')>"
      ]
     },
     "execution_count": 164,
     "metadata": {},
     "output_type": "execute_result"
    }
   ],
   "source": [
    "sydney.dewpoint(6*units.km)"
   ]
  },
  {
   "cell_type": "code",
   "execution_count": 109,
   "metadata": {},
   "outputs": [
    {
     "data": {
      "text/html": [
       "0.001129419787133389 dimensionless"
      ],
      "text/latex": [
       "$0.001129419787133389\\ dimensionless$"
      ],
      "text/plain": [
       "0.001129419787133389 <Unit('dimensionless')>"
      ]
     },
     "execution_count": 109,
     "metadata": {},
     "output_type": "execute_result"
    }
   ],
   "source": [
    "sydney.specific_humidity(6*units.km)"
   ]
  },
  {
   "cell_type": "code",
   "execution_count": 135,
   "metadata": {},
   "outputs": [
    {
     "data": {
      "text/html": [
       "0.0008259345512044625 dimensionless"
      ],
      "text/latex": [
       "$0.0008259345512044625\\ dimensionless$"
      ],
      "text/plain": [
       "0.0008259345512044625 <Unit('dimensionless')>"
      ]
     },
     "execution_count": 135,
     "metadata": {},
     "output_type": "execute_result"
    }
   ],
   "source": [
    "sydney.maximum_specific_humidity_change(6*units.km)"
   ]
  },
  {
   "cell_type": "code",
   "execution_count": 303,
   "metadata": {},
   "outputs": [
    {
     "data": {
      "text/html": [
       "0.1068066768034038 meter/second<sup>2</sup>"
      ],
      "text/latex": [
       "$0.1068066768034038\\ \\frac{\\mathrm{meter}}{\\mathrm{second}^{2}}$"
      ],
      "text/plain": [
       "0.1068066768034038 <Unit('meter / second ** 2')>"
      ]
     },
     "execution_count": 303,
     "metadata": {},
     "output_type": "execute_result"
    }
   ],
   "source": [
    "sydney.parcel_buoyancy(3*units.km, 5*units.km, 1e-3)"
   ]
  },
  {
   "cell_type": "code",
   "execution_count": 307,
   "metadata": {},
   "outputs": [
    {
     "data": {
      "text/html": [
       "3.6705014855684275 kilometer"
      ],
      "text/latex": [
       "$3.6705014855684275\\ \\mathrm{kilometer}$"
      ],
      "text/plain": [
       "3.6705014855684275 <Unit('kilometer')>"
      ]
     },
     "execution_count": 307,
     "metadata": {},
     "output_type": "execute_result"
    }
   ],
   "source": [
    "sydney.neutral_buoyancy_level(5*units.km, 1e-3)"
   ]
  },
  {
   "cell_type": "code",
   "execution_count": null,
   "metadata": {},
   "outputs": [],
   "source": []
  }
 ],
 "metadata": {
  "kernelspec": {
   "display_name": "Python 3",
   "language": "python",
   "name": "python3"
  },
  "language_info": {
   "codemirror_mode": {
    "name": "ipython",
    "version": 3
   },
   "file_extension": ".py",
   "mimetype": "text/x-python",
   "name": "python",
   "nbconvert_exporter": "python",
   "pygments_lexer": "ipython3",
   "version": "3.8.5"
  },
  "toc": {
   "base_numbering": 1,
   "nav_menu": {},
   "number_sections": true,
   "sideBar": true,
   "skip_h1_title": false,
   "title_cell": "Table of Contents",
   "title_sidebar": "Contents",
   "toc_cell": true,
   "toc_position": {},
   "toc_section_display": true,
   "toc_window_display": false
  }
 },
 "nbformat": 4,
 "nbformat_minor": 4
}
