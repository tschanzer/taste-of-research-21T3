{
 "cells": [
  {
   "cell_type": "markdown",
   "metadata": {},
   "source": [
    "# Motion with entrainment <a class='tocSkip'></a>\n",
    "\n",
    "Thomas Schanzer z5310829  \n",
    "School of Physics, UNSW  \n",
    "October 2021\n",
    "\n",
    "In this notebook, we model the motion of an entraining parcel."
   ]
  },
  {
   "cell_type": "markdown",
   "metadata": {
    "toc": true
   },
   "source": [
    "<h1>Table of Contents<span class=\"tocSkip\"></span></h1>\n",
    "<div class=\"toc\"><ul class=\"toc-item\"><li><span><a href=\"#Parcel-density\" data-toc-modified-id=\"Parcel-density-1\"><span class=\"toc-item-num\">1&nbsp;&nbsp;</span>Parcel density</a></span></li><li><span><a href=\"#Parcel-buoyancy\" data-toc-modified-id=\"Parcel-buoyancy-2\"><span class=\"toc-item-num\">2&nbsp;&nbsp;</span>Parcel buoyancy</a></span></li><li><span><a href=\"#Parcel-motion\" data-toc-modified-id=\"Parcel-motion-3\"><span class=\"toc-item-num\">3&nbsp;&nbsp;</span>Parcel motion</a></span></li><li><span><a href=\"#Testing\" data-toc-modified-id=\"Testing-4\"><span class=\"toc-item-num\">4&nbsp;&nbsp;</span>Testing</a></span></li><li><span><a href=\"#Summary-of-the-work-up-to-this-point\" data-toc-modified-id=\"Summary-of-the-work-up-to-this-point-5\"><span class=\"toc-item-num\">5&nbsp;&nbsp;</span>Summary of the work up to this point</a></span><ul class=\"toc-item\"><li><span><a href=\"#Main-achievements/results\" data-toc-modified-id=\"Main-achievements/results-5.1\"><span class=\"toc-item-num\">5.1&nbsp;&nbsp;</span>Main achievements/results</a></span></li></ul></li><li><span><a href=\"#Code-structure\" data-toc-modified-id=\"Code-structure-6\"><span class=\"toc-item-num\">6&nbsp;&nbsp;</span>Code structure</a></span></li><li><span><a href=\"#Next-steps\" data-toc-modified-id=\"Next-steps-7\"><span class=\"toc-item-num\">7&nbsp;&nbsp;</span>Next steps</a></span></li></ul></div>"
   ]
  },
  {
   "cell_type": "code",
   "execution_count": 1,
   "metadata": {},
   "outputs": [],
   "source": [
    "import numpy as np\n",
    "import pandas as pd\n",
    "import matplotlib.pyplot as plt\n",
    "\n",
    "import metpy.calc as mpcalc\n",
    "from metpy.units import units\n",
    "import metpy.constants as const\n",
    "from metpy.units import concatenate\n",
    "\n",
    "from scipy.integrate import solve_ivp\n",
    "\n",
    "import sys\n",
    "\n",
    "sys.path.append('../../scripts/')\n",
    "from environment import Environment\n",
    "from thermo import moist_lapse, descend, saturation_specific_humidity\n",
    "from entraining_parcel import EntrainingParcel"
   ]
  },
  {
   "cell_type": "code",
   "execution_count": 2,
   "metadata": {},
   "outputs": [],
   "source": [
    "file = '../../soundings/SYDNEY AIRPORT (94767) 12 Nov 2019 00Z.txt'\n",
    "sounding = pd.read_csv(\n",
    "    file, names=['pressure', 'height', 'temperature', 'dewpoint'],\n",
    "    usecols=[0, 1, 2, 3], header=0)\n",
    "sounding = sounding.to_numpy()\n",
    "pressure = sounding[:,0]*units.mbar\n",
    "height = sounding[:,1]*units.meter\n",
    "temperature = sounding[:,2]*units.celsius\n",
    "dewpoint = sounding[:,3]*units.celsius\n",
    "sydney = Environment(\n",
    "    pressure, height, temperature, dewpoint,\n",
    "    info='SYDNEY AIRPORT (94767) 12 Nov 2019 00Z', name='Sydney')"
   ]
  },
  {
   "cell_type": "code",
   "execution_count": 3,
   "metadata": {},
   "outputs": [],
   "source": [
    "# create an instance of the entrainment calculations class\n",
    "parcel = EntrainingParcel(sydney)"
   ]
  },
  {
   "cell_type": "markdown",
   "metadata": {},
   "source": [
    "## Parcel density\n",
    "\n",
    "Now that we know the temperature of an entraining parcel as a function of height, it is a very simple matter to determine its density."
   ]
  },
  {
   "cell_type": "code",
   "execution_count": 4,
   "metadata": {},
   "outputs": [],
   "source": [
    "def parcel_density(\n",
    "        height, initial_height, t_initial, q_initial, l_initial, rate, step):\n",
    "    \"\"\"\n",
    "    Calculates parcel density as a function of height.\n",
    "    \n",
    "    Args:\n",
    "        height: Height of the parcel.\n",
    "        initial_height: Initial height.\n",
    "        t_initial: Initial temperature.\n",
    "        q_initial: Initial specific humidity.\n",
    "        l_initial: Initial liquid ratio.\n",
    "        rate: Entrainment rate.\n",
    "        step: Step size for entrainment calculation.\n",
    "    \n",
    "    Returns:\n",
    "        The density of the parcel at <height>.\n",
    "    \"\"\"\n",
    "    \n",
    "    t_final, q_final, l_final = parcel.profile(\n",
    "        height, t_initial, q_initial, l_initial, rate, dz=step,\n",
    "        reference_height=initial_height)\n",
    "    r_final = mpcalc.mixing_ratio_from_specific_humidity(q_final)\n",
    "    p_final = parcel._env.pressure(height)\n",
    "    \n",
    "    gas_density = mpcalc.density(p_final, t_final, r_final)\n",
    "    return gas_density/(1 - l_final)  # liquid mass correction"
   ]
  },
  {
   "cell_type": "markdown",
   "metadata": {},
   "source": [
    "## Parcel buoyancy\n",
    "\n",
    "Knowing the parcel and environment densities, we calculate the parcel's buoyancy."
   ]
  },
  {
   "cell_type": "code",
   "execution_count": 5,
   "metadata": {},
   "outputs": [],
   "source": [
    "def buoyancy(\n",
    "        height, initial_height, t_initial, q_initial, l_initial, rate,\n",
    "        step=50*units.meter):\n",
    "    \"\"\"\n",
    "    Calculates parcel buoyancy as a function of height.\n",
    "    \n",
    "    Args:\n",
    "        height: Height of the parcel.\n",
    "        initial_height: Initial height.\n",
    "        t_initial: Initial temperature.\n",
    "        q_initial: Initial specific humidity.\n",
    "        l_initial: Initial liquid ratio.\n",
    "        rate: Entrainment rate.\n",
    "        step: Step size for entrainment calculation.\n",
    "    \n",
    "    Returns:\n",
    "        The buoyancy of the parcel at <height>.\n",
    "    \"\"\"\n",
    "    \n",
    "    env_density = parcel._env.density(height)\n",
    "    pcl_density = parcel_density(\n",
    "        height, initial_height, t_initial, q_initial, l_initial, rate, step)\n",
    "    \n",
    "    return (env_density - pcl_density)/pcl_density*const.g"
   ]
  },
  {
   "cell_type": "code",
   "execution_count": 7,
   "metadata": {},
   "outputs": [
    {
     "data": {
      "text/html": [
       "-0.0942799870411415 meter/second<sup>2</sup>"
      ],
      "text/latex": [
       "$-0.0942799870411415\\ \\frac{\\mathrm{meter}}{\\mathrm{second}^{2}}$"
      ],
      "text/plain": [
       "-0.0942799870411415 <Unit('meter / second ** 2')>"
      ]
     },
     "execution_count": 7,
     "metadata": {},
     "output_type": "execute_result"
    }
   ],
   "source": [
    "# a quick test\n",
    "t_initial = -10*units.celsius\n",
    "q_initial = saturation_specific_humidity(sydney.pressure(5*units.km), t_initial)\n",
    "l_initial = 2e-3\n",
    "\n",
    "buoyancy(5*units.km, 5*units.km, t_initial, q_initial, l_initial, 1/units.km)"
   ]
  },
  {
   "cell_type": "markdown",
   "metadata": {},
   "source": [
    "## Parcel motion\n",
    "\n",
    "In a very similar manner to our earlier work, we define the parcel's equation of motion using its buoyancy, and solve it numerically."
   ]
  },
  {
   "cell_type": "code",
   "execution_count": 19,
   "metadata": {},
   "outputs": [],
   "source": [
    "class MotionResult:\n",
    "    pass\n",
    "\n",
    "def motion(\n",
    "        time, initial_height, initial_velocity, t_initial, q_initial,\n",
    "        l_initial, rate, step=50*units.meter):\n",
    "    \"\"\"\n",
    "    Solves the equation of motion for the parcel.\n",
    "    \n",
    "    Args:\n",
    "        time: Array of times for which the results will be reported.\n",
    "        initial_height: Initial height.\n",
    "        initial_velocity: Initial vertical velocity.\n",
    "        t_initial: Initial temperature.\n",
    "        q_initial: Initial specific humidity.\n",
    "        l_initial: Initial liquid ratio.\n",
    "        rate: Entrainment rate.\n",
    "        step: Step size for entrainment calculation.\n",
    "    \n",
    "    Returns:\n",
    "        An instance of MotionResult.\n",
    "    \"\"\"\n",
    "    \n",
    "    def motion_ode(time, state, *args):\n",
    "        height = np.max([state[0], 0])*units.meter\n",
    "        b = buoyancy(height, *args)\n",
    "        return [state[1], b.m]\n",
    "    \n",
    "    initial_height = initial_height.m_as(units.meter)\n",
    "    initial_velocity = initial_velocity.m_as(units.meter/units.second)\n",
    "    time = time.to(units.second).m\n",
    "    \n",
    "    # event function for solve_ivp, zero when parcel reaches min height\n",
    "    min_height = lambda time, state, *args: state[1]\n",
    "    min_height.direction = 1  # find zero that goes from - to +\n",
    "    min_height.terminal = True  # stop integration at minimum height\n",
    "\n",
    "    # event function for solve_ivp, zero when parcel hits ground\n",
    "    hit_ground = lambda time, state, *args: state[0]\n",
    "    hit_ground.terminal = True  # stop integration at ground\n",
    "    \n",
    "    # event function for solve_ivp, zero when parcel is neutrally\n",
    "    # buoyant\n",
    "    neutral_buoyancy = lambda time, state, *args: motion_ode(\n",
    "        time, state, *args)[1]\n",
    "\n",
    "    # prepare empty arrays for data\n",
    "    height = np.zeros(len(time))\n",
    "    height[:] = np.nan\n",
    "    velocity = np.zeros(len(time))\n",
    "    velocity[:] = np.nan\n",
    "\n",
    "    sol = solve_ivp(\n",
    "        motion_ode,\n",
    "        [np.min(time), np.max(time)],\n",
    "        [initial_height, initial_velocity],\n",
    "        t_eval=time,\n",
    "        args=(\n",
    "            initial_height*units.meter, t_initial,\n",
    "            q_initial, l_initial, rate, step),\n",
    "        events=[neutral_buoyancy, hit_ground, min_height])\n",
    "\n",
    "    height[:len(sol.y[0,:])] = sol.y[0,:]\n",
    "    velocity[:len(sol.y[1,:])] = sol.y[1,:]\n",
    "\n",
    "    # record times of events\n",
    "    # sol.t_events[i].size == 0 means the event did not occur\n",
    "    neutral_buoyancy_time = (  # record only the first instance\n",
    "        sol.t_events[0][0] if sol.t_events[0].size > 0 else np.nan)\n",
    "    hit_ground_time = (\n",
    "        sol.t_events[1][0] if sol.t_events[1].size > 0 else np.nan)\n",
    "    min_height_time = (\n",
    "        sol.t_events[2][0] if sol.t_events[2].size > 0 else np.nan)\n",
    "\n",
    "    # record states at event times\n",
    "    neutral_buoyancy_height = (  # record only the first instance\n",
    "        sol.y_events[0][0,0] if sol.y_events[0].size > 0 else np.nan)\n",
    "    neutral_buoyancy_velocity = (  # record only the first instance\n",
    "        sol.y_events[0][0,1] if sol.y_events[0].size > 0 else np.nan)\n",
    "    hit_ground_velocity = (\n",
    "        sol.y_events[1][0,1] if sol.y_events[1].size > 0 else np.nan)\n",
    "    min_height_height = (\n",
    "        sol.y_events[2][0,0] if sol.y_events[2].size > 0 else np.nan)\n",
    "\n",
    "    result = MotionResult()\n",
    "    result.height = height*units.meter\n",
    "    result.velocity = velocity*units.meter/units.second\n",
    "    result.neutral_buoyancy_time = neutral_buoyancy_time*units.second\n",
    "    result.hit_ground_time = hit_ground_time*units.second\n",
    "    result.min_height_time = min_height_time*units.second\n",
    "    result.neutral_buoyancy_height = neutral_buoyancy_height*units.meter\n",
    "    result.neutral_buoyancy_velocity = (\n",
    "        neutral_buoyancy_velocity*units.meter/units.second)\n",
    "    result.hit_ground_velocity = hit_ground_velocity*units.meter/units.second\n",
    "    result.min_height = min_height_height*units.meter\n",
    "\n",
    "    return result"
   ]
  },
  {
   "cell_type": "markdown",
   "metadata": {},
   "source": [
    "## Testing\n",
    "\n",
    "Everything works well!"
   ]
  },
  {
   "cell_type": "code",
   "execution_count": 32,
   "metadata": {},
   "outputs": [
    {
     "name": "stdout",
     "output_type": "stream",
     "text": [
      "CPU times: user 1min 16s, sys: 439 ms, total: 1min 17s\n",
      "Wall time: 1min 17s\n"
     ]
    }
   ],
   "source": [
    "%%time\n",
    "t_initial = -10*units.celsius\n",
    "q_initial = saturation_specific_humidity(\n",
    "    sydney.pressure(5*units.km), t_initial)\n",
    "l_initial = 2e-3\n",
    "time = np.arange(0, 10*60, 30)*units.second\n",
    "\n",
    "result1 = motion(\n",
    "    time, 5*units.km, 0*units.meter/units.second, t_initial, q_initial,\n",
    "    l_initial, 0.5/units.km)\n",
    "result2 = motion(\n",
    "    time, 5*units.km, 0*units.meter/units.second, t_initial, q_initial,\n",
    "    l_initial, 1/units.km)\n",
    "result0 = motion(\n",
    "    time, 5*units.km, 0*units.meter/units.second, t_initial, q_initial,\n",
    "    l_initial, 0/units.km)"
   ]
  },
  {
   "cell_type": "code",
   "execution_count": 38,
   "metadata": {},
   "outputs": [
    {
     "data": {
      "image/png": "[encoded data removed]",
      "text/plain": [
       "<Figure size 864x360 with 2 Axes>"
      ]
     },
     "metadata": {
      "needs_background": "light"
     },
     "output_type": "display_data"
    }
   ],
   "source": [
    "fig = plt.figure(figsize=(12,5))\n",
    "\n",
    "ax = fig.add_subplot(121)\n",
    "ax.plot(time.m_as(units.minute), result0.height, label='0')\n",
    "ax.plot(time.m_as(units.minute), result1.height, label='0.5')\n",
    "ax.plot(time.m_as(units.minute), result2.height, label='1')\n",
    "ax.set(\n",
    "    xlabel='Time (min)',\n",
    "    ylabel='Height (m)',\n",
    "    title='Height')\n",
    "ax.grid()\n",
    "lgd = ax.legend()\n",
    "lgd.set_title('Entrainment rate (/km)')\n",
    "\n",
    "ax = fig.add_subplot(122)\n",
    "ax.plot(time.m_as(units.minute), result0.velocity, label='0')\n",
    "ax.plot(time.m_as(units.minute), result1.velocity, label='0.5')\n",
    "ax.plot(time.m_as(units.minute), result2.velocity, label='1')\n",
    "ax.set(\n",
    "    xlabel='Time (min)',\n",
    "    ylabel='Velocity (m/s)',\n",
    "    title='Vertical velocity')\n",
    "ax.grid()\n",
    "lgd = ax.legend()\n",
    "lgd.set_title('Entrainment rate (/km)')\n",
    "\n",
    "fig.tight_layout()\n",
    "fig.suptitle(\n",
    "    'Parcel motion, Sydney\\n Initial values: $T = -10^\\circ$C, $q=q^*$, '\n",
    "    '2 g/kg liquid water', y=1.1)\n",
    "plt.show()"
   ]
  },
  {
   "cell_type": "markdown",
   "metadata": {},
   "source": [
    "- The entraining parcels descend less because mixing causes them to come into equilibrium with the environment sooner.\n",
    "- Their maximum velocities are thus lower (and more realistic!)."
   ]
  },
  {
   "cell_type": "markdown",
   "metadata": {},
   "source": [
    "## Summary of the work up to this point\n",
    "\n",
    "1. We started by familiarising ourself with MetPy and how to calculate the temperature of a descending parcel as a function of pressure.\n",
    "2. We then considered three regimes under which an environmental parcel might become negatively buoyant and descend:\n",
    "    1. The dry regime: precipitation falls into a parcel, evaporating some water but not enough to saturate it. The parcel descends dry adiabatically.\n",
    "    2. The saturated regime: The parcel is saturated by precipitation and descends moist adiabatically (with an infinite source of liquid water).\n",
    "    3. The limited regime: The parcel is saturated by precipiation and has a limited amount of liquid water added to it. The parcel descends moist adiabatically until this water evaporates, then dry adiabatically.\n",
    "3. We compared the motion of parcels under these three regimes, using several different real atmospheric sounding datasets for the environmental density.\n",
    "4. We came up with a theoretical model for entrainment and began to implement it.\n",
    "5. The method for finding the temperature of a descending parcel and switching from moist to dry adiabat was inefficient, so we implemented the Bolton's (1980) approximate formula for $\\theta_E$ and used conservation of $\\theta_E$ to find the correct final temperature.\n",
    "6. We implemented Davies-Jones' (2008) approximate formula for wet bulb temperature as a function of $\\theta_E$, allowing us to find the temperature of a parcel after evaporation/condensation of water when reaching phase equilibrium.\n",
    "7. Despite the $\\theta_E$ and wet-bulb temperature improvements, the entrainment calculation still failed for moist descent; it diverged for small finite difference steps.\n",
    "8. We resolved this issue by using a simpler method to find the temperature of an entraining parcel as a function of height (descending in many small discrete steps).\n",
    "9. Knowing the entraining parcel's temperature as a function of height, we implemented a function to solve its equation of motion (this notebook).\n",
    "\n",
    "### Main achievements/results\n",
    "- Determine the motion of an air parcel (with or without entrainment) given the appropriate initial conditions\n",
    "- Improve on the calculation of wet-bulb temperature"
   ]
  },
  {
   "cell_type": "markdown",
   "metadata": {},
   "source": [
    "## Code structure\n",
    "\n",
    "- $\\verb|environment.py|$ defines the $\\verb|Environment|$ class, which allows calculation of environmental variables as a function of height/pressure, given a sounding dataset.\n",
    "- $\\verb|thermo.py|$ defines useful thermodynamic calculations:\n",
    "    - The Davies-Jones wet bulb approximation\n",
    "    - The Bolton $\\theta_E$ approximation\n",
    "    - Descent of a parcel with liquid water and moist to dry adiabat switching\n",
    "    - Auxiliary functions for entrainment\n",
    "- $\\verb|parcel.py|$ contains the old functions relating to parcel buoyancy and motion under the three regimes. It groups them into a single class called $\\verb|Parcel|$.\n",
    "- $\\verb|entraining_parcel.py|$ will contain the functions for buoyancy and motion of an entraining parcel, grouped into the $\\verb|EntrainingParcel|$ class.\n",
    "\n",
    "The general workflow is:\n",
    "1. Create an instance of $\\verb|Environment|$ using a sounding dataset\n",
    "2. Create an instance of $\\verb|EntrainingParcel|$ to correspond to the environment\n",
    "3. Perform calculations using the methods contained in the classes."
   ]
  },
  {
   "cell_type": "markdown",
   "metadata": {},
   "source": [
    "## Next steps\n",
    "\n",
    "- Examine motion for different initial conditions, soundings, entrainment rates, etc. and draw conclusions relating to original questions about factors that affect downdrafts\n",
    "- Implement reversible adiabats (how much of a difference to they make?)"
   ]
  },
  {
   "cell_type": "code",
   "execution_count": null,
   "metadata": {},
   "outputs": [],
   "source": []
  }
 ],
 "metadata": {
  "kernelspec": {
   "display_name": "Python 3",
   "language": "python",
   "name": "python3"
  },
  "language_info": {
   "codemirror_mode": {
    "name": "ipython",
    "version": 3
   },
   "file_extension": ".py",
   "mimetype": "text/x-python",
   "name": "python",
   "nbconvert_exporter": "python",
   "pygments_lexer": "ipython3",
   "version": "3.8.5"
  },
  "toc": {
   "base_numbering": 1,
   "nav_menu": {},
   "number_sections": true,
   "sideBar": true,
   "skip_h1_title": false,
   "title_cell": "Table of Contents",
   "title_sidebar": "Contents",
   "toc_cell": true,
   "toc_position": {},
   "toc_section_display": true,
   "toc_window_display": false
  }
 },
 "nbformat": 4,
 "nbformat_minor": 4
}
