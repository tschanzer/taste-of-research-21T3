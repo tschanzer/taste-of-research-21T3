{
 "cells": [
  {
   "cell_type": "markdown",
   "metadata": {},
   "source": [
    "# Other buoyancy regimes <a class='tocSkip'></a>\n",
    "\n",
    "Thomas Schanzer z5310829  \n",
    "School of Physics, UNSW  \n",
    "September 2021\n",
    "\n",
    "In this notebook, we implement two other simplified regimes under which a negatively buoyancy parcel might descend.\n",
    "\n",
    "TODO: Give parcel downward nudge without evaporation? Account for condensate loading in density?"
   ]
  },
  {
   "cell_type": "markdown",
   "metadata": {
    "toc": true
   },
   "source": [
    "<h1>Table of Contents<span class=\"tocSkip\"></span></h1>\n",
    "<div class=\"toc\"><ul class=\"toc-item\"><li><span><a href=\"#Parcel-is-always-saturated\" data-toc-modified-id=\"Parcel-is-always-saturated-1\"><span class=\"toc-item-num\">1&nbsp;&nbsp;</span>Parcel is always saturated</a></span></li><li><span><a href=\"#Parcel-contains-limited-amount-of-liquid-water\" data-toc-modified-id=\"Parcel-contains-limited-amount-of-liquid-water-2\"><span class=\"toc-item-num\">2&nbsp;&nbsp;</span>Parcel contains limited amount of liquid water</a></span><ul class=\"toc-item\"><li><span><a href=\"#Determining-temperature-and-specific-humidity-from-pressure\" data-toc-modified-id=\"Determining-temperature-and-specific-humidity-from-pressure-2.1\"><span class=\"toc-item-num\">2.1&nbsp;&nbsp;</span>Determining temperature and specific humidity from pressure</a></span></li><li><span><a href=\"#Density\" data-toc-modified-id=\"Density-2.2\"><span class=\"toc-item-num\">2.2&nbsp;&nbsp;</span>Density</a></span></li></ul></li></ul></div>"
   ]
  },
  {
   "cell_type": "code",
   "execution_count": 94,
   "metadata": {},
   "outputs": [],
   "source": [
    "import numpy as np\n",
    "import pandas as pd\n",
    "import matplotlib.pyplot as plt\n",
    "\n",
    "import metpy.calc as mpcalc\n",
    "import metpy.constants as const\n",
    "from metpy.units import units\n",
    "from metpy.units import concatenate\n",
    "from metpy.plots import SkewT\n",
    "\n",
    "from scipy.interpolate import interp1d\n",
    "from scipy.integrate import solve_ivp\n",
    "from scipy.optimize import root_scalar\n",
    "\n",
    "from os import mkdir\n",
    "from os.path import exists\n",
    "import sys\n",
    "\n",
    "from functools import partial\n",
    "\n",
    "from environment import Environment"
   ]
  },
  {
   "cell_type": "code",
   "execution_count": 2,
   "metadata": {},
   "outputs": [],
   "source": [
    "file = '../soundings/SYDNEY AIRPORT (94767) 12 Nov 2019 00Z.txt'\n",
    "sounding = pd.read_csv(\n",
    "    file, names=['pressure', 'temperature', 'dewpoint'],\n",
    "    usecols=[0, 2, 3], header=0)\n",
    "sounding = sounding.to_numpy()\n",
    "pressure = sounding[:,0]*units.mbar\n",
    "temperature = sounding[:,1]*units.celsius\n",
    "dewpoint = sounding[:,2]*units.celsius\n",
    "\n",
    "sydney = Environment(pressure, temperature, dewpoint)"
   ]
  },
  {
   "cell_type": "markdown",
   "metadata": {},
   "source": [
    "## Parcel is always saturated\n",
    "\n",
    "We imagine that an environmental parcel suddenly becomes saturated due to evaporation of precipitation, and remains saturated as it descends (by continual evaporation from an unlimited source of liquid water).\n",
    "\n",
    "The temperature at the start of the descent will be the wet-bulb temperature and the temperature will increase at the *moist* adiabatic lapse rate as the parcel descends."
   ]
  },
  {
   "cell_type": "code",
   "execution_count": 12,
   "metadata": {},
   "outputs": [],
   "source": [
    "def wetbulb_temperature(height):\n",
    "    \"\"\"\n",
    "    Finds the environmental wet-bulb temperature at a given height.\n",
    "    \"\"\"\n",
    "    \n",
    "    pressure = sydney.pressure(height)\n",
    "    temperature = sydney.temperature_from_pressure(pressure)\n",
    "    dewpoint = sydney.dewpoint_from_pressure(pressure)\n",
    "    wetbulb_temperature = mpcalc.wet_bulb_temperature(\n",
    "        pressure, temperature, dewpoint)\n",
    "    return wetbulb_temperature"
   ]
  },
  {
   "cell_type": "markdown",
   "metadata": {},
   "source": [
    "We do not want to recalculate the initial temperature at every iteration of the ODE solver, so we will calculate it once beforehand and pass it as an argument to the density function."
   ]
  },
  {
   "cell_type": "code",
   "execution_count": 131,
   "metadata": {},
   "outputs": [],
   "source": [
    "def parcel_density(height, initial_height, initial_temperature):\n",
    "    \"\"\"\n",
    "    Calculates the density of a parcel after precipitation.\n",
    "\n",
    "    Args:\n",
    "        height: The height of the parcel.\n",
    "        initial_height: The initial height of the parcel (i.e., its\n",
    "            height when the precipitation occurred).\n",
    "\n",
    "    Returns:\n",
    "        The density of the parcel.\n",
    "    \"\"\"\n",
    "    \n",
    "    initial_pressure = sydney.pressure(initial_height)\n",
    "    pressure = sydney.pressure(height)\n",
    "    \n",
    "    temperature = mpcalc.moist_lapse(\n",
    "        pressure, initial_temperature, reference_pressure=initial_pressure)\n",
    "    \n",
    "    mixing_ratio = mpcalc.saturation_mixing_ratio(pressure, temperature)\n",
    "    density = mpcalc.density(pressure, temperature, mixing_ratio)\n",
    "    \n",
    "    return density"
   ]
  },
  {
   "cell_type": "code",
   "execution_count": 132,
   "metadata": {},
   "outputs": [
    {
     "data": {
      "text/html": [
       "1.0764655511431152 kilogram/meter<sup>3</sup>"
      ],
      "text/latex": [
       "$1.0764655511431152\\ \\frac{\\mathrm{kilogram}}{\\mathrm{meter}^{3}}$"
      ],
      "text/plain": [
       "1.0764655511431152 <Unit('kilogram / meter ** 3')>"
      ]
     },
     "execution_count": 132,
     "metadata": {},
     "output_type": "execute_result"
    }
   ],
   "source": [
    "parcel_density(1*units.km, 2*units.km, 10*units.celsius)"
   ]
  },
  {
   "cell_type": "markdown",
   "metadata": {},
   "source": [
    "## Parcel contains limited amount of liquid water\n",
    "\n",
    "As in the previous case, the parcel is initially saturated, but now contains a limited mass fraction of liquid water that may completely evaporate at some point during the descent. The initial temperture due to the evaporation is still the wet-bulb temperature. \n",
    "\n",
    "### Determining temperature and specific humidity from pressure\n",
    "The parcel will follow a moist adiabat followed by a dry adiabat; we copy the code we have already written to calculate this. These functions are independent of the sounding."
   ]
  },
  {
   "cell_type": "code",
   "execution_count": 127,
   "metadata": {},
   "outputs": [],
   "source": [
    "# objective function for the root-finding algorithm\n",
    "def remaining_liquid_ratio(\n",
    "        pressure, initial_pressure, initial_temperature,\n",
    "        initial_liquid_ratio):\n",
    "    \"\"\"\n",
    "    Calculates the amount of liquid water left in the parcel.\n",
    "    \n",
    "    It is assumed that the parcel is initially saturated.\n",
    "    The arguments must be given as plain numbers, without units.\n",
    "    \n",
    "    Args:\n",
    "        pressure: The pressure level of interest in millibars.\n",
    "        initial_pressure: The initial pressure of the parcel in\n",
    "            millibars.\n",
    "        initial_temperature: The initial temperature of the parcel in\n",
    "            degrees celsius.\n",
    "        initial_liquid_ratio: The ratio of the initial mass of liquid\n",
    "            water to the total mass of the parcel.\n",
    "            \n",
    "    Returns:\n",
    "        The ratio of the remaining mass of liquid water to the total\n",
    "            mass of the parcel.\n",
    "    \"\"\"\n",
    "    \n",
    "    pressure = pressure*units.mbar\n",
    "    initial_pressure = initial_pressure*units.mbar\n",
    "    initial_temperature = initial_temperature*units.celsius\n",
    "    \n",
    "    initial_specific_humidity = mpcalc.specific_humidity_from_dewpoint(\n",
    "        initial_pressure, initial_temperature)\n",
    "    final_temperature = mpcalc.moist_lapse(\n",
    "        pressure, initial_temperature, reference_pressure=initial_pressure)\n",
    "    final_specific_humidity = mpcalc.specific_humidity_from_dewpoint(\n",
    "        pressure, final_temperature)\n",
    "    remaining_ratio = (initial_specific_humidity + initial_liquid_ratio\n",
    "                       - final_specific_humidity)\n",
    "    \n",
    "    return remaining_ratio\n",
    "\n",
    "def evaporation_level(\n",
    "        initial_pressure, initial_temperature, initial_liquid_ratio):\n",
    "    \"\"\"\n",
    "    Finds the pressure at which all liquid water evaporates.\n",
    "    \n",
    "    Args:\n",
    "        initial_pressure: The initial pressure of the parcel.\n",
    "        initial_temperature: The initial temperature of the parcel.\n",
    "        initial_liquid_ratio: The ratio of the initial mass of liquid\n",
    "            water to the total mass of the parcel.\n",
    "            \n",
    "    Returns:\n",
    "        A tuple containing the pressure at which all liquid water\n",
    "            evaporates, and the temperature of the parcel at this point.\n",
    "    \"\"\"\n",
    "    \n",
    "    initial_pressure = initial_pressure.to(units.mbar).m\n",
    "    initial_temperature = initial_temperature.to(units.celsius).m\n",
    "    \n",
    "    solution = root_scalar(\n",
    "        remaining_liquid_ratio,\n",
    "        args=(initial_pressure, initial_temperature, initial_liquid_ratio),\n",
    "        bracket=[initial_pressure, 1100])\n",
    "    level = solution.root*units.mbar\n",
    "    \n",
    "    if initial_liquid_ratio != 0:  # EL is below initial level\n",
    "        level_temperature = mpcalc.moist_lapse(\n",
    "            level, initial_temperature*units.celsius,\n",
    "            reference_pressure=initial_pressure*units.mbar)\n",
    "    else:  # EL is at initial level\n",
    "        level_temperature = initial_temperature*units.celsius\n",
    "    \n",
    "    return level, level_temperature"
   ]
  },
  {
   "cell_type": "markdown",
   "metadata": {},
   "source": [
    "We do not want to re-calculate the same evaporation level and temperature every time the ODE solver calls the density function, so we will find them once before solving the ODE, and pass them as arguments to the descent profile function."
   ]
  },
  {
   "cell_type": "code",
   "execution_count": 97,
   "metadata": {},
   "outputs": [],
   "source": [
    "def extra_liquid_descent_profile(\n",
    "        pressure, initial_temperature, evaporation_level, level_temperature,\n",
    "        reference_pressure=None):\n",
    "    \"\"\"\n",
    "    Calculates the temperature of a descending air parcel.\n",
    "    \n",
    "    The parcel has some initial liquid water content and is assumed\n",
    "    to be initially saturated.\n",
    "    \n",
    "    Args:\n",
    "        pressure: Pressure levels of interest (must be monotonically\n",
    "            increasing).\n",
    "        initial_temperature: Initial temperature of the parcel,\n",
    "            corresponding to pressure[0].\n",
    "        evaporation_level: The pressure at which all liquid water in\n",
    "            the parcel will evaporate.\n",
    "        level_temperature: Parcel temperature at the evaporation level.\n",
    "        reference_pressure: (optional) The pressure corresponding to\n",
    "            initial_temperature. Defaults to pressure[0].\n",
    "            \n",
    "    Returns:\n",
    "        The temperature of the parcel at the given pressure levels\n",
    "            as an array.\n",
    "    \"\"\"\n",
    "    \n",
    "    pressure = np.atleast_1d(pressure)\n",
    "    reference_inserted = False\n",
    "    if reference_pressure is None:\n",
    "        reference_pressure = pressure[0]\n",
    "    elif reference_pressure != pressure[0]:\n",
    "        reference_inserted = True\n",
    "        pressure = np.insert(pressure, 0, reference_pressure)\n",
    "    \n",
    "    # find the position of the evaporation level in the pressure array\n",
    "    level_index = np.searchsorted(pressure.m, evaporation_level.m, side='left')\n",
    "    \n",
    "    # moist descent to the evaporation level\n",
    "    if evaporation_level > reference_pressure:\n",
    "        # moist_lapse has a bug: it cannot handle downward motion\n",
    "        # where the first element of the pressure array is the\n",
    "        # reference pressure.\n",
    "        # if level_index == 1, pressure[1:level_index] will be empty\n",
    "        # and moist_lapse cannot handle empty pressure arrays\n",
    "        if level_index > 1:\n",
    "            moist_temperature = mpcalc.moist_lapse(\n",
    "                pressure[1:level_index], initial_temperature,\n",
    "                reference_pressure=reference_pressure)\n",
    "        else:\n",
    "            moist_temperature = np.array([])*initial_temperature.units\n",
    "            \n",
    "        moist_temperature = concatenate(\n",
    "            [initial_temperature, moist_temperature])\n",
    "    else:\n",
    "        # if there is no liquid water, there is no moist descent\n",
    "        # and the temperature at the evaporation level is the initial\n",
    "        # temperature\n",
    "        moist_temperature = np.array([])*initial_temperature.units\n",
    "    \n",
    "    # dry descent from the evaporation level\n",
    "    if level_index != len(pressure):  # some pressures are below EL\n",
    "        dry_temperature = mpcalc.dry_lapse(\n",
    "            pressure[level_index:], level_temperature,\n",
    "            reference_pressure=evaporation_level)\n",
    "    else:  # no pressures are below EL\n",
    "        dry_temperature = np.array([])*initial_temperature.units\n",
    "    \n",
    "    temperature = concatenate([moist_temperature, dry_temperature])\n",
    "    if reference_inserted:\n",
    "        temperature = temperature[1:]\n",
    "    if temperature.size == 1:\n",
    "        temperature = temperature.item()\n",
    "    \n",
    "    return temperature"
   ]
  },
  {
   "cell_type": "code",
   "execution_count": 112,
   "metadata": {},
   "outputs": [],
   "source": [
    "def specific_humidity_from_descent_profile(\n",
    "        pressure, temperature, evaporation_level, level_temperature):\n",
    "    \"\"\"\n",
    "    Calculates the specific humidity of a descending parcel.\n",
    "    \n",
    "    Args:\n",
    "        pressure: Pressure levels of interest.\n",
    "        temperature: Temperature array corresponding to given pressure\n",
    "            levels.\n",
    "        evaporation_level: Evaporation level of the parcel.\n",
    "        level_temperature: Parcel temperature at the evaporation level.\n",
    "            \n",
    "    Returns:\n",
    "        The specific humidity array corresponding to the specified\n",
    "        pressure levels.\n",
    "    \"\"\"\n",
    "    \n",
    "    pressure = np.atleast_1d(pressure)\n",
    "    temperature = np.atleast_1d(temperature)\n",
    "    above_level_mask = pressure <= evaporation_level\n",
    "    if np.sum(above_level_mask) > 0:\n",
    "        # dew point above the evaporation level is the temperature\n",
    "        q_above_level = mpcalc.specific_humidity_from_dewpoint(\n",
    "                pressure[above_level_mask], temperature[above_level_mask])\n",
    "    else:\n",
    "        q_above_level = np.array([])\n",
    "    \n",
    "    # specific humidity below the evaporation level is the specific\n",
    "    # humidity at the evaporation level\n",
    "    q_below_level = (\n",
    "        np.ones(np.sum(~above_level_mask)) \n",
    "        * mpcalc.specific_humidity_from_dewpoint(\n",
    "             evaporation_level, level_temperature)\n",
    "    )\n",
    "    \n",
    "    specific_humidity = concatenate([q_above_level, q_below_level])\n",
    "    if specific_humidity.size == 1:\n",
    "        specific_humidity = specific_humidity.item()\n",
    "    \n",
    "    return specific_humidity"
   ]
  },
  {
   "cell_type": "code",
   "execution_count": 141,
   "metadata": {},
   "outputs": [
    {
     "data": {
      "text/html": [
       "<table><tbody><tr><th>Magnitude</th><td style='text-align:left;'><pre>[0.007638098439364079 0.007936538856344285 0.008233368131152568<br> 0.008528461080256887 0.008821703472443237 0.009113000598994473<br> 0.009402272182284508 0.009638098439364085 0.009638098439364085<br> 0.009638098439364085 0.009638098439364085]</pre></td></tr><tr><th>Units</th><td style='text-align:left;'>dimensionless</td></tr></tbody></table>"
      ],
      "text/latex": [
       "$\\begin{pmatrix}0.007638098439364079 & 0.007936538856344285 & 0.008233368131152568 & 0.008528461080256887 & 0.008821703472443237 & 0.009113000598994473 & 0.009402272182284508 & 0.009638098439364085 & 0.009638098439364085 & 0.009638098439364085 & 0.009638098439364085\\end{pmatrix}\\ dimensionless$"
      ],
      "text/plain": [
       "array([0.0076381 , 0.00793654, 0.00823337, 0.00852846, 0.0088217 ,\n",
       "       0.009113  , 0.00940227, 0.0096381 , 0.0096381 , 0.0096381 ,\n",
       "       0.0096381 ]) <Unit('dimensionless')>"
      ]
     },
     "execution_count": 141,
     "metadata": {},
     "output_type": "execute_result"
    }
   ],
   "source": [
    "# moist and dry descent\n",
    "pressure = np.arange(500, 600.1, 10)*units.mbar\n",
    "initial_pressure = 500*units.mbar\n",
    "initial_temperature = 0*units.celsius\n",
    "liquid_ratio = 2e-3\n",
    "\n",
    "level, level_temperature = evaporation_level(\n",
    "    initial_pressure, initial_temperature, liquid_ratio)\n",
    "\n",
    "temperature = extra_liquid_descent_profile(\n",
    "    pressure, initial_temperature, level, level_temperature,\n",
    "    reference_pressure=initial_pressure)\n",
    "specific_humidity_from_descent_profile(\n",
    "    pressure, temperature, level, level_temperature)"
   ]
  },
  {
   "cell_type": "code",
   "execution_count": 120,
   "metadata": {},
   "outputs": [
    {
     "data": {
      "text/html": [
       "<table><tbody><tr><th>Magnitude</th><td style='text-align:left;'><pre>[0.007638098439364079 0.007936538856344285 0.008233368131152568<br> 0.008528461080256887 0.008821703472443237 0.009113000598994473<br> 0.009402272182284508 0.00968944966672483 0.009974478109040869<br> 0.01025731219706449 0.0105379156895245]</pre></td></tr><tr><th>Units</th><td style='text-align:left;'>dimensionless</td></tr></tbody></table>"
      ],
      "text/latex": [
       "$\\begin{pmatrix}0.007638098439364079 & 0.007936538856344285 & 0.008233368131152568 & 0.008528461080256887 & 0.008821703472443237 & 0.009113000598994473 & 0.009402272182284508 & 0.00968944966672483 & 0.009974478109040869 & 0.01025731219706449 & 0.0105379156895245\\end{pmatrix}\\ dimensionless$"
      ],
      "text/plain": [
       "array([0.0076381 , 0.00793654, 0.00823337, 0.00852846, 0.0088217 ,\n",
       "       0.009113  , 0.00940227, 0.00968945, 0.00997448, 0.01025731,\n",
       "       0.01053792]) <Unit('dimensionless')>"
      ]
     },
     "execution_count": 120,
     "metadata": {},
     "output_type": "execute_result"
    }
   ],
   "source": [
    "# moist descent only\n",
    "pressure = np.arange(500, 600.1, 10)*units.mbar\n",
    "initial_pressure = 500*units.mbar\n",
    "initial_temperature = 0*units.celsius\n",
    "liquid_ratio = 10e-3\n",
    "\n",
    "level, level_temperature = evaporation_level(\n",
    "    initial_pressure, initial_temperature, liquid_ratio)\n",
    "\n",
    "temperature = extra_liquid_descent_profile(\n",
    "    pressure, initial_temperature, level, level_temperature,\n",
    "    reference_pressure=initial_pressure)\n",
    "specific_humidity_from_descent_profile(\n",
    "    pressure, temperature, level, level_temperature)"
   ]
  },
  {
   "cell_type": "code",
   "execution_count": 104,
   "metadata": {},
   "outputs": [
    {
     "data": {
      "text/html": [
       "<table><tbody><tr><th>Magnitude</th><td style='text-align:left;'><pre>[0.007638098439364079 0.007638098439364079 0.007638098439364079<br> 0.007638098439364079 0.007638098439364079 0.007638098439364079<br> 0.007638098439364079 0.007638098439364079 0.007638098439364079<br> 0.007638098439364079 0.007638098439364079]</pre></td></tr><tr><th>Units</th><td style='text-align:left;'>dimensionless</td></tr></tbody></table>"
      ],
      "text/latex": [
       "$\\begin{pmatrix}0.007638098439364079 & 0.007638098439364079 & 0.007638098439364079 & 0.007638098439364079 & 0.007638098439364079 & 0.007638098439364079 & 0.007638098439364079 & 0.007638098439364079 & 0.007638098439364079 & 0.007638098439364079 & 0.007638098439364079\\end{pmatrix}\\ dimensionless$"
      ],
      "text/plain": [
       "array([0.0076381, 0.0076381, 0.0076381, 0.0076381, 0.0076381, 0.0076381,\n",
       "       0.0076381, 0.0076381, 0.0076381, 0.0076381, 0.0076381]) <Unit('dimensionless')>"
      ]
     },
     "execution_count": 104,
     "metadata": {},
     "output_type": "execute_result"
    }
   ],
   "source": [
    "# dry descent only\n",
    "pressure = np.arange(500, 600.1, 10)*units.mbar\n",
    "initial_pressure = 500*units.mbar\n",
    "initial_temperature = 0*units.celsius\n",
    "liquid_ratio = 0\n",
    "\n",
    "level, level_temperature = evaporation_level(\n",
    "    initial_pressure, initial_temperature, liquid_ratio)\n",
    "\n",
    "temperature = extra_liquid_descent_profile(\n",
    "    pressure, initial_temperature, level, level_temperature,\n",
    "    reference_pressure=initial_pressure)\n",
    "specific_humidity_from_descent_profile(\n",
    "    pressure, temperature, level, level_temperature)"
   ]
  },
  {
   "cell_type": "markdown",
   "metadata": {},
   "source": [
    "### Density"
   ]
  },
  {
   "cell_type": "code",
   "execution_count": 135,
   "metadata": {},
   "outputs": [],
   "source": [
    "def parcel_density(\n",
    "        height, initial_height, initial_temperature, evaporation_level,\n",
    "        level_temperature):\n",
    "    \"\"\"\n",
    "    Calculates the density of a parcel after precipitation.\n",
    "\n",
    "    Args:\n",
    "        height: The height of the parcel.\n",
    "        initial_height: The initial height of the parcel (i.e., its\n",
    "            height when the precipitation occurred).\n",
    "\n",
    "    Returns:\n",
    "        The density of the parcel.\n",
    "    \"\"\"\n",
    "    \n",
    "    initial_pressure = sydney.pressure(initial_height)\n",
    "    pressure = sydney.pressure(height)\n",
    "    \n",
    "    temperature = extra_liquid_descent_profile(\n",
    "        pressure, initial_temperature, evaporation_level, level_temperature,\n",
    "        reference_pressure=initial_pressure)\n",
    "    \n",
    "    specific_humidity = specific_humidity_from_descent_profile(\n",
    "        pressure, temperature, evaporation_level, level_temperature)\n",
    "    mixing_ratio = mpcalc.mixing_ratio_from_specific_humidity(\n",
    "        specific_humidity)\n",
    "    \n",
    "    density = mpcalc.density(pressure, temperature, mixing_ratio)\n",
    "    return density"
   ]
  },
  {
   "cell_type": "code",
   "execution_count": 140,
   "metadata": {},
   "outputs": [
    {
     "data": {
      "text/html": [
       "0.7763495801243063 kilogram/meter<sup>3</sup>"
      ],
      "text/latex": [
       "$0.7763495801243063\\ \\frac{\\mathrm{kilogram}}{\\mathrm{meter}^{3}}$"
      ],
      "text/plain": [
       "0.7763495801243063 <Unit('kilogram / meter ** 3')>"
      ]
     },
     "execution_count": 140,
     "metadata": {},
     "output_type": "execute_result"
    }
   ],
   "source": [
    "# moist and dry descent\n",
    "pressure = 600*units.mbar\n",
    "initial_pressure = 500*units.mbar\n",
    "height = sydney.height(pressure)\n",
    "initial_height = sydney.height(initial_pressure)\n",
    "\n",
    "initial_temperature = wetbulb_temperature(initial_height)\n",
    "liquid_ratio = 1e-3\n",
    "\n",
    "level, level_temperature = evaporation_level(\n",
    "    initial_pressure, initial_temperature, liquid_ratio)\n",
    "\n",
    "parcel_density(\n",
    "    height, initial_height, initial_temperature, level, level_temperature)"
   ]
  },
  {
   "cell_type": "code",
   "execution_count": 139,
   "metadata": {},
   "outputs": [
    {
     "data": {
      "text/html": [
       "0.7811759407309773 kilogram/meter<sup>3</sup>"
      ],
      "text/latex": [
       "$0.7811759407309773\\ \\frac{\\mathrm{kilogram}}{\\mathrm{meter}^{3}}$"
      ],
      "text/plain": [
       "0.7811759407309773 <Unit('kilogram / meter ** 3')>"
      ]
     },
     "execution_count": 139,
     "metadata": {},
     "output_type": "execute_result"
    }
   ],
   "source": [
    "# moist descent only\n",
    "pressure = 600*units.mbar\n",
    "initial_pressure = 500*units.mbar\n",
    "height = sydney.height(pressure)\n",
    "initial_height = sydney.height(initial_pressure)\n",
    "\n",
    "initial_temperature = wetbulb_temperature(initial_height)\n",
    "liquid_ratio = 10e-3\n",
    "\n",
    "level, level_temperature = evaporation_level(\n",
    "    initial_pressure, initial_temperature, liquid_ratio)\n",
    "\n",
    "parcel_density(\n",
    "    height, initial_height, initial_temperature, level, level_temperature)"
   ]
  },
  {
   "cell_type": "code",
   "execution_count": 142,
   "metadata": {},
   "outputs": [
    {
     "data": {
      "text/html": [
       "0.769531273216415 kilogram/meter<sup>3</sup>"
      ],
      "text/latex": [
       "$0.769531273216415\\ \\frac{\\mathrm{kilogram}}{\\mathrm{meter}^{3}}$"
      ],
      "text/plain": [
       "0.769531273216415 <Unit('kilogram / meter ** 3')>"
      ]
     },
     "execution_count": 142,
     "metadata": {},
     "output_type": "execute_result"
    }
   ],
   "source": [
    "# dry descent only\n",
    "pressure = 600*units.mbar\n",
    "initial_pressure = 500*units.mbar\n",
    "height = sydney.height(pressure)\n",
    "initial_height = sydney.height(initial_pressure)\n",
    "\n",
    "initial_temperature = wetbulb_temperature(initial_height)\n",
    "liquid_ratio = 0\n",
    "\n",
    "level, level_temperature = evaporation_level(\n",
    "    initial_pressure, initial_temperature, liquid_ratio)\n",
    "\n",
    "parcel_density(\n",
    "    height, initial_height, initial_temperature, level, level_temperature)"
   ]
  },
  {
   "cell_type": "code",
   "execution_count": null,
   "metadata": {},
   "outputs": [],
   "source": []
  }
 ],
 "metadata": {
  "kernelspec": {
   "display_name": "Python 3",
   "language": "python",
   "name": "python3"
  },
  "language_info": {
   "codemirror_mode": {
    "name": "ipython",
    "version": 3
   },
   "file_extension": ".py",
   "mimetype": "text/x-python",
   "name": "python",
   "nbconvert_exporter": "python",
   "pygments_lexer": "ipython3",
   "version": "3.8.5"
  },
  "toc": {
   "base_numbering": 1,
   "nav_menu": {},
   "number_sections": true,
   "sideBar": true,
   "skip_h1_title": false,
   "title_cell": "Table of Contents",
   "title_sidebar": "Contents",
   "toc_cell": true,
   "toc_position": {},
   "toc_section_display": true,
   "toc_window_display": false
  }
 },
 "nbformat": 4,
 "nbformat_minor": 4
}
