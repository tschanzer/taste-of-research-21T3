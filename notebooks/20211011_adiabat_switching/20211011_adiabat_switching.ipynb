{
 "cells": [
  {
   "cell_type": "markdown",
   "metadata": {},
   "source": [
    "# Switching from moist to dry adiabat <a class='tocSkip'></a>\n",
    "\n",
    "Thomas Schanzer z5310829  \n",
    "School of Physics, UNSW  \n",
    "October 2021\n",
    "\n",
    "In this notebook, we consider the problem of switcing from a moist to a dry adiabat when the parcel evaporates all its liquid water during descent."
   ]
  },
  {
   "cell_type": "code",
   "execution_count": 192,
   "metadata": {},
   "outputs": [],
   "source": [
    "import metpy.constants as const\n",
    "import metpy.calc as mpcalc\n",
    "from metpy.units import units\n",
    "\n",
    "import matplotlib.pyplot as plt\n",
    "\n",
    "import numpy as np\n",
    "from scipy.misc import derivative\n",
    "from scipy.optimize import root_scalar\n",
    "\n",
    "import sys\n",
    "sys.path.append('../../scripts/')\n",
    "from thermo import moist_lapse"
   ]
  },
  {
   "cell_type": "markdown",
   "metadata": {
    "toc": true
   },
   "source": [
    "<h1>Table of Contents<span class=\"tocSkip\"></span></h1>\n",
    "<div class=\"toc\"><ul class=\"toc-item\"><li><span><a href=\"#Theory\" data-toc-modified-id=\"Theory-1\"><span class=\"toc-item-num\">1&nbsp;&nbsp;</span>Theory</a></span><ul class=\"toc-item\"><li><span><a href=\"#Finding-$\\partial-\\theta_E-/-\\partial-T'$\" data-toc-modified-id=\"Finding-$\\partial-\\theta_E-/-\\partial-T'$-1.1\"><span class=\"toc-item-num\">1.1&nbsp;&nbsp;</span>Finding $\\partial \\theta_E / \\partial T'$</a></span></li><li><span><a href=\"#Checking-the-$\\partial-\\theta_E-/-\\partial-T'$-function\" data-toc-modified-id=\"Checking-the-$\\partial-\\theta_E-/-\\partial-T'$-function-1.2\"><span class=\"toc-item-num\">1.2&nbsp;&nbsp;</span>Checking the $\\partial \\theta_E / \\partial T'$ function</a></span></li></ul></li><li><span><a href=\"#Implementation\" data-toc-modified-id=\"Implementation-2\"><span class=\"toc-item-num\">2&nbsp;&nbsp;</span>Implementation</a></span></li><li><span><a href=\"#Testing\" data-toc-modified-id=\"Testing-3\"><span class=\"toc-item-num\">3&nbsp;&nbsp;</span>Testing</a></span></li></ul></div>"
   ]
  },
  {
   "cell_type": "markdown",
   "metadata": {},
   "source": [
    "## Theory\n",
    "\n",
    "Suppose we have a parcel at pressure $p$, with temperature $T$, specific humidity $q$ and liquid ratio $l$. We want to know the resulting values $T'$, $q'$ and $l'$ after the parcel descends to a pressure $p' > p$.\n",
    "\n",
    "**Case 1:** $l=0$.  \n",
    "The descent will be entirely dry adiabatic.\n",
    "\n",
    "**Case 2:** $l>0$.  \n",
    "The descent will be at least partly moist adiabatic.  \n",
    "We first try descending moist adiabatically to $p'$; this gives a tentative value of $T'$. Since the parcel stays saturated, we will have $q' = q^*(p', T')$. From conservation of liquid mass, $l' = q' + l' - q''$.\n",
    "\n",
    "> **Case 2.1:** $l' = q' + l' - q'' \\ge 0$.  \n",
    "There is liquid left over, so the descent can be fully moist adiabatic.\n",
    "\n",
    "> **Case 2.2:** $l' = q' + l' - q'' < 0$.  \n",
    "Moist descent only would consume more liquid water than is available, so parcel must switch from a moist to a dry adiabat somewhere between $p$ and $p'$.  \n",
    "<br>\n",
    "Rather than explicitly calculating the switching point, which is computationally costly, we will use conservation of equivalent potential temperature to calculate $T'$ indirectly. Specifically, the final state should satisfy\n",
    "$$\\theta_E(p', T', q') = \\theta_E(p, T, q).$$\n",
    "Since all liquid water has been consumed ($l'=0$), we know that $q' = q + l$ so our condition is reduced to\n",
    "$$\\theta_E(p', T', q + l) = \\theta_E(p, T, q), \\hspace{2cm} (*)$$\n",
    "a single equation in a single unknown, $T'$. We can solve it numerically using Newton's method.\n",
    "\n",
    "### Finding $\\partial \\theta_E / \\partial T'$\n",
    "In order to apply Newton's method to $(*)$, we need to know $\\partial \\theta_E / \\partial T'$.\n",
    "We use the approximate expression for $\\theta_E$ given in *Bolton (1980)*:\n",
    "$$\\theta_{E}=\\theta_{DL}\\exp\\left[\\left(\\frac{3036}{T_{L}}-1.78\\right)r(1+0.448r)\\right]$$\n",
    "where $r$ is the mixing ratio and\n",
    "$$\\theta_{DL}=T_{K}\\left(\\frac{1000}{p-e}\\right)^k \\left(\\frac{T_{K}}{T_{L}}\\right)^{0.28r}$$\n",
    "is the potential temperature at the LCL, where $T_K$ is the absolute temperature and\n",
    "$$T_{L}=\\left( \\frac{1}{T_{D}-56}+\\frac{ln(T_{K}/T_{D})}{800} \\right)^{-1}+56$$\n",
    "is the temperature at the $LCL$.\n",
    "\n",
    "We first note that $\\partial \\theta_E / \\partial T' = \\theta_E (\\partial \\log \\theta_E / \\partial T_K)$, with\n",
    "$$\n",
    "    \\frac{\\partial \\log \\theta_E}{\\partial T_K}\n",
    "    =  \\frac{\\partial \\log \\theta_{DL}}{\\partial T_K}\n",
    "    - \\frac{3036}{T_L^2} r (1+0.448r) \\frac{\\partial T_L}{\\partial T_K}.\n",
    "$$\n",
    "Now,\n",
    "$$\n",
    "\\begin{align}\n",
    "    \\frac{\\partial \\log \\theta_{DL}}{\\partial T_K}\n",
    "    &= \\frac{1}{T_K} + \\frac{0.28r}{T_K} - \\frac{0.28r}{T_L} \\frac{\\partial T_L}{\\partial T_K} \\\\\n",
    "    &= \\frac{1 + 0.28r}{T_K} - \\frac{0.28r}{T_L} \\frac{\\partial T_L}{\\partial T_K}\n",
    "\\end{align}\n",
    "$$\n",
    "and\n",
    "$$\n",
    "    \\frac{\\partial T_L}{\\partial T_K}\n",
    "    = - \\left( \\frac{1}{T_D - 56} + \\frac{\\log T_K - \\log T_D}{800} \\right)^{-2}\n",
    "    \\left(\n",
    "        -\\frac{1}{(T_D - 56)^2} \\frac{\\partial T_D}{\\partial T_K}\n",
    "        + \\frac{1}{800} \\left( \\frac{1}{T_K} - \\frac{1}{T_D} \\frac{\\partial T_D}{\\partial T_K} \\right)\n",
    "    \\right).\n",
    "$$\n",
    "\n",
    "Bolton's eq. 10 for the saturation vapour pressure $e_s$ implies that\n",
    "$$\n",
    "    T_D = \\frac{b \\log(Ue_s/e_0)}{a - \\log(Ue_s/e_0)} + C\n",
    "$$\n",
    "where $U$ is the relative humidity, $a = 17.67$, $b = 243.5$ K, $e_0 = 6.112$ mbar and $C = 273.15$ K. Then\n",
    "$$\n",
    "\\begin{align}\n",
    "    \\frac{\\partial T_D}{\\partial T_K}\n",
    "    &= \\frac{(a - \\log(Ue_s/e_0)b + b\\log(Ue_s/e_0)}{(a - \\log(Ue_s/e_0))^2} \\frac{\\partial \\log e_s}{\\partial T_K} \\\\\n",
    "    &= \\frac{ab}{(a - \\log(Ue_s/e_0))^2} \\frac{\\partial \\log e_s}{\\partial T_K}\n",
    "\\end{align}\n",
    "$$\n",
    "Bolton's eq. 10 in its original form gives\n",
    "$$e_s = e_0 \\exp \\left( \\frac{a(T_K - C)}{T_K - C + b} \\right) $$\n",
    "which implies\n",
    "$$\n",
    "    \\frac{\\partial \\log e_s}{\\partial T_K} = \\frac{ab}{(T_K - C + b)^2}.\n",
    "$$\n",
    "Finally, we can also substitute the exact relation\n",
    "$$\n",
    "    U = \\frac{q}{1-q} \\frac{p - e_s}{\\epsilon e_s}\n",
    "$$\n",
    "where $\\epsilon$ is the ratio of the molar mass of dry air to the molar mass of water vapour.\n",
    "\n",
    "We now work backwards to write a function that calculates $\\partial \\theta_E / \\partial T_K$ given $p$, $T_K$ and $q$."
   ]
  },
  {
   "cell_type": "code",
   "execution_count": 170,
   "metadata": {},
   "outputs": [],
   "source": [
    "def theta_e_prime(p, Tk, q):\n",
    "    \"\"\"\n",
    "    Calculates the partial derivative of theta-e w.r.t. temperature.\n",
    "    \n",
    "    Uses the approximation of theta-e given in eq. 39 of Bolton (1980).\n",
    "    \n",
    "    Args:\n",
    "        p: Pressure.\n",
    "        Tk: Temperature.\n",
    "        q: Specific humidity.\n",
    "        \n",
    "    Returns:\n",
    "        The partial derivative of equivalent potential temperature\n",
    "            with respect to temperature.\n",
    "    \"\"\"\n",
    "    \n",
    "    # ensure correct units\n",
    "    p = p.m_as(units.mbar)\n",
    "    Tk = Tk.m_as(units.kelvin)\n",
    "    if hasattr(q, 'units'):\n",
    "        q = q.m_as(units.dimensionless)\n",
    "    \n",
    "    # constants\n",
    "    a = 17.67  # dimensionless\n",
    "    b = 243.5  # kelvin\n",
    "    C = 273.15  # 0C (kelvin)\n",
    "    e0 = 6.112  # saturation vapour pressure at 0C (mbar)\n",
    "    epsilon = const.epsilon.m  # molar mass ratio of dry air to water vapour\n",
    "    kappa = const.kappa.m # poisson constant of dry air\n",
    "    \n",
    "    # other variables\n",
    "    es = e0*np.exp(a*(Tk - C)/(Tk - C + b))  # sat. vapour pressure in mbar\n",
    "    U = q/(1 - q)*(p - es)/(epsilon*es)  # relative humidity\n",
    "    e = U*es # vapour pressure in mbar\n",
    "    Td = b*np.log(U*es/e0)/(a - np.log(U*es/e0)) + C  # dew point in kelvin\n",
    "    r = q/(1-q)  # mixing ratio\n",
    "    \n",
    "    # LCL temperature in kelvin\n",
    "    Tl = (1/(Td - 56) + np.log(Tk/Td)/800)**(-1) + 56\n",
    "    # LCL potential temperature in kelvin\n",
    "    thetadl = Tk*(1000/(p - e))**kappa*(Tk/Tl)**(0.28*r)\n",
    "    # equivalent potential temperature in kelvin\n",
    "    thetae = thetadl*np.exp((3036/Tl - 1.78)*r*(1 + 0.448*r))\n",
    "    \n",
    "    # derivative of sat. vapour pressure w.r.t. temperature\n",
    "    dloges_dTk = a*b/(Tk - C + b)**2\n",
    "    # derivative of dew point w.r.t. temperature\n",
    "    dTd_dTk = a*b/(a - np.log(U*es/e0))**2 * dloges_dTk\n",
    "    # derivative of LCL temperature w.r.t. temperature\n",
    "    dTl_dTk = (-(1/(Td - 56) + np.log(Tk/Td)/800)**(-2)\n",
    "               *(-1/(Td - 56)**2*dTd_dTk + 1/800*(1/Tk - 1/Td*dTd_dTk)))\n",
    "    # derivative of log(LCL potential temperature) w.r.t. temperature\n",
    "    dlogthetadl_dTk = (1 + 0.28*r)/Tk - 0.28*r/Tl*dTl_dTk\n",
    "    # derivative of log(equivalent potential temperature) w.r.t. temperature\n",
    "    dlogthetae_dTk = dlogthetadl_dTk - 3036/Tl**2*r*(1 + 0.448*r)*dTl_dTk\n",
    "    \n",
    "    return thetae*dlogthetae_dTk"
   ]
  },
  {
   "cell_type": "markdown",
   "metadata": {},
   "source": [
    "### Checking the $\\partial \\theta_E / \\partial T'$ function\n",
    "\n",
    "We test the function we have written against a finite difference approximation of the derivative."
   ]
  },
  {
   "cell_type": "code",
   "execution_count": 179,
   "metadata": {},
   "outputs": [],
   "source": [
    "def thetae(T):\n",
    "    dewpoint = mpcalc.dewpoint_from_specific_humidity(\n",
    "        700*units.mbar, T*units.kelvin, 1e-3)\n",
    "    return mpcalc.equivalent_potential_temperature(\n",
    "        700*units.mbar, T*units.kelvin, dewpoint).m_as(units.kelvin)\n",
    "\n",
    "temperature = np.arange(-15+273.15, 20+273.15)"
   ]
  },
  {
   "cell_type": "code",
   "execution_count": 180,
   "metadata": {},
   "outputs": [
    {
     "name": "stdout",
     "output_type": "stream",
     "text": [
      "CPU times: user 748 ms, sys: 6.37 ms, total: 754 ms\n",
      "Wall time: 755 ms\n"
     ]
    }
   ],
   "source": [
    "%%time\n",
    "diff_metpy = np.array([\n",
    "    derivative(thetae, T, dx=0.001, order=5)\n",
    "    for T in temperature\n",
    "])"
   ]
  },
  {
   "cell_type": "code",
   "execution_count": 181,
   "metadata": {},
   "outputs": [
    {
     "name": "stdout",
     "output_type": "stream",
     "text": [
      "CPU times: user 20.5 ms, sys: 1.08 ms, total: 21.6 ms\n",
      "Wall time: 20.9 ms\n"
     ]
    }
   ],
   "source": [
    "%%time\n",
    "diff_new_exact = np.array([\n",
    "    theta_e_prime(700*units.mbar, T*units.kelvin, 1e-3)\n",
    "    for T in temperature\n",
    "])"
   ]
  },
  {
   "cell_type": "code",
   "execution_count": 187,
   "metadata": {},
   "outputs": [
    {
     "data": {
      "image/png": "[encoded data removed]",
      "text/plain": [
       "<Figure size 576x432 with 1 Axes>"
      ]
     },
     "metadata": {
      "needs_background": "light"
     },
     "output_type": "display_data"
    }
   ],
   "source": [
    "fig = plt.figure(figsize=(8,6))\n",
    "ax = fig.add_subplot(111)\n",
    "ax.plot(temperature, (diff_metpy - diff_new_exact)/diff_metpy*100)\n",
    "ax.grid()\n",
    "ax.set(\n",
    "    xlabel='Temperature (K)',\n",
    "    ylabel='Percentage error',\n",
    "    title=r'Exact derivative vs. numerical derivative of MetPy function'\n",
    "        '\\n$p = 700$ mbar, $q = 0.001$')\n",
    "plt.show()"
   ]
  },
  {
   "cell_type": "markdown",
   "metadata": {},
   "source": [
    "## Implementation"
   ]
  },
  {
   "cell_type": "code",
   "execution_count": 200,
   "metadata": {},
   "outputs": [],
   "source": [
    "def saturation_specific_humidity(pressure, temperature):\n",
    "    return mpcalc.specific_humidity_from_mixing_ratio(\n",
    "        mpcalc.saturation_mixing_ratio(pressure, temperature))\n",
    "\n",
    "def theta_e(pressure, temperature, specific_humidity):\n",
    "    dewpoint = mpcalc.dewpoint_from_specific_humidity(\n",
    "        pressure, temperature, specific_humidity)\n",
    "    return mpcalc.equivalent_potential_temperature(\n",
    "        pressure, temperature, dewpoint)"
   ]
  },
  {
   "cell_type": "code",
   "execution_count": 201,
   "metadata": {},
   "outputs": [],
   "source": [
    "def descend(\n",
    "        pressure, temperature, specific_humidity, liquid_ratio,\n",
    "        reference_pressure, improve=1):\n",
    "    \"\"\"\n",
    "    Calculates the temperature of a descending parcel.\n",
    "    \n",
    "    Uses conservation of equivalent potential temperature to determine\n",
    "    the final temperature if the parcel switches from a moist to a dry\n",
    "    adiabat.\n",
    "    \n",
    "    Args:\n",
    "        pressure: Final pressure.\n",
    "        temperature: Initial temperature.\n",
    "        specific_humidity: Initial specific humidity.\n",
    "        liquid_ratio: Initial liquid ratio.\n",
    "        reference_pressure: Initial pressure.\n",
    "        improve: Number of iterations to use if the parcel must switch\n",
    "            from moist to dry adiabat (default: 1). Alternatively,\n",
    "            specify False to skip iteration and take the moist\n",
    "            adiabatic value, or 'exact' to iterate until convergence.\n",
    "            \n",
    "    Returns:\n",
    "        Final temperature, specific humidity and liquid ratio.\n",
    "    \"\"\"\n",
    "    \n",
    "    if liquid_ratio <= 0:\n",
    "        # case 1: dry adiabat only\n",
    "        t_final = mpcalc.dry_lapse(pressure, temperature, reference_pressure)\n",
    "        q_final = q_initial\n",
    "        l_final = 0*units.dimensionless\n",
    "        return t_final, q_final, l_final\n",
    "    else:\n",
    "        # case 2: some moist descent\n",
    "        t_final_guess = moist_lapse(pressure, temperature, reference_pressure)\n",
    "        q_final_guess = saturation_specific_humidity(pressure, t_final)\n",
    "        l_final_guess = specific_humidity + liquid_ratio - q_final\n",
    "        if l_final >= 0 or improve is False:\n",
    "            # case 2.1: moist adiabat only\n",
    "            return t_final_guess, q_final_guess, l_final_guess\n",
    "        else:\n",
    "            # case 2.2: adiabat switching\n",
    "            q_final = specific_humidity + liquid_ratio\n",
    "            l_final = 0*units.dimensionless\n",
    "            \n",
    "            theta_e_initial = theta_e(\n",
    "                reference_pressure, temperature,\n",
    "                specific_humidity).m_as(units.kelvin)\n",
    "            theta_e_difference = lambda T: (\n",
    "                theta_e(pressure, T*units.kelvin, q_final).m_as(units.kelvin)\n",
    "                - theta_e_initial)\n",
    "            theta_e_difference_prime = lambda T: (\n",
    "                theta_e_prime(pressure, T*units.kelvin, q_final))\n",
    "            if improve == 'exact':\n",
    "                # iterate until convergence using Newton's method\n",
    "                sol = root_scalar(\n",
    "                    theta_e_difference, x0=t_final_guess.m_as(units.kelvin),\n",
    "                    fprime=theta_e_difference_prime, method='newton')\n",
    "                t_final = sol.root*units.kelvin\n",
    "            else:\n",
    "                # apply a fixed number of iterations\n",
    "                t_final = t_final_guess.m_as(units.kelvin)\n",
    "                for i in range(improve):\n",
    "                    t_final = (t_final - theta_e_difference(t_final)\n",
    "                               / theta_e_difference_prime(t_final))\n",
    "                t_final = t_final*units.kelvin\n",
    "            \n",
    "            return t_final, q_final, l_final"
   ]
  },
  {
   "cell_type": "markdown",
   "metadata": {},
   "source": [
    "## Testing"
   ]
  },
  {
   "cell_type": "code",
   "execution_count": null,
   "metadata": {},
   "outputs": [],
   "source": []
  }
 ],
 "metadata": {
  "kernelspec": {
   "display_name": "Python 3",
   "language": "python",
   "name": "python3"
  },
  "language_info": {
   "codemirror_mode": {
    "name": "ipython",
    "version": 3
   },
   "file_extension": ".py",
   "mimetype": "text/x-python",
   "name": "python",
   "nbconvert_exporter": "python",
   "pygments_lexer": "ipython3",
   "version": "3.8.5"
  },
  "toc": {
   "base_numbering": 1,
   "nav_menu": {},
   "number_sections": true,
   "sideBar": true,
   "skip_h1_title": false,
   "title_cell": "Table of Contents",
   "title_sidebar": "Contents",
   "toc_cell": true,
   "toc_position": {},
   "toc_section_display": true,
   "toc_window_display": false
  }
 },
 "nbformat": 4,
 "nbformat_minor": 4
}
