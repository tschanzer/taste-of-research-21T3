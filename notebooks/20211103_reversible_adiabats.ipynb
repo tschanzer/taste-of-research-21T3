{
 "cells": [
  {
   "cell_type": "markdown",
   "metadata": {},
   "source": [
    "# Reversible adiabatic descent tests"
   ]
  },
  {
   "cell_type": "code",
   "execution_count": 1,
   "metadata": {},
   "outputs": [],
   "source": [
    "import numpy as np\n",
    "import pandas as pd\n",
    "import matplotlib.pyplot as plt\n",
    "plt.rcParams['font.size'] = '12'\n",
    "\n",
    "import metpy.calc as mpcalc\n",
    "from metpy.units import units\n",
    "from metpy.units import concatenate\n",
    "from metpy.plots import SkewT\n",
    "import metpy.constants as const\n",
    "\n",
    "import sys\n",
    "\n",
    "sys.path.append('../scripts/')\n",
    "from thermo import moist_lapse, reversible_lapse, saturation_specific_humidity\n",
    "from thermo import wetbulb"
   ]
  },
  {
   "cell_type": "markdown",
   "metadata": {},
   "source": [
    "## Theory from Saunders (1957)"
   ]
  },
  {
   "cell_type": "markdown",
   "metadata": {},
   "source": [
    "**Saunders, P.M. (1957), *The thermodynamics of saturated air: a contribution to the classical theory*** states that along a reversible adiabat,\n",
    "$$\n",
    "(C_p + rC_w) \\log T + \\frac{r_w(p,T) L_v(T)}{T} - R \\log p_a = A\n",
    "$$\n",
    "where\n",
    "- $C_p$ is the specific heat of dry air at constant pressure,\n",
    "- $r$ is the total mixing ratio of water (liquid and vapour) to dry air,\n",
    "- $C_w$ is the specific heat of water (assumed constant w.r.t. temperature),\n",
    "- $r_w(p,T)$ is the saturation mixing ratio,\n",
    "- $L_v(T)$ is the latent heat of vapourisation of water,\n",
    "- $R$ is the gas constant of dry air,\n",
    "- $p_a$ is the partial pressure of dry air, and\n",
    "- $A$ is a constant along the adiabat that can be determined from the initial conditions."
   ]
  },
  {
   "cell_type": "markdown",
   "metadata": {},
   "source": [
    "Substituting $p_a = p - e_s(T)$ where $e_s(T)$ is the saturation vapour pressure, we define\n",
    "$$\n",
    "f(T) = (C_p + rC_w) \\log T + \\frac{r_w(p,T) L_v(T)}{T} - R \\log (p - e_s(T));\n",
    "$$\n",
    "we seek $T$ such that $f(T) = 0$. We can find\n",
    "$$\n",
    "f'(T) = \\frac{C_p + rC_w}{T} + \\frac{T \\left(\\frac{\\partial r_w}{\\partial T} L_v + r_w \\frac{\\mathrm{d}L_v}{\\mathrm{d}T} \\right) - r_w L_v}{T^2} + \\frac{R \\frac{\\mathrm{d}e_s}{\\mathrm{d}T}}{p - e_s}.\n",
    "$$\n",
    "\n",
    "If we use $L_v(T) = L_0 - L_1(T - C)$ where $L_0 = 2.501 \\times 10^6$ J/kg, $L_1 = 2.37 \\times 10^3$ J/kg/K and $C = 273.15$ K (Davies-Jones 2008), we have\n",
    "$\\mathrm{d}L_v/\\mathrm{d}T = -L_1$.  \n",
    "Bolton (1980) gives\n",
    "$$ e_s(T) \\approx e_0 \\exp \\left( \\frac{a(T - C)}{T - C + b} \\right) $$\n",
    "where $e_0 = 6.112$ mbar, $a = 17.67$ and $b = 243.5$ K. It is easily found that\n",
    "$$\\frac{\\mathrm{d}e_s}{\\mathrm{d}T} = \\frac{ab}{(T - C + b)^2} e_s. $$  \n",
    "Finally, since\n",
    "$$r_w(p,T) = \\frac{\\epsilon e_s(T)}{p - e_s(T)}$$\n",
    "where $\\epsilon$ is the molar mass ratio of water vapour to dry air, we can find that\n",
    "$$ \\frac{\\partial r_w}{\\partial T} = \\frac{\\epsilon p \\frac{\\mathrm{d}e_s}{\\mathrm{d}T}}{(p - e_s)^2}. $$"
   ]
  },
  {
   "cell_type": "code",
   "execution_count": 40,
   "metadata": {},
   "outputs": [],
   "source": [
    "def reversible_lapse_saunders(\n",
    "        pressure, t_initial, l_initial, reference_pressure=None, improve=1):\n",
    "    \"\"\"\n",
    "    Calculates temperature along reversible adiabats.\n",
    "    \n",
    "    Uses Eq. 3 of Saunders (1957).\n",
    "    \n",
    "    Args:\n",
    "        pressure: Pressure array.\n",
    "        t_initial: Initial temperature.\n",
    "        l_initial: Initial ratio of liquid mass to total\n",
    "        reference_pressure: Pressure corresponding to t_inital.\n",
    "        improve: Number of Newton's method iterations to use.\n",
    "        \n",
    "    Returns:\n",
    "        Resultant temperature array.\n",
    "    \"\"\"\n",
    "    \n",
    "    pressure = np.atleast_1d(pressure).m_as(units.mbar)\n",
    "    if reference_pressure is None:\n",
    "        reference_pressure = pressure[0]\n",
    "    else:\n",
    "        reference_pressure = reference_pressure.m_as(units.mbar)\n",
    "        \n",
    "    t_initial = t_initial.m_as(units.kelvin)\n",
    "    if hasattr(l_initial, 'units'):\n",
    "        l_initial = l_initial.m_as(units.dimensionless)\n",
    "    \n",
    "    # constants\n",
    "    cp = const.dry_air_spec_heat_press.m\n",
    "    cw = const.water_specific_heat.m*1e3\n",
    "    R = const.dry_air_gas_constant.m\n",
    "    C = 273.15\n",
    "    e0 = 6.112\n",
    "    a = 17.67\n",
    "    b = 243.5\n",
    "    epsilon = const.epsilon.m\n",
    "    L0 = 2.501e6\n",
    "    L1 = 2.37e3\n",
    "    \n",
    "    # total vapour + liquid water mixing ratio (invariant)\n",
    "    q_initial = saturation_specific_humidity(\n",
    "        reference_pressure*units.mbar, t_initial*units.kelvin).m\n",
    "    r = (q_initial + l_initial)/(1 - q_initial - l_initial)\n",
    "    \n",
    "    def saunders_function(p, t):\n",
    "        \"\"\"Evaluates the LHS of Eq. 3 and its derivative w.r.t. temperature\"\"\"\n",
    "        \n",
    "        # saturation vapour pressure and derivative\n",
    "        es = e0*np.exp(a*(t - C)/(t - C + b))\n",
    "        des_dt = a*b/(t - C + b)**2 * es\n",
    "        \n",
    "        # saturation (vapour) mixing ratio and derivative\n",
    "        rw = epsilon*es/(p - es)\n",
    "        drw_dt = epsilon*p*des_dt/(p - es)**2\n",
    "        \n",
    "        # latent heat of vapourisation of water and derivative\n",
    "        Lv = L0 - L1*(t - C)\n",
    "        dLv_dt = -L1\n",
    "        \n",
    "        # LHS of Eq. 3 and derivative\n",
    "        fvalue = (cp + r*cw)*np.log(t) + rw*Lv/t - R*np.log(p - es)\n",
    "        fprime = ((cp + r*cw)/t + (t*(drw_dt*Lv + rw*dLv_dt) - rw*Lv)/t**2\n",
    "                  + R*des_dt/(p - es))\n",
    "        \n",
    "        return fvalue, fprime\n",
    "    \n",
    "    # RHS of Eq. 3\n",
    "    A, _ = saunders_function(reference_pressure, t_initial)\n",
    "    \n",
    "    # initial guess: pseudoadiabatic values\n",
    "    t_final = moist_lapse(\n",
    "        pressure*units.mbar, t_initial*units.kelvin,\n",
    "        reference_pressure*units.mbar).m_as(units.kelvin)\n",
    "    \n",
    "    # apply Newton's method\n",
    "    for i in range(improve):\n",
    "        fvalue, fprime = saunders_function(pressure, t_final)\n",
    "        t_final = t_final - (fvalue - A)/fprime\n",
    "    \n",
    "    return t_final*units.kelvin"
   ]
  },
  {
   "cell_type": "markdown",
   "metadata": {},
   "source": [
    "## Testing: Ascent"
   ]
  },
  {
   "cell_type": "code",
   "execution_count": 41,
   "metadata": {},
   "outputs": [],
   "source": [
    "pressure = np.arange(900, 499, -5)*units.mbar\n",
    "t_initial = -5*units.celsius"
   ]
  },
  {
   "cell_type": "code",
   "execution_count": 75,
   "metadata": {},
   "outputs": [],
   "source": [
    "t_pseudo = moist_lapse(pressure, t_initial)\n",
    "\n",
    "t_reversible = reversible_lapse(\n",
    "    pressure, t_initial, 1e-3, improve=2)\n",
    "\n",
    "t_reversible_saunders1 = reversible_lapse_saunders(\n",
    "    pressure, t_initial, 1e-3, improve=1)\n",
    "t_reversible_saunders2 = reversible_lapse_saunders(\n",
    "    pressure, t_initial, 1e-3, improve=2)\n",
    "t_reversible_saunders3 = reversible_lapse_saunders(\n",
    "    pressure, t_initial, 1e-3, improve=3)"
   ]
  },
  {
   "cell_type": "code",
   "execution_count": 74,
   "metadata": {},
   "outputs": [
    {
     "data": {
      "text/plain": [
       "<matplotlib.legend.Legend at 0x7fb3b0d35460>"
      ]
     },
     "execution_count": 74,
     "metadata": {},
     "output_type": "execute_result"
    },
    {
     "data": {
      "image/png": "[encoded data removed]",
      "text/plain": [
       "<Figure size 432x288 with 1 Axes>"
      ]
     },
     "metadata": {
      "needs_background": "light"
     },
     "output_type": "display_data"
    }
   ],
   "source": [
    "fig, ax = plt.subplots()\n",
    "ax.plot(t_reversible - t_pseudo, pressure, label='Davies-Jones (2008)')\n",
    "ax.plot(t_reversible_saunders2 - t_pseudo, pressure,\n",
    "        label='Saunders (1957), 2 iterations')\n",
    "ax.set_ylim(1020, 480)\n",
    "ax.grid()\n",
    "ax.set(\n",
    "    xlabel='Reversible minus pseudoadiabatic temperature',\n",
    "    ylabel='Pressure')\n",
    "ax.legend(loc='lower right')"
   ]
  },
  {
   "cell_type": "code",
   "execution_count": 57,
   "metadata": {},
   "outputs": [
    {
     "data": {
      "text/html": [
       "0.0003853410779299793 kelvin"
      ],
      "text/latex": [
       "$0.0003853410779299793\\ \\mathrm{kelvin}$"
      ],
      "text/plain": [
       "0.0003853410779299793 <Unit('kelvin')>"
      ]
     },
     "execution_count": 57,
     "metadata": {},
     "output_type": "execute_result"
    }
   ],
   "source": [
    "np.max(t_reversible_saunders1 - t_reversible_saunders3)"
   ]
  },
  {
   "cell_type": "code",
   "execution_count": 58,
   "metadata": {},
   "outputs": [
    {
     "data": {
      "text/html": [
       "4.356195404398022×10<sup>-10</sup> kelvin"
      ],
      "text/latex": [
       "$4.356195404398022\\times 10^{-10}\\ \\mathrm{kelvin}$"
      ],
      "text/plain": [
       "4.356195404398022e-10 <Unit('kelvin')>"
      ]
     },
     "execution_count": 58,
     "metadata": {},
     "output_type": "execute_result"
    }
   ],
   "source": [
    "np.max(t_reversible_saunders2 - t_reversible_saunders3)"
   ]
  },
  {
   "cell_type": "markdown",
   "metadata": {
    "tags": []
   },
   "source": [
    "## Testing: descent"
   ]
  },
  {
   "cell_type": "code",
   "execution_count": 84,
   "metadata": {},
   "outputs": [],
   "source": [
    "pressure = np.arange(500, 1001, 10)*units.mbar\n",
    "t_initial = -15*units.celsius"
   ]
  },
  {
   "cell_type": "code",
   "execution_count": 85,
   "metadata": {},
   "outputs": [
    {
     "data": {
      "text/html": [
       "0.009202454746105638 dimensionless"
      ],
      "text/latex": [
       "$0.009202454746105638\\ dimensionless$"
      ],
      "text/plain": [
       "0.009202454746105638 <Unit('dimensionless')>"
      ]
     },
     "execution_count": 85,
     "metadata": {},
     "output_type": "execute_result"
    }
   ],
   "source": [
    "# initially saturated parcel\n",
    "q_initial = saturation_specific_humidity(pressure[0], t_initial)\n",
    "# values for moist descent only\n",
    "t_max_final = moist_lapse(pressure[-1], t_initial, pressure[0])\n",
    "q_max_final = saturation_specific_humidity(pressure[-1], t_max_final)\n",
    "q_max_final - q_initial"
   ]
  },
  {
   "cell_type": "code",
   "execution_count": 86,
   "metadata": {},
   "outputs": [],
   "source": [
    "t_pseudo = moist_lapse(pressure, t_initial)\n",
    "\n",
    "t_reversible = reversible_lapse(\n",
    "    pressure, t_initial, 10e-3, improve=2)\n",
    "\n",
    "t_reversible_saunders1 = reversible_lapse_saunders(\n",
    "    pressure, t_initial, 10e-3, improve=1)\n",
    "t_reversible_saunders2 = reversible_lapse_saunders(\n",
    "    pressure, t_initial, 10e-3, improve=2)\n",
    "t_reversible_saunders3 = reversible_lapse_saunders(\n",
    "    pressure, t_initial, 10e-3, improve=3)"
   ]
  },
  {
   "cell_type": "code",
   "execution_count": 87,
   "metadata": {},
   "outputs": [
    {
     "data": {
      "text/plain": [
       "<matplotlib.legend.Legend at 0x7fb3b1d34700>"
      ]
     },
     "execution_count": 87,
     "metadata": {},
     "output_type": "execute_result"
    },
    {
     "data": {
      "image/png": "[encoded data removed]",
      "text/plain": [
       "<Figure size 432x288 with 1 Axes>"
      ]
     },
     "metadata": {
      "needs_background": "light"
     },
     "output_type": "display_data"
    }
   ],
   "source": [
    "fig, ax = plt.subplots()\n",
    "ax.plot(t_reversible - t_pseudo, pressure, label='Davies-Jones (2008)')\n",
    "ax.plot(t_reversible_saunders2 - t_pseudo, pressure,\n",
    "        label='Saunders (1957), 2 iterations')\n",
    "ax.set_ylim(1020, 480)\n",
    "ax.grid()\n",
    "ax.set(\n",
    "    xlabel='Reversible minus pseudoadiabatic temperature',\n",
    "    ylabel='Pressure')\n",
    "ax.legend(loc='lower right')"
   ]
  },
  {
   "cell_type": "code",
   "execution_count": 88,
   "metadata": {},
   "outputs": [
    {
     "data": {
      "text/html": [
       "0.0019055109038959017 kelvin"
      ],
      "text/latex": [
       "$0.0019055109038959017\\ \\mathrm{kelvin}$"
      ],
      "text/plain": [
       "0.0019055109038959017 <Unit('kelvin')>"
      ]
     },
     "execution_count": 88,
     "metadata": {},
     "output_type": "execute_result"
    }
   ],
   "source": [
    "np.max(t_reversible_saunders1 - t_reversible_saunders3)"
   ]
  },
  {
   "cell_type": "code",
   "execution_count": 89,
   "metadata": {},
   "outputs": [
    {
     "data": {
      "text/html": [
       "5.5023576805979246×10<sup>-8</sup> kelvin"
      ],
      "text/latex": [
       "$5.5023576805979246\\times 10^{-8}\\ \\mathrm{kelvin}$"
      ],
      "text/plain": [
       "5.5023576805979246e-08 <Unit('kelvin')>"
      ]
     },
     "execution_count": 89,
     "metadata": {},
     "output_type": "execute_result"
    }
   ],
   "source": [
    "np.max(t_reversible_saunders2 - t_reversible_saunders3)"
   ]
  },
  {
   "cell_type": "code",
   "execution_count": null,
   "metadata": {},
   "outputs": [],
   "source": []
  }
 ],
 "metadata": {
  "kernelspec": {
   "display_name": "Python 3",
   "language": "python",
   "name": "python3"
  },
  "language_info": {
   "codemirror_mode": {
    "name": "ipython",
    "version": 3
   },
   "file_extension": ".py",
   "mimetype": "text/x-python",
   "name": "python",
   "nbconvert_exporter": "python",
   "pygments_lexer": "ipython3",
   "version": "3.8.5"
  }
 },
 "nbformat": 4,
 "nbformat_minor": 4
}
