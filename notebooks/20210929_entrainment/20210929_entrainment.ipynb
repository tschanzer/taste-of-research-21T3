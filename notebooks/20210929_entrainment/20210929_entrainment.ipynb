{
 "cells": [
  {
   "cell_type": "markdown",
   "metadata": {},
   "source": [
    "# Entrainment <a class='tocSkip'></a>\n",
    "\n",
    "Thomas Schanzer z5310829  \n",
    "School of Physics, UNSW  \n",
    "September 2021\n",
    "\n",
    "In this notebook, we seek to determine the effect of entrainment on a descending parcel."
   ]
  },
  {
   "cell_type": "markdown",
   "metadata": {
    "toc": true
   },
   "source": [
    "<h1>Table of Contents<span class=\"tocSkip\"></span></h1>\n",
    "<div class=\"toc\"><ul class=\"toc-item\"><li><span><a href=\"#Converting-theory-to-code\" data-toc-modified-id=\"Converting-theory-to-code-1\"><span class=\"toc-item-num\">1&nbsp;&nbsp;</span>Converting theory to code</a></span><ul class=\"toc-item\"><li><span><a href=\"#Step-1:-mixing-without-phase-change\" data-toc-modified-id=\"Step-1:-mixing-without-phase-change-1.1\"><span class=\"toc-item-num\">1.1&nbsp;&nbsp;</span>Step 1: mixing without phase change</a></span></li><li><span><a href=\"#Step-2:-reaching-phase-equilibrium\" data-toc-modified-id=\"Step-2:-reaching-phase-equilibrium-1.2\"><span class=\"toc-item-num\">1.2&nbsp;&nbsp;</span>Step 2: reaching phase equilibrium</a></span></li><li><span><a href=\"#Step-3:-descent\" data-toc-modified-id=\"Step-3:-descent-1.3\"><span class=\"toc-item-num\">1.3&nbsp;&nbsp;</span>Step 3: descent</a></span></li></ul></li><li><span><a href=\"#Assembling-steps-1-3\" data-toc-modified-id=\"Assembling-steps-1-3-2\"><span class=\"toc-item-num\">2&nbsp;&nbsp;</span>Assembling steps 1-3</a></span></li><li><span><a href=\"#Testing\" data-toc-modified-id=\"Testing-3\"><span class=\"toc-item-num\">3&nbsp;&nbsp;</span>Testing</a></span></li></ul></div>"
   ]
  },
  {
   "cell_type": "code",
   "execution_count": 361,
   "metadata": {},
   "outputs": [],
   "source": [
    "import numpy as np\n",
    "import pandas as pd\n",
    "import matplotlib.pyplot as plt\n",
    "\n",
    "import metpy.calc as mpcalc\n",
    "import metpy.constants as const\n",
    "from metpy.units import units\n",
    "from metpy.units import concatenate\n",
    "\n",
    "from scipy.optimize import root_scalar\n",
    "from scipy.integrate import solve_ivp\n",
    "\n",
    "from os import mkdir\n",
    "from os.path import exists\n",
    "import sys\n",
    "\n",
    "sys.path.append('../../scripts/')\n",
    "from environment import Environment\n",
    "from thermo import moist_lapse, remaining_liquid_ratio, evaporation_level\n",
    "from thermo import extra_liquid_descent_profile\n",
    "from thermo import specific_humidity_from_descent_profile"
   ]
  },
  {
   "cell_type": "code",
   "execution_count": 141,
   "metadata": {},
   "outputs": [],
   "source": [
    "file = '../../soundings/SYDNEY AIRPORT (94767) 12 Nov 2019 00Z.txt'\n",
    "sounding = pd.read_csv(\n",
    "    file, names=['pressure', 'temperature', 'dewpoint'],\n",
    "    usecols=[0, 2, 3], header=0)\n",
    "sounding = sounding.to_numpy()\n",
    "pressure = sounding[:,0]*units.mbar\n",
    "temperature = sounding[:,1]*units.celsius\n",
    "dewpoint = sounding[:,2]*units.celsius\n",
    "sydney = Environment(\n",
    "    pressure, temperature, dewpoint,\n",
    "    info='SYDNEY AIRPORT (94767) 12 Nov 2019 00Z', name='Sydney')"
   ]
  },
  {
   "cell_type": "markdown",
   "metadata": {},
   "source": [
    "## Converting theory to code"
   ]
  },
  {
   "cell_type": "markdown",
   "metadata": {},
   "source": [
    "We imagine a parcel, whose properties are denoted by a subscript P, and its environment, whose properties are denoted by a subscript E. As a result of descending through a distance $dz$, equal masses $dm$ of parcel and environmental air have been exchanged:\n",
    "<img src='diagram1.png' style=\"width: 450px;\">\n",
    "\n",
    "The size of $dm$ is related to $dz$ by the *entrainment rate* $\\lambda$, which is defined as the fraction of the parcel's mass that is exchanged per unit height:\n",
    "$$ \\lambda \\equiv \\frac{d\\left(\\frac{m}{m_P}\\right)}{dz}. $$\n",
    "Thus $dm = \\lambda m_P dz$.\n",
    "We now consider the parcel as a container with an imaginary partition between the original portion with mass $m_P - dm$ and the entrained portion with mass $dm$:\n",
    "<img src='diagram2.png' style=\"width: 450px;\">\n",
    "\n",
    "The partition is then removed, and a three-step process occurs:\n",
    "1. The two parts mix, conserving enthalpy and water mass without any phase changes,\n",
    "2. The liquid and vapour phases of water come into equilibrium, with phase changes if necessary, and\n",
    "3. The parcel descends a distance $dz$, either dry or moist adiabatically."
   ]
  },
  {
   "cell_type": "markdown",
   "metadata": {},
   "source": [
    "### Step 1: mixing without phase change\n",
    "Enthalpy conservation requires that\n",
    "$$\n",
    "\\begin{align}\n",
    "    (m_P - dm) c_p T_P + dm~c_p T_E &= m_P c_p T' \\\\\n",
    "    \\Leftrightarrow \\qquad T' &= \\frac{(m_P - dm) c_p T_P + dm~c_p T_E}{m_P} \\\\\n",
    "    &= T_P + \\frac{dm}{m_P} (T_E - T_P) \\\\\n",
    "    &= T_P + \\lambda (T_E - T_P) dz.\n",
    "\\end{align}\n",
    "$$\n",
    "Conservation of water vapour mass (with no condensation) requires that\n",
    "$$\n",
    "\\begin{align}\n",
    "    m_{v,P} + m_{v,E} &= m_v' \\\\\n",
    "    \\Leftrightarrow \\qquad (m - dm) q_P + dm~q_E &= m_P q' \\\\\n",
    "    \\Leftrightarrow \\qquad q' &= q_P + \\lambda (q_E - q_P) dz.\n",
    "\\end{align}\n",
    "$$\n",
    "If we use $l$ to denote a ratio of liquid mass to total mass, conservation of liquid water mass gives an identical relation\n",
    "$$ l' = l_P + \\lambda (l_E - l_P) dz. $$"
   ]
  },
  {
   "cell_type": "code",
   "execution_count": 1,
   "metadata": {},
   "outputs": [],
   "source": [
    "def mix(parcel, environment, rate, dz):\n",
    "    return parcel + rate * (environment - parcel) * dz"
   ]
  },
  {
   "cell_type": "markdown",
   "metadata": {},
   "source": [
    "### Step 2: reaching phase equilibrium\n",
    "\n",
    "Let us denote the saturation specific humidity at pressure $p$ and temperature $T$ by $q^*(p,T)$. We wish to find the final specific humidity $q''$, liquid ratio $l''$ and temperature $T''$ of the parcel once phase equilibrium is reached.\n",
    "\n",
    "To start with, we know that any phase changes must conserve total water mass:\n",
    "$$ q' + l' = q'' + l''.$$\n",
    "\n",
    "We also know that the heat $dQ$ required to increase the specific humidity by $dq$ is given by\n",
    "$$ \\frac{dQ}{m} = -L~dq = L(q' - q'') = L(l'' - l'), $$\n",
    "and if the process occurs at constant pressure, the corresponding change in temperature will be\n",
    "$$\n",
    "\\begin{align}\n",
    "    c_p~dT &= -L~dq \\\\\n",
    "    \\Leftrightarrow \\qquad T'' &= T' + \\frac{L(q' - q'')}{c_p} = T' + \\frac{L(l'' - l')}{c_p}.\n",
    "\\end{align}\n",
    "$$\n",
    "\n",
    "**Case 1:** If $q' > q^*(p,T')$, water vapour must condense and the parcel will warm until it reaches a state where\n",
    "$$\n",
    "\\begin{align}\n",
    "    q'' &= q^*(p,T'') \\\\\n",
    "    &= q^* \\left(p, T' + \\frac{L(q' - q'')}{c_p} \\right),\n",
    "\\end{align}\n",
    "$$\n",
    "with $l'' = l' + q' - q''$.\n",
    "\n",
    "**Case 2:** If $q' \\le q^*(p,T')$ and $l' > 0$, liquid water must evaporate and the parcel will cool until either\n",
    "- **Case 2.1:** all liquid has evaporated, i.e., $l'' = 0$ and \n",
    "$$\n",
    "    q'' = q' + l' < q^*(p,T'') = q^* \\left(p, T' - \\frac{Ll'}{c_p} \\right)\n",
    "$$\n",
    "    or\n",
    "- **Case 2.2:** the parcel reaches saturation, i.e.,\n",
    "$$\n",
    "\\begin{align}\n",
    "    q'' &= q^*(p,T'') \\\\\n",
    "    &= q^* \\left(p, T' + \\frac{L(q' - q'')}{c_p} \\right),\n",
    "\\end{align}\n",
    "$$\n",
    "    with $l'' = l' + q' - q''$. This is identical to Case 1, except that here $q'' > q'$.\n",
    "    \n",
    "The equations for all cases can be solved numerically."
   ]
  },
  {
   "cell_type": "code",
   "execution_count": 374,
   "metadata": {},
   "outputs": [],
   "source": [
    "def temperature_change(dq):\n",
    "    \"\"\"Calculates the temperature change due to specific humidity change.\"\"\"\n",
    "    \n",
    "    dt = -const.water_heat_vaporization * dq / const.dry_air_spec_heat_press\n",
    "    return dt.to(units.delta_degC)\n",
    "\n",
    "def q_root(q_final, pressure, t_initial, q_initial):\n",
    "    \"\"\"Input function for root-finding algorithm.\"\"\"\n",
    "    \n",
    "    q_final = q_final*units.dimensionless\n",
    "    t_final = t_initial + temperature_change(q_final - q_initial)\n",
    "    q_final_saturated = mpcalc.specific_humidity_from_mixing_ratio(\n",
    "        mpcalc.saturation_mixing_ratio(pressure, t_final))\n",
    "    return (q_final - q_final_saturated).to(units.dimensionless).m\n",
    "\n",
    "def equilibrate(\n",
    "        pressure, t_parcel, q_parcel, l_parcel, t_env, q_env, l_env, rate, dz):\n",
    "    \"\"\"\n",
    "    Finds parcel properties after entrainment and phase equilibration.\n",
    "    \n",
    "    Args:\n",
    "        pressure: Pressure during the change (constant).\n",
    "        t_parcel: Initial temperature of the parcel.\n",
    "        q_parcel: Initial specific humidity of the parcel.\n",
    "        l_parcel: Initial ratio of liquid mass to parcel mass.\n",
    "        t_env: Temperature of the environment.\n",
    "        q_env: Specific humidity of the environment.\n",
    "        l_env: Liquid ratio of the environment.\n",
    "        rate: Entrainment rate.\n",
    "        dz: Distance descended.\n",
    "        \n",
    "    Returns:\n",
    "        A tuple containing the final parcel temperature, specific\n",
    "            humidity and liquid ratio.\n",
    "    \"\"\"\n",
    "    \n",
    "    # mixing without phase change\n",
    "    t_mixed = mix(t_parcel, t_env, rate, dz)\n",
    "    q_mixed = mix(q_parcel, q_env, rate, dz)\n",
    "    l_mixed = mix(l_parcel, l_env, rate, dz)\n",
    "    q_mixed_saturated = mpcalc.specific_humidity_from_mixing_ratio(\n",
    "        mpcalc.saturation_mixing_ratio(pressure, t_mixed))\n",
    "    \n",
    "    if q_mixed > q_mixed_saturated:\n",
    "        # we need to condense water vapour\n",
    "        sol = root_scalar(\n",
    "            q_root, args=(pressure, t_mixed, q_mixed), bracket=[0, q_mixed])\n",
    "        q_final = sol.root\n",
    "        t_final = t_mixed + temperature_change(q_final - q_mixed)\n",
    "        l_final = l_mixed + q_mixed - q_final\n",
    "        return (t_final, q_final, l_final)\n",
    "    elif q_mixed < q_mixed_saturated and l_mixed > 0:\n",
    "        # we need to evaporate liquid water.\n",
    "        # if all liquid evaporates:\n",
    "        t_all_evap = t_mixed + temperature_change(l_mixed)\n",
    "        q_all_evap_saturated = mpcalc.specific_humidity_from_mixing_ratio(\n",
    "            mpcalc.saturation_mixing_ratio(pressure, t_all_evap))\n",
    "        \n",
    "        if q_mixed + l_mixed <= q_all_evap_saturated:\n",
    "            return (t_all_evap, q_mixed + l_mixed, 0*units.dimensionless)\n",
    "        else:\n",
    "            sol = root_scalar(\n",
    "                q_root, args=(pressure, t_mixed, q_mixed),\n",
    "                bracket=[q_mixed, q_mixed + l_mixed])\n",
    "            q_final = sol.root\n",
    "            t_final = t_mixed + temperature_change(q_final - q_mixed)\n",
    "            l_final = l_mixed + q_mixed - q_final\n",
    "            return (t_final, q_final, l_final)\n",
    "    elif q_mixed < q_mixed_saturated and l_mixed <= 0:\n",
    "        # already in equilibrium, no action needed\n",
    "        return (t_mixed, q_mixed, 0*units.dimensionless)\n",
    "    else:\n",
    "        # parcel is perfectly saturated, no action needed\n",
    "        return (t_mixed, q_mixed, l_mixed)"
   ]
  },
  {
   "cell_type": "markdown",
   "metadata": {},
   "source": [
    "### Step 3: descent\n",
    "\n",
    "Once the temperature, specific humidity and liquid content of the parcel after mixing are known, it is a relatively simple matter to use the functions of MetPy and those we have already written to determine how they change when the parcel descends a distance $dz$."
   ]
  },
  {
   "cell_type": "code",
   "execution_count": 306,
   "metadata": {},
   "outputs": [],
   "source": [
    "def descend(\n",
    "        pressure, t_initial, q_initial, l_initial, reference_pressure=None):\n",
    "    \"\"\"\n",
    "    Calculates parcel properties after descent.\n",
    "    \n",
    "    Args:\n",
    "        pressure: Array of pressures at which to compute properties.\n",
    "        t_initial: Initial temperature.\n",
    "        q_initial: Initial specific humidity.\n",
    "        l_initial: Initial liquid mass ratio.\n",
    "        reference_pressure: Pressure corresponding to initial values.\n",
    "            Defaults to pressure[0].\n",
    "    \"\"\"\n",
    "    \n",
    "    pressure = np.atleast_1d(pressure)\n",
    "    if reference_pressure is None:\n",
    "        refrence_pressure = pressure[0]\n",
    "    \n",
    "    if l_initial == 0:\n",
    "        t_final = mpcalc.dry_lapse(\n",
    "            pressure, t_initial, reference_pressure=reference_pressure)\n",
    "        if pressure.size > 1:\n",
    "            q_final = np.ones(pressure.size) * q_initial\n",
    "            l_initial = np.zeros(pressure.size)*units.dimensionless\n",
    "        else:\n",
    "            t_final = t_final[0]\n",
    "            q_final = q_initial\n",
    "            l_final = 0*units.dimensionless\n",
    "        return (t_final, q_final, l_final)\n",
    "    else:\n",
    "        level, level_temperature = evaporation_level(\n",
    "            reference_pressure, t_initial, l_initial)\n",
    "        t_final = extra_liquid_descent_profile(\n",
    "            pressure, t_initial, level, level_temperature,\n",
    "            reference_pressure=reference_pressure)\n",
    "        q_final = specific_humidity_from_descent_profile(\n",
    "            pressure, t_final, level, level_temperature)\n",
    "        # use conservation of liquid mass to find l_final\n",
    "        l_final = np.max(\n",
    "            [0, q_initial + l_initial - q_final])*units.dimensionless\n",
    "        return (t_final, q_final, l_final)"
   ]
  },
  {
   "cell_type": "code",
   "execution_count": 429,
   "metadata": {},
   "outputs": [],
   "source": [
    "def descend_approx(\n",
    "        pressure, t_initial, q_initial, l_initial, reference_pressure=None):\n",
    "    \"\"\"\n",
    "    Calculates parcel properties after descent.\n",
    "    \n",
    "    Args:\n",
    "        pressure: Array of pressures at which to compute properties.\n",
    "        t_initial: Initial temperature.\n",
    "        q_initial: Initial specific humidity.\n",
    "        l_initial: Initial liquid mass ratio.\n",
    "        reference_pressure: Pressure corresponding to initial values.\n",
    "            Defaults to pressure[0].\n",
    "    \"\"\"\n",
    "    \n",
    "    pressure = np.atleast_1d(pressure)\n",
    "    if reference_pressure is None:\n",
    "        refrence_pressure = pressure[0]\n",
    "    \n",
    "    if l_initial <= 0:  # catch the erroneous l < 0 case\n",
    "        t_final = mpcalc.dry_lapse(\n",
    "            pressure, t_initial, reference_pressure=reference_pressure)\n",
    "        if pressure.size > 1:\n",
    "            q_final = np.ones(pressure.size) * q_initial\n",
    "            l_initial = np.zeros(pressure.size)*units.dimensionless\n",
    "        else:\n",
    "            t_final = t_final[0]\n",
    "            q_final = q_initial\n",
    "            l_final = 0*units.dimensionless\n",
    "        return (t_final, q_final, l_final)\n",
    "    else:\n",
    "        # assume that descent will be entirely moist adiabatic\n",
    "        # any error will be small for small dz\n",
    "        t_final = moist_lapse(\n",
    "            pressure, t_initial, reference_pressure=reference_pressure)\n",
    "        q_final = mpcalc.specific_humidity_from_mixing_ratio(\n",
    "            mpcalc.saturation_mixing_ratio(pressure, t_final))\n",
    "        if pressure.size == 1:\n",
    "            q_final = q_final[0]\n",
    "        # use conservation of liquid mass to find l_final\n",
    "        l_final = np.max(\n",
    "            [0, q_initial + l_initial - q_final])*units.dimensionless\n",
    "        return (t_final, q_final, l_final)"
   ]
  },
  {
   "cell_type": "code",
   "execution_count": 376,
   "metadata": {},
   "outputs": [],
   "source": [
    "q = mpcalc.specific_humidity_from_mixing_ratio(\n",
    "            mpcalc.saturation_mixing_ratio(550*units.mbar, 0*units.celsius))"
   ]
  },
  {
   "cell_type": "code",
   "execution_count": 377,
   "metadata": {},
   "outputs": [
    {
     "name": "stdout",
     "output_type": "stream",
     "text": [
      "218 ms ± 10.1 ms per loop (mean ± std. dev. of 7 runs, 1 loop each)\n"
     ]
    }
   ],
   "source": [
    "%%timeit\n",
    "descend(550*units.mbar, 0*units.celsius, q, 2e-4, reference_pressure=549.5*units.mbar)"
   ]
  },
  {
   "cell_type": "code",
   "execution_count": 378,
   "metadata": {},
   "outputs": [
    {
     "name": "stdout",
     "output_type": "stream",
     "text": [
      "9.83 ms ± 179 µs per loop (mean ± std. dev. of 7 runs, 100 loops each)\n"
     ]
    }
   ],
   "source": [
    "%%timeit\n",
    "descend_approx(550*units.mbar, 0*units.celsius, q, 2e-4, reference_pressure=549.5*units.mbar)"
   ]
  },
  {
   "cell_type": "markdown",
   "metadata": {},
   "source": [
    "## Assembling steps 1-3"
   ]
  },
  {
   "cell_type": "code",
   "execution_count": 426,
   "metadata": {},
   "outputs": [],
   "source": [
    "def entrain_differential(\n",
    "        height, state, pressure, t_env, q_env, l_env, rate, dz):\n",
    "    \"\"\"\n",
    "    Finds the rate of change of parcel properties due to descent/entrainment.\n",
    "    \n",
    "    Args:\n",
    "        height: Height of interest, in METRES, as number without units.\n",
    "        state: Array containing parcel temperature in KELVIN,\n",
    "            specific humidity and liquid ratio, all as numbers without\n",
    "            units.\n",
    "        pressure: Function to calculate pressure from height.\n",
    "        t_env: Function giving environmental temperature from height.\n",
    "        q_env: Function giving environmental specific humidity from\n",
    "            height.\n",
    "        l_env: Function giving environmental liquid ratio from height.\n",
    "        rate: Entrainment rate.\n",
    "        dz: Size of *downward* step, i.e. initial minus final height.\n",
    "        \n",
    "    Returns:\n",
    "        3-tuple containing:\n",
    "            Temperature change per unit height descended, in K/m\n",
    "            Specific humidity change per unit height descended, in 1/m\n",
    "            Liquid ratio change per unit height descended, in 1/m\n",
    "    \"\"\"\n",
    "    \n",
    "    height = height*units.meter\n",
    "    t_parcel = state[0]*units.kelvin\n",
    "    q_parcel = state[1]\n",
    "    l_parcel = state[2]\n",
    "    p_initial = pressure(height)\n",
    "    p_final = pressure(height - dz)\n",
    "    \n",
    "    t_eq, q_eq, l_eq = equilibrate(\n",
    "        p_initial, t_parcel, q_parcel, l_parcel, \n",
    "        t_env(height), q_env(height), l_env(height), rate, dz)\n",
    "    t_final, q_final, l_final = descend_approx(\n",
    "        p_final, t_eq, q_eq, l_eq, reference_pressure=p_initial)\n",
    "    \n",
    "    # approximate derivatives using finite differences\n",
    "    # divide by -dz to get actual rate of change with height\n",
    "    dtdz = ((t_final.to(units.kelvin)\n",
    "            - t_parcel.to(units.kelvin)) / -dz).to(units.kelvin/units.meter).m\n",
    "    dqdz = ((q_final - q_parcel) / -dz).to(1/units.meter).m\n",
    "    dldz = ((l_final - l_parcel) / -dz).to(1/units.meter).m\n",
    "    \n",
    "    return (dtdz, dqdz, dldz)"
   ]
  },
  {
   "cell_type": "code",
   "execution_count": 421,
   "metadata": {},
   "outputs": [],
   "source": [
    "def entrainment_profile(\n",
    "        height, t_initial, q_initial, l_initial, pressure,\n",
    "        t_env, q_env, l_env, rate, dz, reference_height=None):\n",
    "    \"\"\"\n",
    "    Calculates parcel properties for descent with entrainment.\n",
    "    \n",
    "    Args:\n",
    "        height: Array of heights of interest.\n",
    "        t_initial: Initial parcel temperature.\n",
    "        q_initial: Initial parcel specific humidity.\n",
    "        l_initial: Initial parcel liquid ratio.\n",
    "        pressure: Function to calculate pressure from height.\n",
    "        t_env: Function giving environmental temperature from height.\n",
    "        q_env: Function giving environmental specific humidity from\n",
    "            height.\n",
    "        l_env: Function giving environmental liquid ratio from height.\n",
    "        rate: Entrainment rate.\n",
    "        dz: Size of *downward* step for computing finite differences.\n",
    "    \"\"\"\n",
    "    \n",
    "    if reference_height is None:\n",
    "        reference_height = height[0]\n",
    "    t_initial = t_initial.to(units.kelvin).m\n",
    "\n",
    "    sol = solve_ivp(\n",
    "        entrain_differential,\n",
    "        (reference_height.to(units.meter).m, height[-1].to(units.meter).m),\n",
    "        (t_initial, q_initial, l_initial),\n",
    "        args=(pressure, t_env, q_env, l_env, rate, dz),\n",
    "        t_eval=height.to(units.meter).m)\n",
    "    \n",
    "    t_out = sol.y[0,:]*units.kelvin\n",
    "    q_out = sol.y[1,:]*units.dimensionless\n",
    "    l_out = sol.y[2,:]*units.dimensionless\n",
    "    \n",
    "    if height.size == 1:\n",
    "        t_out = t_out.item()\n",
    "        q_out = q_out.item()\n",
    "        l_out = l_out.item()\n",
    "        \n",
    "    return (t_out, q_out, l_out)"
   ]
  },
  {
   "cell_type": "markdown",
   "metadata": {},
   "source": [
    "## Testing"
   ]
  },
  {
   "cell_type": "code",
   "execution_count": 453,
   "metadata": {},
   "outputs": [],
   "source": [
    "height = np.arange(5000, 3999, -100)*units.meter"
   ]
  },
  {
   "cell_type": "code",
   "execution_count": 454,
   "metadata": {},
   "outputs": [
    {
     "data": {
      "text/html": [
       "<table><tbody><tr><th>Magnitude</th><td style='text-align:left;'><pre>[-7.652863428873554 -6.815883883624487 -5.971540423115684<br> -5.119263440143849 -4.261792866525695 -3.45457146534876<br> -2.639525505856333 -1.8266920310368042 -1.0416813249039398<br> -0.248892726381992 0.551794104779137]</pre></td></tr><tr><th>Units</th><td style='text-align:left;'>degree_Celsius</td></tr></tbody></table>"
      ],
      "text/latex": [
       "$\\begin{pmatrix}-7.652863428873554 & -6.815883883624487 & -5.971540423115684 & -5.119263440143849 & -4.261792866525695 & -3.45457146534876 & -2.639525505856333 & -1.8266920310368042 & -1.0416813249039398 & -0.248892726381992 & 0.551794104779137\\end{pmatrix}\\ \\mathrm{degree\\_Celsius}$"
      ],
      "text/plain": [
       "array([-7.65286343, -6.81588388, -5.97154042, -5.11926344, -4.26179287,\n",
       "       -3.45457147, -2.63952551, -1.82669203, -1.04168132, -0.24889273,\n",
       "        0.5517941 ]) <Unit('degree_Celsius')>"
      ]
     },
     "execution_count": 454,
     "metadata": {},
     "output_type": "execute_result"
    }
   ],
   "source": [
    "sydney.temperature(height)"
   ]
  },
  {
   "cell_type": "code",
   "execution_count": 455,
   "metadata": {},
   "outputs": [
    {
     "data": {
      "text/html": [
       "<table><tbody><tr><th>Magnitude</th><td style='text-align:left;'><pre>[0.0009755878698256892 0.0007334850874408808 0.0005462326898177255<br> 0.00040241757532981804 0.00029793862372209126 0.0003047029271457488<br> 0.00031170124720857756 0.0003187952079965115 0.00032560501421758585<br> 0.00033264548582242717 0.0003399256706145801]</pre></td></tr><tr><th>Units</th><td style='text-align:left;'>dimensionless</td></tr></tbody></table>"
      ],
      "text/latex": [
       "$\\begin{pmatrix}0.0009755878698256892 & 0.0007334850874408808 & 0.0005462326898177255 & 0.00040241757532981804 & 0.00029793862372209126 & 0.0003047029271457488 & 0.00031170124720857756 & 0.0003187952079965115 & 0.00032560501421758585 & 0.00033264548582242717 & 0.0003399256706145801\\end{pmatrix}\\ dimensionless$"
      ],
      "text/plain": [
       "array([0.00097559, 0.00073349, 0.00054623, 0.00040242, 0.00029794,\n",
       "       0.0003047 , 0.0003117 , 0.0003188 , 0.00032561, 0.00033265,\n",
       "       0.00033993]) <Unit('dimensionless')>"
      ]
     },
     "execution_count": 455,
     "metadata": {},
     "output_type": "execute_result"
    }
   ],
   "source": [
    "sydney.specific_humidity(height)"
   ]
  },
  {
   "cell_type": "code",
   "execution_count": 448,
   "metadata": {},
   "outputs": [],
   "source": [
    "# %%timeit\n",
    "t, q, l = entrainment_profile(\n",
    "    height, -10*units.celsius, 5e-4, 0,\n",
    "    sydney.pressure, sydney.temperature, sydney.specific_humidity,\n",
    "    lambda x: 0, 1/units.km, 1*units.m)"
   ]
  },
  {
   "cell_type": "code",
   "execution_count": null,
   "metadata": {},
   "outputs": [],
   "source": []
  }
 ],
 "metadata": {
  "kernelspec": {
   "display_name": "Python 3",
   "language": "python",
   "name": "python3"
  },
  "language_info": {
   "codemirror_mode": {
    "name": "ipython",
    "version": 3
   },
   "file_extension": ".py",
   "mimetype": "text/x-python",
   "name": "python",
   "nbconvert_exporter": "python",
   "pygments_lexer": "ipython3",
   "version": "3.8.5"
  },
  "toc": {
   "base_numbering": 1,
   "nav_menu": {},
   "number_sections": true,
   "sideBar": true,
   "skip_h1_title": false,
   "title_cell": "Table of Contents",
   "title_sidebar": "Contents",
   "toc_cell": true,
   "toc_position": {},
   "toc_section_display": true,
   "toc_window_display": true
  }
 },
 "nbformat": 4,
 "nbformat_minor": 4
}
