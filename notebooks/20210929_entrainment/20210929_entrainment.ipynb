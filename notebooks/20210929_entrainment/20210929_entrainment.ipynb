{
 "cells": [
  {
   "cell_type": "markdown",
   "metadata": {},
   "source": [
    "# Entrainment <a class='tocSkip'></a>\n",
    "\n",
    "Thomas Schanzer z5310829  \n",
    "School of Physics, UNSW  \n",
    "September 2021\n",
    "\n",
    "In this notebook, we seek to determine the effect of entrainment on a descending parcel."
   ]
  },
  {
   "cell_type": "markdown",
   "metadata": {
    "toc": true
   },
   "source": [
    "<h1>Table of Contents<span class=\"tocSkip\"></span></h1>\n",
    "<div class=\"toc\"><ul class=\"toc-item\"><li><span><a href=\"#Theory\" data-toc-modified-id=\"Theory-1\"><span class=\"toc-item-num\">1&nbsp;&nbsp;</span>Theory</a></span><ul class=\"toc-item\"><li><span><a href=\"#Step-1:-mixing-without-phase-change\" data-toc-modified-id=\"Step-1:-mixing-without-phase-change-1.1\"><span class=\"toc-item-num\">1.1&nbsp;&nbsp;</span>Step 1: mixing without phase change</a></span></li><li><span><a href=\"#Step-2:-reaching-phase-equilibrium\" data-toc-modified-id=\"Step-2:-reaching-phase-equilibrium-1.2\"><span class=\"toc-item-num\">1.2&nbsp;&nbsp;</span>Step 2: reaching phase equilibrium</a></span></li><li><span><a href=\"#Step-3:-descent\" data-toc-modified-id=\"Step-3:-descent-1.3\"><span class=\"toc-item-num\">1.3&nbsp;&nbsp;</span>Step 3: descent</a></span></li></ul></li></ul></div>"
   ]
  },
  {
   "cell_type": "markdown",
   "metadata": {},
   "source": [
    "## Theory"
   ]
  },
  {
   "cell_type": "markdown",
   "metadata": {},
   "source": [
    "We imagine a parcel, whose properties are denoted by a subscript P, and its environment, whose properties are denoted by a subscript E. As a result of descending through a distance $dz$, equal masses $dm$ of parcel and environmental air have been exchanged:\n",
    "<img src='diagram1.png' style=\"width: 450px;\">\n",
    "\n",
    "The size of $dm$ is related to $dz$ by the *entrainment rate* $\\lambda$, which is defined as the fraction of the parcel's mass that is exchanged per unit height:\n",
    "$$ \\lambda \\equiv \\frac{d\\left(\\frac{m}{m_P}\\right)}{dz}. $$\n",
    "Thus $dm = \\lambda m_P dz$.\n",
    "We now consider the parcel as a container with an imaginary partition between the original portion with mass $m_P - dm$ and the entrained portion with mass $dm$:\n",
    "<img src='diagram2.png' style=\"width: 450px;\">\n",
    "\n",
    "The partition is then removed, and a three-step process occurs:\n",
    "1. The two parts mix, conserving enthalpy and water mass without any phase changes,\n",
    "2. The liquid and vapour phases of water come into equilibrium, with phase changes if necessary, and\n",
    "3. The parcel descends a distance $dz$, either dry or moist adiabatically."
   ]
  },
  {
   "cell_type": "markdown",
   "metadata": {},
   "source": [
    "### Step 1: mixing without phase change\n",
    "Enthalpy conservation requires that\n",
    "$$\n",
    "\\begin{align}\n",
    "    (m_P - dm) c_p T_P + dm~c_p T_E &= m_P c_p T' \\\\\n",
    "    \\Leftrightarrow \\qquad T' &= \\frac{(m_P - dm) c_p T_P + dm~c_p T_E}{m_P} \\\\\n",
    "    &= T_P + \\frac{dm}{m_P} (T_E - T_P) \\\\\n",
    "    &= T_P + \\lambda (T_E - T_P) dz.\n",
    "\\end{align}\n",
    "$$\n",
    "Conservation of water vapour mass (with no condensation) requires that\n",
    "$$\n",
    "\\begin{align}\n",
    "    m_{v,P} + m_{v,E} &= m_v' \\\\\n",
    "    \\Leftrightarrow \\qquad (m - dm) q_P + dm~q_E &= m_P q' \\\\\n",
    "    \\Leftrightarrow \\qquad q' &= q_P + \\lambda (q_E - q_P) dz.\n",
    "\\end{align}\n",
    "$$\n",
    "If we use $l$ to denote a ratio of liquid mass to total mass, conservation of liquid water mass gives an identical relation\n",
    "$$ l' = l_P + \\lambda (l_E - l_P) dz. $$"
   ]
  },
  {
   "cell_type": "markdown",
   "metadata": {},
   "source": [
    "### Step 2: reaching phase equilibrium\n",
    "\n",
    "Let us denote the saturation specific humidity at pressure $p$ and temperature $T$ by $q^*(p,T)$. We wish to find the final specific humidity $q''$, liquid ratio $l''$ and temperature $T''$ of the parcel once phase equilibrium is reached.\n",
    "\n",
    "To start with, we know that any phase changes must conserve total water mass:\n",
    "$$ q' + l' = q'' + l''.$$\n",
    "\n",
    "We also know that the heat $dQ$ required to increase the specific humidity by $dq$ is given by\n",
    "$$ \\frac{dQ}{m} = -L~dq = L(q' - q'') = L(l'' - l'), $$\n",
    "and if the process occurs at constant pressure, the corresponding change in temperature will be\n",
    "$$\n",
    "\\begin{align}\n",
    "    c_p~dT &= -L~dq \\\\\n",
    "    \\Leftrightarrow \\qquad T'' &= T' + \\frac{L(q' - q'')}{c_p} = T' + \\frac{L(l'' - l')}{c_p}.\n",
    "\\end{align}\n",
    "$$\n",
    "\n",
    "**Case 1:** If $q' > q^*(p,T')$, water vapour must condense and the parcel will warm until it reaches a state where\n",
    "$$\n",
    "\\begin{align}\n",
    "    q'' &= q^*(p,T'') \\\\\n",
    "    &= q^* \\left(p, T' + \\frac{L(q' - q'')}{c_p} \\right),\n",
    "\\end{align}\n",
    "$$\n",
    "with $l'' = l' + q' - q''$.\n",
    "\n",
    "**Case 2:** If $q' \\le q^*(p,T')$ and $l' > 0$, liquid water must evaporate and the parcel will cool until either\n",
    "- **Case 2.1:** all liquid has evaporated, i.e., $l'' = 0$ and \n",
    "$$\n",
    "\\begin{align}\n",
    "    q'' &= q' + l' = q^*(p,T'') \\\\\n",
    "    \\Leftrightarrow \\qquad q' + l' &= q^* \\left(p, T' + \\frac{L(q' - q'')}{c_p} \\right) \\\\\n",
    "    &= q^* \\left(p, T' - \\frac{L l'}{c_p} \\right),\n",
    "\\end{align}\n",
    "$$\n",
    "    or\n",
    "- **Case 2.2:** the parcel reaches saturation, i.e.,\n",
    "$$\n",
    "\\begin{align}\n",
    "    q'' &= q^*(p,T'') \\\\\n",
    "    &= q^* \\left(p, T' + \\frac{L(q' - q'')}{c_p} \\right),\n",
    "\\end{align}\n",
    "$$\n",
    "    with $l'' = l' + q' - q''$. This is identical to Case 1, except that here $q'' > q'$.\n",
    "    \n",
    "The equations for all cases can be solved numerically."
   ]
  },
  {
   "cell_type": "markdown",
   "metadata": {},
   "source": [
    "### Step 3: descent\n",
    "\n",
    "Once the temperature, specific humidity and liquid content of the parcel after mixing are known, it is a relatively simple matter to use the functions of MetPy and those we have already written to determine how they change when the parcel descends a distance $dz$."
   ]
  },
  {
   "cell_type": "code",
   "execution_count": null,
   "metadata": {},
   "outputs": [],
   "source": []
  }
 ],
 "metadata": {
  "kernelspec": {
   "display_name": "Python 3",
   "language": "python",
   "name": "python3"
  },
  "language_info": {
   "codemirror_mode": {
    "name": "ipython",
    "version": 3
   },
   "file_extension": ".py",
   "mimetype": "text/x-python",
   "name": "python",
   "nbconvert_exporter": "python",
   "pygments_lexer": "ipython3",
   "version": "3.8.5"
  },
  "toc": {
   "base_numbering": 1,
   "nav_menu": {},
   "number_sections": true,
   "sideBar": true,
   "skip_h1_title": false,
   "title_cell": "Table of Contents",
   "title_sidebar": "Contents",
   "toc_cell": true,
   "toc_position": {},
   "toc_section_display": true,
   "toc_window_display": false
  }
 },
 "nbformat": 4,
 "nbformat_minor": 4
}
