{
 "cells": [
  {
   "cell_type": "markdown",
   "metadata": {},
   "source": [
    "# Switching from moist to dry adiabat <a class='tocSkip'></a>\n",
    "\n",
    "Thomas Schanzer z5310829  \n",
    "School of Physics, UNSW  \n",
    "October 2021\n",
    "\n",
    "In this notebook, we consider the problem of switcing from a moist to a dry adiabat when the parcel evaporates all its liquid water during descent. We previously approached this by iteratively calculating the level at which the water would evaporate, but is there a faster way?"
   ]
  },
  {
   "cell_type": "code",
   "execution_count": 273,
   "metadata": {},
   "outputs": [],
   "source": [
    "import metpy.constants as const\n",
    "import metpy.calc as mpcalc\n",
    "from metpy.units import units, concatenate\n",
    "\n",
    "import matplotlib.pyplot as plt\n",
    "\n",
    "import numpy as np\n",
    "from scipy.misc import derivative\n",
    "from scipy.optimize import root_scalar\n",
    "\n",
    "import sys\n",
    "sys.path.append('../../scripts/')\n",
    "from thermo import moist_lapse, evaporation_level, extra_liquid_descent_profile"
   ]
  },
  {
   "cell_type": "markdown",
   "metadata": {
    "toc": true
   },
   "source": [
    "<h1>Table of Contents<span class=\"tocSkip\"></span></h1>\n",
    "<div class=\"toc\"><ul class=\"toc-item\"><li><span><a href=\"#Theory\" data-toc-modified-id=\"Theory-1\"><span class=\"toc-item-num\">1&nbsp;&nbsp;</span>Theory</a></span><ul class=\"toc-item\"><li><span><a href=\"#Finding-$\\partial-\\theta_E-/-\\partial-T'$\" data-toc-modified-id=\"Finding-$\\partial-\\theta_E-/-\\partial-T'$-1.1\"><span class=\"toc-item-num\">1.1&nbsp;&nbsp;</span>Finding $\\partial \\theta_E / \\partial T'$</a></span></li><li><span><a href=\"#Checking-the-$\\partial-\\theta_E-/-\\partial-T'$-function\" data-toc-modified-id=\"Checking-the-$\\partial-\\theta_E-/-\\partial-T'$-function-1.2\"><span class=\"toc-item-num\">1.2&nbsp;&nbsp;</span>Checking the $\\partial \\theta_E / \\partial T'$ function</a></span></li></ul></li><li><span><a href=\"#Implementation\" data-toc-modified-id=\"Implementation-2\"><span class=\"toc-item-num\">2&nbsp;&nbsp;</span>Implementation</a></span></li><li><span><a href=\"#Testing\" data-toc-modified-id=\"Testing-3\"><span class=\"toc-item-num\">3&nbsp;&nbsp;</span>Testing</a></span><ul class=\"toc-item\"><li><span><a href=\"#Accuracy-and-rate-of-convergence\" data-toc-modified-id=\"Accuracy-and-rate-of-convergence-3.1\"><span class=\"toc-item-num\">3.1&nbsp;&nbsp;</span>Accuracy and rate of convergence</a></span></li><li><span><a href=\"#Speed\" data-toc-modified-id=\"Speed-3.2\"><span class=\"toc-item-num\">3.2&nbsp;&nbsp;</span>Speed</a></span></li></ul></li></ul></div>"
   ]
  },
  {
   "cell_type": "markdown",
   "metadata": {},
   "source": [
    "## Theory\n",
    "\n",
    "Suppose we have a parcel at pressure $p$, with temperature $T$, specific humidity $q$ and liquid ratio $l$. We want to know the resulting values $T'$, $q'$ and $l'$ after the parcel descends to a pressure $p' > p$.\n",
    "\n",
    "**Case 1:** $l=0$.  \n",
    "The descent will be entirely dry adiabatic.\n",
    "\n",
    "**Case 2:** $l>0$.  \n",
    "The descent will be at least partly moist adiabatic.  \n",
    "We first try descending moist adiabatically to $p'$; this gives a tentative value of $T'$. Since the parcel stays saturated, we will have $q' = q^*(p', T')$. From conservation of liquid mass, $l' = q' + l' - q''$.\n",
    "\n",
    "> **Case 2.1:** $l' = q' + l' - q'' \\ge 0$.  \n",
    "There is liquid left over, so the descent can be fully moist adiabatic.\n",
    "\n",
    "> **Case 2.2:** $l' = q' + l' - q'' < 0$.  \n",
    "Moist descent only would consume more liquid water than is available, so parcel must switch from a moist to a dry adiabat somewhere between $p$ and $p'$.  \n",
    "<br>\n",
    "Rather than explicitly calculating the switching point, which is computationally costly, we will use conservation of equivalent potential temperature to calculate $T'$ indirectly. Specifically, the final state should satisfy\n",
    "$$\\theta_E(p', T', q') = \\theta_E(p, T, q).$$\n",
    "Since all liquid water has been consumed ($l'=0$), we know that $q' = q + l$ so our condition is reduced to\n",
    "$$\\theta_E(p', T', q + l) = \\theta_E(p, T, q), \\hspace{2cm} (*)$$\n",
    "a single equation in a single unknown, $T'$. We can solve it numerically using Newton's method.  \n",
    "<br>\n",
    "We can improve the performance of the algorithm by making a wise initial guess for $T'$. Guessing halfway between the dry and moist values would be a fair compromise, but still has an unnecessary error for descent that is almost entirely dry or almost entirely moist.  \n",
    "Instead, we recognise that the descent is dry when $l=0$ and moist when $l = q_\\mathrm{moist} - q$, where $q_\\mathrm{moist}$ denotes the specific humditity resulting from moist descent only. The position of our guess between the dry and moist adiabatic values will be determined by where $l$ lies between $0$ and $q_\\mathrm{moist}-q$:\n",
    "$$T_\\mathrm{guess} = T_\\mathrm{dry} + \\frac{l}{q_\\mathrm{moist}-q} (T_\\mathrm{moist} - T_\\mathrm{dry})$$\n",
    "\n",
    "\n",
    "### Finding $\\partial \\theta_E / \\partial T'$\n",
    "In order to apply Newton's method to $(*)$, we need to know $\\partial \\theta_E / \\partial T'$.\n",
    "We use the approximate expression for $\\theta_E$ given in *Bolton (1980)*:\n",
    "$$\\theta_{E}=\\theta_{DL}\\exp\\left[\\left(\\frac{3036}{T_{L}}-1.78\\right)r(1+0.448r)\\right]$$\n",
    "where $r$ is the mixing ratio and\n",
    "$$\\theta_{DL}=T_{K}\\left(\\frac{1000}{p-e}\\right)^k \\left(\\frac{T_{K}}{T_{L}}\\right)^{0.28r}$$\n",
    "is the potential temperature at the LCL, where $T_K$ is the absolute temperature and\n",
    "$$T_{L}=\\left( \\frac{1}{T_{D}-56}+\\frac{ln(T_{K}/T_{D})}{800} \\right)^{-1}+56$$\n",
    "is the temperature at the $LCL$.\n",
    "\n",
    "We first note that $\\partial \\theta_E / \\partial T' = \\theta_E (\\partial \\log \\theta_E / \\partial T_K)$, with\n",
    "$$\n",
    "    \\frac{\\partial \\log \\theta_E}{\\partial T_K}\n",
    "    =  \\frac{\\partial \\log \\theta_{DL}}{\\partial T_K}\n",
    "    - \\frac{3036}{T_L^2} r (1+0.448r) \\frac{\\partial T_L}{\\partial T_K}.\n",
    "$$\n",
    "Now,\n",
    "$$\n",
    "\\begin{align}\n",
    "    \\frac{\\partial \\log \\theta_{DL}}{\\partial T_K}\n",
    "    &= \\frac{1}{T_K} + \\frac{0.28r}{T_K} - \\frac{0.28r}{T_L} \\frac{\\partial T_L}{\\partial T_K} \\\\\n",
    "    &= \\frac{1 + 0.28r}{T_K} - \\frac{0.28r}{T_L} \\frac{\\partial T_L}{\\partial T_K}\n",
    "\\end{align}\n",
    "$$\n",
    "and\n",
    "$$\n",
    "    \\frac{\\partial T_L}{\\partial T_K}\n",
    "    = - \\left( \\frac{1}{T_D - 56} + \\frac{\\log T_K - \\log T_D}{800} \\right)^{-2}\n",
    "    \\left(\n",
    "        -\\frac{1}{(T_D - 56)^2} \\frac{\\partial T_D}{\\partial T_K}\n",
    "        + \\frac{1}{800} \\left( \\frac{1}{T_K} - \\frac{1}{T_D} \\frac{\\partial T_D}{\\partial T_K} \\right)\n",
    "    \\right).\n",
    "$$\n",
    "\n",
    "Bolton's eq. 10 for the saturation vapour pressure $e_s$ implies that\n",
    "$$\n",
    "    T_D = \\frac{b \\log(Ue_s/e_0)}{a - \\log(Ue_s/e_0)} + C\n",
    "$$\n",
    "where $U$ is the relative humidity, $a = 17.67$, $b = 243.5$ K, $e_0 = 6.112$ mbar and $C = 273.15$ K. Then\n",
    "$$\n",
    "\\begin{align}\n",
    "    \\frac{\\partial T_D}{\\partial T_K}\n",
    "    &= \\frac{(a - \\log(Ue_s/e_0)b + b\\log(Ue_s/e_0)}{(a - \\log(Ue_s/e_0))^2} \\frac{\\partial \\log e_s}{\\partial T_K} \\\\\n",
    "    &= \\frac{ab}{(a - \\log(Ue_s/e_0))^2} \\frac{\\partial \\log e_s}{\\partial T_K}\n",
    "\\end{align}\n",
    "$$\n",
    "Bolton's eq. 10 in its original form gives\n",
    "$$e_s = e_0 \\exp \\left( \\frac{a(T_K - C)}{T_K - C + b} \\right) $$\n",
    "which implies\n",
    "$$\n",
    "    \\frac{\\partial \\log e_s}{\\partial T_K} = \\frac{ab}{(T_K - C + b)^2}.\n",
    "$$\n",
    "Finally, we can also substitute the exact relation\n",
    "$$\n",
    "    U = \\frac{q}{1-q} \\frac{p - e_s}{\\epsilon e_s}\n",
    "$$\n",
    "where $\\epsilon$ is the ratio of the molar mass of dry air to the molar mass of water vapour.\n",
    "\n",
    "We now work backwards to write a function that calculates $\\partial \\theta_E / \\partial T_K$ given $p$, $T_K$ and $q$."
   ]
  },
  {
   "cell_type": "code",
   "execution_count": 392,
   "metadata": {},
   "outputs": [],
   "source": [
    "def theta_e(p, Tk, q, prime=False, with_units=False):\n",
    "    \"\"\"\n",
    "    Calculates the partial derivative of theta-e w.r.t. temperature.\n",
    "    \n",
    "    Uses the approximation of theta-e given in eq. 39 of Bolton (1980).\n",
    "    \n",
    "    Args:\n",
    "        p: Pressure.\n",
    "        Tk: Temperature.\n",
    "        q: Specific humidity.\n",
    "        \n",
    "    Returns:\n",
    "        The partial derivative of equivalent potential temperature\n",
    "            with respect to temperature.\n",
    "    \"\"\"\n",
    "    \n",
    "    # ensure correct units\n",
    "    p = p.m_as(units.mbar)\n",
    "    Tk = Tk.m_as(units.kelvin)\n",
    "    if hasattr(q, 'units'):\n",
    "        q = q.m_as(units.dimensionless)\n",
    "    \n",
    "    # constants\n",
    "    a = 17.67  # dimensionless\n",
    "    b = 243.5  # kelvin\n",
    "    C = 273.15  # 0C (kelvin)\n",
    "    e0 = 6.112  # saturation vapour pressure at 0C (mbar)\n",
    "    epsilon = const.epsilon.m  # molar mass ratio of dry air to water vapour\n",
    "    kappa = const.kappa.m # poisson constant of dry air\n",
    "    \n",
    "    # other variables\n",
    "    es = e0*np.exp(a*(Tk - C)/(Tk - C + b))  # sat. vapour pressure in mbar\n",
    "    U = q/(1 - q)*(p - es)/(epsilon*es)  # relative humidity\n",
    "    e = U*es # vapour pressure in mbar\n",
    "    Td = b*np.log(U*es/e0)/(a - np.log(U*es/e0)) + C  # dew point in kelvin\n",
    "    r = q/(1-q)  # mixing ratio\n",
    "    \n",
    "    # LCL temperature in kelvin\n",
    "    Tl = (1/(Td - 56) + np.log(Tk/Td)/800)**(-1) + 56\n",
    "    # LCL potential temperature in kelvin\n",
    "    thetadl = Tk*(1000/(p - e))**kappa*(Tk/Tl)**(0.28*r)\n",
    "    # equivalent potential temperature in kelvin\n",
    "    thetae = thetadl*np.exp((3036/Tl - 1.78)*r*(1 + 0.448*r))\n",
    "    \n",
    "    if prime is False:\n",
    "        return thetae if with_units is False else thetae*units.kelvin\n",
    "    \n",
    "    # derivative of sat. vapour pressure w.r.t. temperature\n",
    "    dloges_dTk = a*b/(Tk - C + b)**2\n",
    "    # derivative of dew point w.r.t. temperature\n",
    "    dTd_dTk = a*b/(a - np.log(U*es/e0))**2 * dloges_dTk\n",
    "    # derivative of LCL temperature w.r.t. temperature\n",
    "    dTl_dTk = (-(1/(Td - 56) + np.log(Tk/Td)/800)**(-2)\n",
    "               *(-1/(Td - 56)**2*dTd_dTk + 1/800*(1/Tk - 1/Td*dTd_dTk)))\n",
    "    # derivative of log(LCL potential temperature) w.r.t. temperature\n",
    "    dlogthetadl_dTk = (1 + 0.28*r)/Tk - 0.28*r/Tl*dTl_dTk\n",
    "    # derivative of log(equivalent potential temperature) w.r.t. temperature\n",
    "    dlogthetae_dTk = dlogthetadl_dTk - 3036/Tl**2*r*(1 + 0.448*r)*dTl_dTk\n",
    "    \n",
    "    return (thetae if with_units is False else thetae*units.kelvin,\n",
    "            thetae*dlogthetae_dTk)"
   ]
  },
  {
   "cell_type": "code",
   "execution_count": 397,
   "metadata": {},
   "outputs": [
    {
     "data": {
      "text/plain": [
       "(array([336.71899422, 333.66640326]), array([1.21985471, 1.18740726]))"
      ]
     },
     "execution_count": 397,
     "metadata": {},
     "output_type": "execute_result"
    }
   ],
   "source": [
    "theta_e([500, 550]*units.mbar, [0, 5]*units.celsius, [1e-3, 1e-3]*units.dimensionless, prime=True)"
   ]
  },
  {
   "cell_type": "markdown",
   "metadata": {},
   "source": [
    "### Checking the $\\partial \\theta_E / \\partial T'$ function\n",
    "\n",
    "We test the function we have written against a finite difference approximation of the derivative."
   ]
  },
  {
   "cell_type": "code",
   "execution_count": 400,
   "metadata": {},
   "outputs": [],
   "source": [
    "def theta_e_metpy(T, p, q):\n",
    "    dewpoint = mpcalc.dewpoint_from_specific_humidity(\n",
    "        p, T*units.kelvin, q)\n",
    "    return mpcalc.equivalent_potential_temperature(\n",
    "        p, T*units.kelvin, dewpoint).m_as(units.kelvin)\n",
    "\n",
    "temperature = np.arange(-15+273.15, 20+273.15)\n",
    "pressure = np.ones(temperature.size)*700*units.mbar\n",
    "specific_humidity = np.ones(temperature.size)*1e-3*units.dimensionless"
   ]
  },
  {
   "cell_type": "code",
   "execution_count": 405,
   "metadata": {},
   "outputs": [
    {
     "name": "stdout",
     "output_type": "stream",
     "text": [
      "CPU times: user 5.77 ms, sys: 722 µs, total: 6.5 ms\n",
      "Wall time: 5.84 ms\n"
     ]
    }
   ],
   "source": [
    "%%time\n",
    "value_metpy = theta_e_metpy(temperature, pressure, specific_humidity)"
   ]
  },
  {
   "cell_type": "code",
   "execution_count": 406,
   "metadata": {},
   "outputs": [
    {
     "name": "stdout",
     "output_type": "stream",
     "text": [
      "CPU times: user 14.9 ms, sys: 296 µs, total: 15.2 ms\n",
      "Wall time: 15.1 ms\n"
     ]
    }
   ],
   "source": [
    "%%time\n",
    "diff_metpy = derivative(\n",
    "    theta_e_metpy, temperature, args=(pressure, specific_humidity),\n",
    "    dx=0.1, order=3)"
   ]
  },
  {
   "cell_type": "code",
   "execution_count": 409,
   "metadata": {},
   "outputs": [
    {
     "name": "stdout",
     "output_type": "stream",
     "text": [
      "CPU times: user 793 µs, sys: 1 µs, total: 794 µs\n",
      "Wall time: 801 µs\n"
     ]
    }
   ],
   "source": [
    "%%time\n",
    "value_new, diff_new = theta_e(\n",
    "    pressure, temperature*units.kelvin, specific_humidity, prime=True)"
   ]
  },
  {
   "cell_type": "markdown",
   "metadata": {},
   "source": [
    "The new function is more than 20 times faster than evaluating and numerically differentiating the MetPy function."
   ]
  },
  {
   "cell_type": "code",
   "execution_count": 410,
   "metadata": {},
   "outputs": [
    {
     "data": {
      "image/png": "[encoded data removed]",
      "text/plain": [
       "<Figure size 864x432 with 2 Axes>"
      ]
     },
     "metadata": {
      "needs_background": "light"
     },
     "output_type": "display_data"
    }
   ],
   "source": [
    "fig = plt.figure(figsize=(12,6))\n",
    "ax = fig.add_subplot(121)\n",
    "ax.plot(temperature, (diff_metpy - diff_new)/diff_metpy*100)\n",
    "ax.grid()\n",
    "ax.set(\n",
    "    xlabel='Temperature (K)',\n",
    "    ylabel='Percentage error',\n",
    "    title=r'Derivative vs. numerical derivative of MetPy function')\n",
    "\n",
    "ax = fig.add_subplot(122)\n",
    "ax.plot(temperature, (value_metpy - value_new)/value_metpy*100)\n",
    "ax.grid()\n",
    "ax.set(\n",
    "    xlabel='Temperature (K)',\n",
    "    ylabel='Percentage error',\n",
    "    title=r'$\\theta_E$')\n",
    "\n",
    "fig.tight_layout()\n",
    "fig.suptitle(r'Percentage discrepancy between our function and Metpy, '\n",
    "             '$p = 700$ mbar, $q = 1$ g/kg', y=1.05)\n",
    "plt.show()"
   ]
  },
  {
   "cell_type": "markdown",
   "metadata": {},
   "source": [
    "Even though we are using the same base formula from Bolton (1980) that MetPy uses, there is a systematic difference of about 1% between our exact result and the finite difference approximation of the MetPy function. The source of the discrepancy must be a technicality in the MetPy implementation, which is less direct than ours. It is likely that the very small difference in the value of $\\theta_E$ is being magnified by differentiation."
   ]
  },
  {
   "cell_type": "markdown",
   "metadata": {},
   "source": [
    "## Implementation"
   ]
  },
  {
   "cell_type": "code",
   "execution_count": 381,
   "metadata": {},
   "outputs": [],
   "source": [
    "def saturation_specific_humidity(pressure, temperature):\n",
    "    return mpcalc.specific_humidity_from_mixing_ratio(\n",
    "        mpcalc.saturation_mixing_ratio(pressure, temperature))"
   ]
  },
  {
   "cell_type": "code",
   "execution_count": 434,
   "metadata": {},
   "outputs": [],
   "source": [
    "def descend(\n",
    "        pressure, temperature, specific_humidity, liquid_ratio,\n",
    "        reference_pressure, improve=1):\n",
    "    \"\"\"\n",
    "    Calculates the temperature of a descending parcel.\n",
    "    \n",
    "    Uses conservation of equivalent potential temperature to determine\n",
    "    the final temperature if the parcel switches from a moist to a dry\n",
    "    adiabat.\n",
    "    \n",
    "    Args:\n",
    "        pressure: Final pressure.\n",
    "        temperature: Initial temperature.\n",
    "        specific_humidity: Initial specific humidity.\n",
    "        liquid_ratio: Initial liquid ratio.\n",
    "        reference_pressure: Initial pressure.\n",
    "        improve: Number of iterations to use if the parcel must switch\n",
    "            from moist to dry adiabat (default: 1). Alternatively,\n",
    "            specify False to skip iteration and take the moist\n",
    "            adiabatic value, or 'exact' to iterate until convergence.\n",
    "            \n",
    "    Returns:\n",
    "        Final temperature, specific humidity and liquid ratio.\n",
    "    \"\"\"\n",
    "    \n",
    "    # calculate dry adiabatic value outside if statement since it\n",
    "    # is needed for the guess in case 2.2\n",
    "    t_final_dry = mpcalc.dry_lapse(pressure, temperature, reference_pressure)\n",
    "    \n",
    "    if liquid_ratio <= 0:\n",
    "        # case 1: dry adiabat only\n",
    "        q_final = specific_humidity\n",
    "        l_final = 0*units.dimensionless\n",
    "        return t_final_dry, q_final, l_final\n",
    "    else:\n",
    "        # case 2: some moist descent\n",
    "        t_final_moist = moist_lapse(pressure, temperature, reference_pressure)\n",
    "        q_final_moist = saturation_specific_humidity(pressure, t_final_moist)\n",
    "        l_final_moist = specific_humidity + liquid_ratio - q_final_moist\n",
    "        if l_final_moist >= 0 or improve is False:\n",
    "            # case 2.1: moist adiabat only\n",
    "            return t_final_moist, q_final_moist, l_final_moist\n",
    "        else:\n",
    "            # case 2.2: adiabat switching\n",
    "            # use amount of liquid to place guess between dry and moist values\n",
    "            t_final_guess = (\n",
    "                t_final_dry.to(units.kelvin)\n",
    "                + liquid_ratio/(q_final_moist - specific_humidity).m\n",
    "                * (t_final_moist.to(units.kelvin)\n",
    "                   - t_final_dry.to(units.kelvin)))\n",
    "            q_final = specific_humidity + liquid_ratio\n",
    "            l_final = 0*units.dimensionless\n",
    "            \n",
    "            theta_e_initial = theta_e(\n",
    "                reference_pressure, temperature, specific_humidity)\n",
    "            if improve == 'exact':\n",
    "                # iterate until convergence using Newton's method\n",
    "                def root_function(T):\n",
    "                    value, slope = theta_e(\n",
    "                        pressure, T*units.kelvin, q_final, prime=True)\n",
    "                    return value - theta_e_initial, slope\n",
    "                sol = root_scalar(\n",
    "                    root_function, x0=t_final_guess.m,\n",
    "                    fprime=True, method='newton')\n",
    "                t_final = sol.root*units.kelvin\n",
    "            else:\n",
    "                # apply a fixed number of iterations\n",
    "                t_final = t_final_guess.m\n",
    "                for i in range(improve):\n",
    "                    value, slope = theta_e(\n",
    "                        pressure, t_final*units.kelvin, q_final, prime=True)\n",
    "                    t_final = t_final - (value - theta_e_initial)/slope\n",
    "                t_final = t_final*units.kelvin\n",
    "            \n",
    "            return t_final, q_final, l_final"
   ]
  },
  {
   "cell_type": "markdown",
   "metadata": {},
   "source": [
    "## Testing\n",
    "### Accuracy and rate of convergence\n",
    "\n",
    "We test our function on a parcel that starts saturated at 500 mbar with a temperature of -15 $^\\circ$C and a variable liquid water content, descending to 1000 mbar."
   ]
  },
  {
   "cell_type": "code",
   "execution_count": 412,
   "metadata": {},
   "outputs": [],
   "source": [
    "p_initial = 500*units.mbar\n",
    "p_final = 1000*units.mbar\n",
    "T_initial = -15*units.celsius\n",
    "# initially saturated parcel\n",
    "q_initial = saturation_specific_humidity(p_initial, T_initial)\n",
    "# values for moist descent only\n",
    "T_max_final = moist_lapse(p_final, T_initial, p_initial)\n",
    "q_max_final = saturation_specific_humidity(p_final, T_max_final)\n",
    "# ensure that adiabat switch is required\n",
    "l_initial = np.linspace(0, q_max_final - q_initial, 20)"
   ]
  },
  {
   "cell_type": "code",
   "execution_count": 432,
   "metadata": {},
   "outputs": [],
   "source": [
    "T_final_0 = []\n",
    "T_final_1 = []\n",
    "T_final_2 = []\n",
    "T_final_converged = []\n",
    "for i in range(l_initial.size):\n",
    "    # guess only\n",
    "    T, _, _ = descend(\n",
    "        p_final, T_initial, q_initial, l_initial[i], p_initial, improve=0)\n",
    "    T_final_0.append(T)\n",
    "    \n",
    "    # one iteration\n",
    "    T, _, _ = descend(\n",
    "        p_final, T_initial, q_initial, l_initial[i], p_initial, improve=1)\n",
    "    T_final_1.append(T)\n",
    "    \n",
    "    # two iterations\n",
    "    T, _, _ = descend(\n",
    "        p_final, T_initial, q_initial, l_initial[i], p_initial, improve=2)\n",
    "    T_final_2.append(T)\n",
    "    \n",
    "    # iteration until convergence\n",
    "    T, _, _ = descend(\n",
    "        p_final, T_initial, q_initial, l_initial[i], p_initial,\n",
    "        improve='exact')\n",
    "    T_final_converged.append(T)\n",
    "\n",
    "T_final_0 = concatenate(T_final_0)\n",
    "T_final_1 = concatenate(T_final_1)\n",
    "T_final_2 = concatenate(T_final_2)\n",
    "T_final_converged = concatenate(T_final_converged)"
   ]
  },
  {
   "cell_type": "code",
   "execution_count": 414,
   "metadata": {},
   "outputs": [],
   "source": [
    "# old method\n",
    "T_final_old = []\n",
    "for i in range(l_initial.size):\n",
    "    level, level_temp = evaporation_level(p_initial, T_initial, l_initial[i])\n",
    "    T = extra_liquid_descent_profile(\n",
    "        p_final, T_initial, level, level_temp, p_initial)\n",
    "    T_final_old.append(T)\n",
    "T_final_old = concatenate(T_final_old)"
   ]
  },
  {
   "cell_type": "code",
   "execution_count": 433,
   "metadata": {},
   "outputs": [
    {
     "data": {
      "image/png": "[encoded data removed]",
      "text/plain": [
       "<Figure size 936x432 with 2 Axes>"
      ]
     },
     "metadata": {
      "needs_background": "light"
     },
     "output_type": "display_data"
    }
   ],
   "source": [
    "fig = plt.figure(figsize=(13,6))\n",
    "\n",
    "ax = fig.add_subplot(121)\n",
    "ax.plot(l_initial*1e3, T_final_converged.to(units.celsius),\n",
    "        label='New method (fully converged)')\n",
    "ax.plot(l_initial*1e3, T_final_old, label='Old method')\n",
    "ax.grid()\n",
    "ax.legend()\n",
    "ax.set(\n",
    "    xlabel='Initial liquid ratio (g/kg)',\n",
    "    ylabel=r'Final temperature ($^\\circ$C)',\n",
    "    title='Final temperature')\n",
    "\n",
    "ax = fig.add_subplot(122)\n",
    "\n",
    "avg = np.average(np.abs(T_final_0.to(units.celsius) - T_final_converged)).m\n",
    "ax.plot(\n",
    "    l_initial*1e3, T_final_0.to(units.celsius) - T_final_converged,\n",
    "    label=r'Guess (avg: {:.1f} $^\\circ$C)'.format(avg))\n",
    "\n",
    "avg = np.average(np.abs(T_final_1.to(units.celsius) - T_final_converged)).m\n",
    "ax.plot(\n",
    "    l_initial*1e3, T_final_1.to(units.celsius) - T_final_converged,\n",
    "    label=r'1 iteration (avg: {:.1e} $^\\circ$C)'.format(avg))\n",
    "\n",
    "avg = np.average(np.abs(T_final_2.to(units.celsius) - T_final_converged)).m\n",
    "ax.plot(\n",
    "    l_initial*1e3, T_final_2.to(units.celsius) - T_final_converged,\n",
    "    label=r'2 iterations (avg: {:.1e} $^\\circ$C)'.format(avg))\n",
    "\n",
    "avg = np.average(np.abs(T_final_old.to(units.celsius) - T_final_converged)).m\n",
    "ax.plot(\n",
    "    l_initial*1e3, T_final_old.to(units.celsius) - T_final_converged,\n",
    "    label='Old method (avg: {:.1f} $^\\circ$C)'.format(avg), color='tab:red')\n",
    "\n",
    "ax.grid()\n",
    "ax.legend()\n",
    "ax.set(\n",
    "    xlabel='Initial liquid ratio (g/kg)',\n",
    "    ylabel=r'Final temperature ($^\\circ$C)',\n",
    "    title='Final temperature relative to converged solution')\n",
    "\n",
    "fig.suptitle(r'Saturated parcel starting at 500 mbar and -15$^\\circ$C, '\n",
    "             'descending to 1000 mbar')\n",
    "plt.show()"
   ]
  },
  {
   "cell_type": "markdown",
   "metadata": {},
   "source": [
    "Thanks to a good initial guess and the efficiency of Newton's method, only two iterations bring the relative error to within a few mK."
   ]
  },
  {
   "cell_type": "markdown",
   "metadata": {},
   "source": [
    "### Speed\n",
    "- The new method is about 8 times faster than the old one (iteratively finding the evaporation level, etc.)!\n",
    "- Iterating to improve the guess does not take appreciably longer."
   ]
  },
  {
   "cell_type": "code",
   "execution_count": 416,
   "metadata": {
    "scrolled": true
   },
   "outputs": [
    {
     "name": "stdout",
     "output_type": "stream",
     "text": [
      "63.8 ms ± 1.73 ms per loop (mean ± std. dev. of 7 runs, 20 loops each)\n"
     ]
    }
   ],
   "source": [
    "%%timeit -n 20\n",
    "# no iterations, moist descent only\n",
    "T, q, l = descend(\n",
    "    p_final, T_initial, q_initial, l_initial[5], p_initial, improve=False)"
   ]
  },
  {
   "cell_type": "code",
   "execution_count": 417,
   "metadata": {
    "scrolled": true
   },
   "outputs": [
    {
     "name": "stdout",
     "output_type": "stream",
     "text": [
      "63.9 ms ± 589 µs per loop (mean ± std. dev. of 7 runs, 20 loops each)\n"
     ]
    }
   ],
   "source": [
    "%%timeit -n 20\n",
    "# guess only\n",
    "T, q, l = descend(\n",
    "    p_final, T_initial, q_initial, l_initial[5], p_initial, improve=0)"
   ]
  },
  {
   "cell_type": "code",
   "execution_count": 418,
   "metadata": {
    "scrolled": true
   },
   "outputs": [
    {
     "name": "stdout",
     "output_type": "stream",
     "text": [
      "67.1 ms ± 5.03 ms per loop (mean ± std. dev. of 7 runs, 20 loops each)\n"
     ]
    }
   ],
   "source": [
    "%%timeit -n 20\n",
    "# one iteration\n",
    "T, q, l = descend(\n",
    "    p_final, T_initial, q_initial, l_initial[5], p_initial, improve=1)"
   ]
  },
  {
   "cell_type": "code",
   "execution_count": 419,
   "metadata": {},
   "outputs": [
    {
     "name": "stdout",
     "output_type": "stream",
     "text": [
      "65.7 ms ± 2.34 ms per loop (mean ± std. dev. of 7 runs, 20 loops each)\n"
     ]
    }
   ],
   "source": [
    "%%timeit -n 20\n",
    "# two iterations\n",
    "T, q, l = descend(\n",
    "    p_final, T_initial, q_initial, l_initial[5], p_initial, improve=2)"
   ]
  },
  {
   "cell_type": "code",
   "execution_count": 420,
   "metadata": {},
   "outputs": [
    {
     "name": "stdout",
     "output_type": "stream",
     "text": [
      "69.7 ms ± 6.56 ms per loop (mean ± std. dev. of 7 runs, 20 loops each)\n"
     ]
    }
   ],
   "source": [
    "%%timeit -n 20\n",
    "# three iterations\n",
    "T, q, l = descend(\n",
    "    p_final, T_initial, q_initial, l_initial[5], p_initial, improve=3)"
   ]
  },
  {
   "cell_type": "code",
   "execution_count": 421,
   "metadata": {},
   "outputs": [
    {
     "name": "stdout",
     "output_type": "stream",
     "text": [
      "516 ms ± 87.7 ms per loop (mean ± std. dev. of 7 runs, 1 loop each)\n"
     ]
    }
   ],
   "source": [
    "%%timeit\n",
    "# old method\n",
    "level, level_temp = evaporation_level(p_initial, T_initial, l_initial[5])\n",
    "T = extra_liquid_descent_profile(\n",
    "    p_final, T_initial, level, level_temp, p_initial)"
   ]
  },
  {
   "cell_type": "code",
   "execution_count": null,
   "metadata": {},
   "outputs": [],
   "source": []
  }
 ],
 "metadata": {
  "kernelspec": {
   "display_name": "Python 3",
   "language": "python",
   "name": "python3"
  },
  "language_info": {
   "codemirror_mode": {
    "name": "ipython",
    "version": 3
   },
   "file_extension": ".py",
   "mimetype": "text/x-python",
   "name": "python",
   "nbconvert_exporter": "python",
   "pygments_lexer": "ipython3",
   "version": "3.8.5"
  },
  "toc": {
   "base_numbering": 1,
   "nav_menu": {},
   "number_sections": true,
   "sideBar": true,
   "skip_h1_title": false,
   "title_cell": "Table of Contents",
   "title_sidebar": "Contents",
   "toc_cell": true,
   "toc_position": {},
   "toc_section_display": true,
   "toc_window_display": false
  }
 },
 "nbformat": 4,
 "nbformat_minor": 4
}
